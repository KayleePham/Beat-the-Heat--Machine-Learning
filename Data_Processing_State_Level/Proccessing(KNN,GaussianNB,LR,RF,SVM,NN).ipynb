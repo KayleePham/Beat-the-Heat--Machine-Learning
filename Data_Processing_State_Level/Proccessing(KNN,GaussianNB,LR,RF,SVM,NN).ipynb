{
 "cells": [
  {
   "cell_type": "code",
   "execution_count": 31,
   "id": "efficient-perception",
   "metadata": {},
   "outputs": [],
   "source": [
    "#Load libaries\n",
    "import os\n",
    "import pandas as pd \n",
    "import seaborn as sns\n",
    "import numpy as np \n",
    "import matplotlib.pyplot as plt \n",
    "from pydotplus import graph_from_dot_data\n",
    "from sklearn import preprocessing\n",
    "from sklearn.preprocessing import StandardScaler, LabelEncoder\n",
    "from scipy import stats\n",
    "from sklearn.linear_model import LogisticRegression\n",
    "from sklearn.naive_bayes import MultinomialNB\n",
    "from sklearn.naive_bayes import GaussianNB\n",
    "from sklearn.neighbors import KNeighborsClassifier\n",
    "from sklearn.ensemble import RandomForestClassifier, RandomForestRegressor\n",
    "from sklearn.svm import SVC \n",
    "from sklearn import svm, metrics\n",
    "from sklearn.model_selection import GridSearchCV, RandomizedSearchCV\n",
    "from sklearn.metrics import confusion_matrix, classification_report\n",
    "from sklearn.model_selection import train_test_split, GridSearchCV, cross_validate, cross_val_score, KFold\n",
    "from sklearn.model_selection import RepeatedStratifiedKFold\n",
    "from sklearn.linear_model import ElasticNet\n",
    "from sklearn.metrics import mean_squared_error\n",
    "from sklearn.metrics import roc_curve\n",
    "from sklearn.metrics import roc_auc_score\n",
    "\n",
    "#Load datasets\n",
    "#ex_data =  pd.read_csv('sayad_dataset.csv')\n",
    "data = pd.read_csv('CA_Wildfires.csv')                      # First build dataset on all CA\n",
    "#data = pd.read_csv('CA_Wildfires_by_county.csv')           # Data on 44 counties\n",
    "#data = pd.read_csv('CA_Wildfires_fire_seasonV2.csv')\n",
    "#data = pd.read_csv('CA_Wildfires_4_Counties_June-Oct.csv')\n",
    "#data = pd.read_csv('CA_Wildfires2020.txt')"
   ]
  },
  {
   "cell_type": "code",
   "execution_count": 32,
   "id": "linear-facing",
   "metadata": {},
   "outputs": [
    {
     "data": {
      "text/html": [
       "<div>\n",
       "<style scoped>\n",
       "    .dataframe tbody tr th:only-of-type {\n",
       "        vertical-align: middle;\n",
       "    }\n",
       "\n",
       "    .dataframe tbody tr th {\n",
       "        vertical-align: top;\n",
       "    }\n",
       "\n",
       "    .dataframe thead th {\n",
       "        text-align: right;\n",
       "    }\n",
       "</style>\n",
       "<table border=\"1\" class=\"dataframe\">\n",
       "  <thead>\n",
       "    <tr style=\"text-align: right;\">\n",
       "      <th></th>\n",
       "      <th>NDVI</th>\n",
       "      <th>LST</th>\n",
       "      <th>TA</th>\n",
       "      <th>Class</th>\n",
       "    </tr>\n",
       "  </thead>\n",
       "  <tbody>\n",
       "    <tr>\n",
       "      <th>0</th>\n",
       "      <td>0.241233</td>\n",
       "      <td>280.170902</td>\n",
       "      <td>5.0</td>\n",
       "      <td>No_fire</td>\n",
       "    </tr>\n",
       "    <tr>\n",
       "      <th>1</th>\n",
       "      <td>0.242536</td>\n",
       "      <td>281.678667</td>\n",
       "      <td>5.0</td>\n",
       "      <td>No_fire</td>\n",
       "    </tr>\n",
       "    <tr>\n",
       "      <th>2</th>\n",
       "      <td>0.243840</td>\n",
       "      <td>285.865983</td>\n",
       "      <td>5.0</td>\n",
       "      <td>No_fire</td>\n",
       "    </tr>\n",
       "    <tr>\n",
       "      <th>3</th>\n",
       "      <td>0.245143</td>\n",
       "      <td>283.249994</td>\n",
       "      <td>5.0</td>\n",
       "      <td>No_fire</td>\n",
       "    </tr>\n",
       "    <tr>\n",
       "      <th>4</th>\n",
       "      <td>0.246446</td>\n",
       "      <td>275.546052</td>\n",
       "      <td>4.0</td>\n",
       "      <td>No_fire</td>\n",
       "    </tr>\n",
       "  </tbody>\n",
       "</table>\n",
       "</div>"
      ],
      "text/plain": [
       "       NDVI         LST   TA    Class\n",
       "0  0.241233  280.170902  5.0  No_fire\n",
       "1  0.242536  281.678667  5.0  No_fire\n",
       "2  0.243840  285.865983  5.0  No_fire\n",
       "3  0.245143  283.249994  5.0  No_fire\n",
       "4  0.246446  275.546052  4.0  No_fire"
      ]
     },
     "execution_count": 32,
     "metadata": {},
     "output_type": "execute_result"
    }
   ],
   "source": [
    "data.head()"
   ]
  },
  {
   "cell_type": "code",
   "execution_count": 33,
   "id": "sudden-termination",
   "metadata": {},
   "outputs": [],
   "source": [
    "data[\"Class\"].replace({\"Fire\": 1, \"No_fire\": 0}, inplace=True)\n",
    "data = data[['NDVI','LST','TA','Class']]"
   ]
  },
  {
   "cell_type": "code",
   "execution_count": 34,
   "id": "quality-original",
   "metadata": {},
   "outputs": [
    {
     "data": {
      "text/html": [
       "<div>\n",
       "<style scoped>\n",
       "    .dataframe tbody tr th:only-of-type {\n",
       "        vertical-align: middle;\n",
       "    }\n",
       "\n",
       "    .dataframe tbody tr th {\n",
       "        vertical-align: top;\n",
       "    }\n",
       "\n",
       "    .dataframe thead th {\n",
       "        text-align: right;\n",
       "    }\n",
       "</style>\n",
       "<table border=\"1\" class=\"dataframe\">\n",
       "  <thead>\n",
       "    <tr style=\"text-align: right;\">\n",
       "      <th></th>\n",
       "      <th>NDVI</th>\n",
       "      <th>LST</th>\n",
       "      <th>TA</th>\n",
       "      <th>Class</th>\n",
       "    </tr>\n",
       "  </thead>\n",
       "  <tbody>\n",
       "    <tr>\n",
       "      <th>0</th>\n",
       "      <td>0.241233</td>\n",
       "      <td>280.170902</td>\n",
       "      <td>5.0</td>\n",
       "      <td>0</td>\n",
       "    </tr>\n",
       "    <tr>\n",
       "      <th>1</th>\n",
       "      <td>0.242536</td>\n",
       "      <td>281.678667</td>\n",
       "      <td>5.0</td>\n",
       "      <td>0</td>\n",
       "    </tr>\n",
       "    <tr>\n",
       "      <th>2</th>\n",
       "      <td>0.243840</td>\n",
       "      <td>285.865983</td>\n",
       "      <td>5.0</td>\n",
       "      <td>0</td>\n",
       "    </tr>\n",
       "    <tr>\n",
       "      <th>3</th>\n",
       "      <td>0.245143</td>\n",
       "      <td>283.249994</td>\n",
       "      <td>5.0</td>\n",
       "      <td>0</td>\n",
       "    </tr>\n",
       "    <tr>\n",
       "      <th>4</th>\n",
       "      <td>0.246446</td>\n",
       "      <td>275.546052</td>\n",
       "      <td>4.0</td>\n",
       "      <td>0</td>\n",
       "    </tr>\n",
       "    <tr>\n",
       "      <th>...</th>\n",
       "      <td>...</td>\n",
       "      <td>...</td>\n",
       "      <td>...</td>\n",
       "      <td>...</td>\n",
       "    </tr>\n",
       "    <tr>\n",
       "      <th>726</th>\n",
       "      <td>0.323556</td>\n",
       "      <td>285.095924</td>\n",
       "      <td>5.0</td>\n",
       "      <td>0</td>\n",
       "    </tr>\n",
       "    <tr>\n",
       "      <th>727</th>\n",
       "      <td>0.322612</td>\n",
       "      <td>279.868729</td>\n",
       "      <td>8.0</td>\n",
       "      <td>0</td>\n",
       "    </tr>\n",
       "    <tr>\n",
       "      <th>728</th>\n",
       "      <td>0.321667</td>\n",
       "      <td>281.404568</td>\n",
       "      <td>5.0</td>\n",
       "      <td>0</td>\n",
       "    </tr>\n",
       "    <tr>\n",
       "      <th>729</th>\n",
       "      <td>0.320723</td>\n",
       "      <td>284.108339</td>\n",
       "      <td>5.0</td>\n",
       "      <td>0</td>\n",
       "    </tr>\n",
       "    <tr>\n",
       "      <th>730</th>\n",
       "      <td>0.319778</td>\n",
       "      <td>279.166502</td>\n",
       "      <td>5.0</td>\n",
       "      <td>0</td>\n",
       "    </tr>\n",
       "  </tbody>\n",
       "</table>\n",
       "<p>731 rows × 4 columns</p>\n",
       "</div>"
      ],
      "text/plain": [
       "         NDVI         LST   TA  Class\n",
       "0    0.241233  280.170902  5.0      0\n",
       "1    0.242536  281.678667  5.0      0\n",
       "2    0.243840  285.865983  5.0      0\n",
       "3    0.245143  283.249994  5.0      0\n",
       "4    0.246446  275.546052  4.0      0\n",
       "..        ...         ...  ...    ...\n",
       "726  0.323556  285.095924  5.0      0\n",
       "727  0.322612  279.868729  8.0      0\n",
       "728  0.321667  281.404568  5.0      0\n",
       "729  0.320723  284.108339  5.0      0\n",
       "730  0.319778  279.166502  5.0      0\n",
       "\n",
       "[731 rows x 4 columns]"
      ]
     },
     "execution_count": 34,
     "metadata": {},
     "output_type": "execute_result"
    }
   ],
   "source": [
    "data"
   ]
  },
  {
   "cell_type": "code",
   "execution_count": 35,
   "id": "expensive-climb",
   "metadata": {},
   "outputs": [
    {
     "data": {
      "text/plain": [
       "5.0    474\n",
       "9.0    189\n",
       "8.0     50\n",
       "4.0     18\n",
       "Name: TA, dtype: int64"
      ]
     },
     "execution_count": 35,
     "metadata": {},
     "output_type": "execute_result"
    }
   ],
   "source": [
    "data.TA.value_counts()"
   ]
  },
  {
   "cell_type": "code",
   "execution_count": 36,
   "id": "extra-nomination",
   "metadata": {},
   "outputs": [],
   "source": [
    "data = data[data.TA !=4]"
   ]
  },
  {
   "cell_type": "code",
   "execution_count": 37,
   "id": "invisible-sociology",
   "metadata": {},
   "outputs": [
    {
     "data": {
      "text/plain": [
       "5.0    474\n",
       "9.0    189\n",
       "8.0     50\n",
       "Name: TA, dtype: int64"
      ]
     },
     "execution_count": 37,
     "metadata": {},
     "output_type": "execute_result"
    }
   ],
   "source": [
    "data.TA.value_counts()\n"
   ]
  },
  {
   "cell_type": "code",
   "execution_count": 38,
   "id": "shaped-banner",
   "metadata": {},
   "outputs": [
    {
     "data": {
      "text/plain": [
       "0    421\n",
       "1    292\n",
       "Name: Class, dtype: int64"
      ]
     },
     "execution_count": 38,
     "metadata": {},
     "output_type": "execute_result"
    }
   ],
   "source": [
    "Count=data.Class.value_counts() #count target feature \n",
    "Count"
   ]
  },
  {
   "cell_type": "code",
   "execution_count": 39,
   "id": "continent-watts",
   "metadata": {},
   "outputs": [
    {
     "name": "stdout",
     "output_type": "stream",
     "text": [
      "Proportion: 1.44 : 1\n"
     ]
    }
   ],
   "source": [
    "print('Proportion:', round(Count[0] / Count[1], 2), ': 1')\n"
   ]
  },
  {
   "cell_type": "code",
   "execution_count": 236,
   "id": "electronic-salem",
   "metadata": {},
   "outputs": [
    {
     "data": {
      "text/html": [
       "<div>\n",
       "<style scoped>\n",
       "    .dataframe tbody tr th:only-of-type {\n",
       "        vertical-align: middle;\n",
       "    }\n",
       "\n",
       "    .dataframe tbody tr th {\n",
       "        vertical-align: top;\n",
       "    }\n",
       "\n",
       "    .dataframe thead th {\n",
       "        text-align: right;\n",
       "    }\n",
       "</style>\n",
       "<table border=\"1\" class=\"dataframe\">\n",
       "  <thead>\n",
       "    <tr style=\"text-align: right;\">\n",
       "      <th></th>\n",
       "      <th>NDVI</th>\n",
       "      <th>LST</th>\n",
       "      <th>TA</th>\n",
       "      <th>Class</th>\n",
       "    </tr>\n",
       "  </thead>\n",
       "  <tbody>\n",
       "    <tr>\n",
       "      <th>0</th>\n",
       "      <td>0.241233</td>\n",
       "      <td>280.170902</td>\n",
       "      <td>5.0</td>\n",
       "      <td>0</td>\n",
       "    </tr>\n",
       "    <tr>\n",
       "      <th>1</th>\n",
       "      <td>0.242536</td>\n",
       "      <td>281.678667</td>\n",
       "      <td>5.0</td>\n",
       "      <td>0</td>\n",
       "    </tr>\n",
       "    <tr>\n",
       "      <th>2</th>\n",
       "      <td>0.243840</td>\n",
       "      <td>285.865983</td>\n",
       "      <td>5.0</td>\n",
       "      <td>0</td>\n",
       "    </tr>\n",
       "    <tr>\n",
       "      <th>3</th>\n",
       "      <td>0.245143</td>\n",
       "      <td>283.249994</td>\n",
       "      <td>5.0</td>\n",
       "      <td>0</td>\n",
       "    </tr>\n",
       "    <tr>\n",
       "      <th>6</th>\n",
       "      <td>0.249052</td>\n",
       "      <td>286.090648</td>\n",
       "      <td>5.0</td>\n",
       "      <td>0</td>\n",
       "    </tr>\n",
       "  </tbody>\n",
       "</table>\n",
       "</div>"
      ],
      "text/plain": [
       "       NDVI         LST   TA  Class\n",
       "0  0.241233  280.170902  5.0      0\n",
       "1  0.242536  281.678667  5.0      0\n",
       "2  0.243840  285.865983  5.0      0\n",
       "3  0.245143  283.249994  5.0      0\n",
       "6  0.249052  286.090648  5.0      0"
      ]
     },
     "execution_count": 236,
     "metadata": {},
     "output_type": "execute_result"
    }
   ],
   "source": [
    "data.head()"
   ]
  },
  {
   "cell_type": "code",
   "execution_count": 40,
   "id": "right-closer",
   "metadata": {},
   "outputs": [
    {
     "name": "stdout",
     "output_type": "stream",
     "text": [
      "<class 'pandas.core.frame.DataFrame'>\n",
      "Int64Index: 713 entries, 0 to 730\n",
      "Data columns (total 4 columns):\n",
      " #   Column  Non-Null Count  Dtype  \n",
      "---  ------  --------------  -----  \n",
      " 0   NDVI    713 non-null    float64\n",
      " 1   LST     713 non-null    float64\n",
      " 2   TA      713 non-null    float64\n",
      " 3   Class   713 non-null    int64  \n",
      "dtypes: float64(3), int64(1)\n",
      "memory usage: 27.9 KB\n"
     ]
    }
   ],
   "source": [
    "data.info()"
   ]
  },
  {
   "cell_type": "code",
   "execution_count": 41,
   "id": "broke-biography",
   "metadata": {},
   "outputs": [
    {
     "data": {
      "text/html": [
       "<div>\n",
       "<style scoped>\n",
       "    .dataframe tbody tr th:only-of-type {\n",
       "        vertical-align: middle;\n",
       "    }\n",
       "\n",
       "    .dataframe tbody tr th {\n",
       "        vertical-align: top;\n",
       "    }\n",
       "\n",
       "    .dataframe thead th {\n",
       "        text-align: right;\n",
       "    }\n",
       "</style>\n",
       "<table border=\"1\" class=\"dataframe\">\n",
       "  <thead>\n",
       "    <tr style=\"text-align: right;\">\n",
       "      <th></th>\n",
       "      <th>NDVI</th>\n",
       "      <th>LST</th>\n",
       "      <th>TA</th>\n",
       "      <th>Class</th>\n",
       "    </tr>\n",
       "  </thead>\n",
       "  <tbody>\n",
       "    <tr>\n",
       "      <th>count</th>\n",
       "      <td>713.000000</td>\n",
       "      <td>713.000000</td>\n",
       "      <td>713.000000</td>\n",
       "      <td>713.000000</td>\n",
       "    </tr>\n",
       "    <tr>\n",
       "      <th>mean</th>\n",
       "      <td>0.347496</td>\n",
       "      <td>299.580469</td>\n",
       "      <td>6.270687</td>\n",
       "      <td>0.409537</td>\n",
       "    </tr>\n",
       "    <tr>\n",
       "      <th>std</th>\n",
       "      <td>0.069853</td>\n",
       "      <td>10.773156</td>\n",
       "      <td>1.806184</td>\n",
       "      <td>0.492094</td>\n",
       "    </tr>\n",
       "    <tr>\n",
       "      <th>min</th>\n",
       "      <td>0.211590</td>\n",
       "      <td>275.767384</td>\n",
       "      <td>5.000000</td>\n",
       "      <td>0.000000</td>\n",
       "    </tr>\n",
       "    <tr>\n",
       "      <th>25%</th>\n",
       "      <td>0.288568</td>\n",
       "      <td>289.960760</td>\n",
       "      <td>5.000000</td>\n",
       "      <td>0.000000</td>\n",
       "    </tr>\n",
       "    <tr>\n",
       "      <th>50%</th>\n",
       "      <td>0.339890</td>\n",
       "      <td>301.138505</td>\n",
       "      <td>5.000000</td>\n",
       "      <td>0.000000</td>\n",
       "    </tr>\n",
       "    <tr>\n",
       "      <th>75%</th>\n",
       "      <td>0.399713</td>\n",
       "      <td>308.732448</td>\n",
       "      <td>9.000000</td>\n",
       "      <td>1.000000</td>\n",
       "    </tr>\n",
       "    <tr>\n",
       "      <th>max</th>\n",
       "      <td>0.588486</td>\n",
       "      <td>318.525754</td>\n",
       "      <td>9.000000</td>\n",
       "      <td>1.000000</td>\n",
       "    </tr>\n",
       "  </tbody>\n",
       "</table>\n",
       "</div>"
      ],
      "text/plain": [
       "             NDVI         LST          TA       Class\n",
       "count  713.000000  713.000000  713.000000  713.000000\n",
       "mean     0.347496  299.580469    6.270687    0.409537\n",
       "std      0.069853   10.773156    1.806184    0.492094\n",
       "min      0.211590  275.767384    5.000000    0.000000\n",
       "25%      0.288568  289.960760    5.000000    0.000000\n",
       "50%      0.339890  301.138505    5.000000    0.000000\n",
       "75%      0.399713  308.732448    9.000000    1.000000\n",
       "max      0.588486  318.525754    9.000000    1.000000"
      ]
     },
     "execution_count": 41,
     "metadata": {},
     "output_type": "execute_result"
    }
   ],
   "source": [
    "data.describe() # Statistic summary"
   ]
  },
  {
   "cell_type": "code",
   "execution_count": 42,
   "id": "special-alfred",
   "metadata": {},
   "outputs": [
    {
     "data": {
      "text/plain": [
       "NDVI     0\n",
       "LST      0\n",
       "TA       0\n",
       "Class    0\n",
       "dtype: int64"
      ]
     },
     "execution_count": 42,
     "metadata": {},
     "output_type": "execute_result"
    }
   ],
   "source": [
    "data.isnull().sum() # return number of missing value for each column"
   ]
  },
  {
   "cell_type": "code",
   "execution_count": 43,
   "id": "phantom-setup",
   "metadata": {},
   "outputs": [],
   "source": [
    "#data = data.fillna(data.mean()) #Fill 13 missing values in NDVI with average NDVI\n",
    "#data = data.dropna() #drop all rows contain NaN"
   ]
  },
  {
   "cell_type": "code",
   "execution_count": 44,
   "id": "efficient-stretch",
   "metadata": {},
   "outputs": [
    {
     "data": {
      "text/plain": [
       "NDVI    0.458225\n",
       "LST    -0.225918\n",
       "TA      0.747841\n",
       "dtype: float64"
      ]
     },
     "execution_count": 44,
     "metadata": {},
     "output_type": "execute_result"
    }
   ],
   "source": [
    "data.drop(columns='Class').skew(axis = 0) # return skewness of each independent feature"
   ]
  },
  {
   "cell_type": "code",
   "execution_count": 45,
   "id": "invisible-application",
   "metadata": {},
   "outputs": [
    {
     "data": {
      "image/png": "iVBORw0KGgoAAAANSUhEUgAAA6sAAACzCAYAAABvj4ruAAAAOXRFWHRTb2Z0d2FyZQBNYXRwbG90bGliIHZlcnNpb24zLjMuMiwgaHR0cHM6Ly9tYXRwbG90bGliLm9yZy8vihELAAAACXBIWXMAAAsTAAALEwEAmpwYAABu2ElEQVR4nO3deXxU9bn48c+ZNZN9X0lCAgGSsIkguIC443Jbd+xF3BWlVltLa7XYXuqlWrefQq0VrNpbC0qxVkUqVEBFAQEBEcK+BJKQhCSTPZNZzvn9ERMJgZBl9nner1daOXNmzvOd5XvOc76bommahhBCCCGEEEII4Ud0vg5ACCGEEEIIIYQ4mSSrQgghhBBCCCH8jiSrQgghhBBCCCH8jiSrQgghhBBCCCH8jiSrQgghhBBCCCH8jiSrQgghhBBCCCH8jsHXAZxJWVlZp3+np6d32RYqQrnsENrll7J3rQeCjTc/32D/Pkn5Alcwlw16Xz6p63wj2L+HJ5PyBq9AKWt3dZ20rAohhBBCCCGE8DuSrAohhBBCCCGE8DuSrAohhBBCCCGE8DuSrAohhBBCCCGE8Dt+P8GS8A3N6UT7/GO0LevB5UIZUohy0VUosQm+Dk0IIYSbWVucLNtjpaiyGYNOYUx6BFPy4rAY5Z62EJ5WVengwO5WVBWyB5lIzzT5OiQh/IachUQXmtOB+qffoy1eAM2NoKloH7+L+th9qP9eiqa6fB2iEEIIN/mqpIEff3iQfxZVo2rQ5HDx5tbjPPLvw5TW230dnhBBreyonQ2fNlFf66KlWeXrdc3s32XzdVhC+A1pWRVdaP/6O3y7GWXa/SgXXomiKGjHy1GXvoH2z/9D274Z3f2PosTE+TpUr3K5XNhsbScQRVG8euzS0lJaWlq8ekxv0zQNgLCwMPR6vY+j8T/u/P4F+/fpVOWT79epfVlcz3NflpEbF8Yj56eTEd3WorO9vInnvijjN6uO8MwV2SSEG30cqRDBp7nJxTebmomN1zPhwkh0eti6oZld223EJRpISJLL9EDgy+vDM/Hl+d5d5135FYhOtKOH0Fa+hzLpCnSTr+rYriSlorv/V2gbPkV760+ov/85uh/PRsnK9WG03uNyuWhpaSEiIsInFZHRaPS7CtATNE2jqakJi8UiCcUJ3P39C/bv0+nKJ9+vzvZUtfDCujKGJlr47UWZnbr8jkyN4H8uzuSx/xTz4rpjzLkkE10Qf2eE8IVd39jQNBhzbjgGY9vva9Q54dRU1bNzawsTL4sM6ro6GPj6+vBMfH2+d8d5V7oBi07UZW9DWDjKDbd3eUxRFHTnXoTu0adBA/UPj6Lt+sYHUXqfzWbz24oomCiKQkRERMcdStFGvn/uId+v7zW0unh2bSnxFiOzLxxwyrGpufFh3H12CtsrmvnkQJ0PohQieNXXuig76iB3iJnwiO8v4g0GhfyRFuqsLspLHT6MUPSEnJ+7547zriSrooNWXgpb1qNc8l8o4ZGn3U/JGoTu189DUirq/CfRdmzxYpS+IxWRd8j7fGryvriHvI9tXttcgdXm5BcXpBNpPv3d7ssGxZCfZOHv3xynxaF6MUIhgtuhva3o9ZA7xNzlsYwsI5ZwhYN7W30QmegtOa90r7/vjySrooO27hPQ6VAunHLGfZWYOHQ/nwupGagvz0Xbv8sLEfqOVETeJe93Z/J+uFeov5/flDfx6eF6rstPYEiipdt9FUXhzjHJ1NpcfLi7xksRChHcnA6N0qN20rNMmMxdL8UVnUJOnpma4y7qa2VSS38W6ueTnurP+yTJqgBAU11o69bA8LNRYuN79BwlKhrdI09CfGLb7MHHyz0cpRBCiP6wu1T+vLGc1EgjNw3v2VJkQxMtnJ0ewbK9VuwuaV0Vor9Kj9hxOSEr9/RL1AwYaEJR2vYVIpRJsiraHNgDdTUoEyb36mlKZDS6nzwBLmdbwuqQSlUIIfzVh7utlDU4uP+cVMyGnl8C/DA/njqbi88P13swOiFCQ+kRBxFROuISTt8F3xymIzHFQOkRR8esqkKEIpkNWACgffMV6A0ohWN6/VwldQC6ux9pG7/6z7+hTL3bAxEKd7nlllvQNI3XX3+diIiITo89/fTTlJaWMn/+fG655RYqKio6HjMYDMTGxjJ27FjuuusukpKSAPjDH/7AunXrePfddzEYulYpH3zwAfPnz2fJkiUUFxfzs5/9jLfeeouMjAzPFlT4nVtuuYXLLruMu+8+dR1RXV3NX//6VzZs2IDVaiUqKopRo0Yxffp0cnNzO17jxO/lyVJSUnj33Xc9En+ga2x18W5RNWPTIzgrLeLMTzjByJRwsmPNLN9by6WDYj0ToBAhoLVVpfq4k7x88xm7RmZkmdi2sRlrtYv4RLlkF57z9NNPs2LFim73Wbx4MampqTzyyCNs3bqVefPmMWLECI/HJt98AYD2zSYYOhwlvHcXMO2UkeNQLroK7ZP30c6agDKk0M0RCneqrKzklVdeYdasWd3ud+ONN/KjH/0IALvdztGjR3nttdeYOXMmf/rTn0hKSuKqq67i448/ZuPGjZx33nldXmPFihWce+65xMXFUVxc7JHyiMBnt9v56U9/SkpKCrNnzyY5OZmamhoWL17Mgw8+yJ///GeysrL485//jKq2dUXdsWMHv/3tb3n55ZdJTU0FQKeTDkOn88+iaprtKtNHJ/X6uYqicNmgGF77upLi2layY7tOCiOEOLOKUgdokJpx5rWLUzOMKErbcyRZFZ704IMPct9993X8+4YbbuCBBx7g0ksv7dgWExPDsWPH2LZtG1lZWXzwwQdeSVblrC7QKsqgvARl1Dn9eh3lhjshPgl10Z/RnE43RSc8IT09nY8++oiNGzd2u19YWBjx8fHEx8eTmprKuHHjeO655wBYuHAhACNGjCArK4v//Oc/XZ5/9OhRioqKuOaaa9xfCBFUvv76a0pKSvj1r3/NyJEjSU1NpaCggN/+9rdYLBaWLVsGQGxsbMd3Mjo6Gmg7gbZvi42N9WEp/Fd1s4MP91iZNDCagXFhfXqNSQOj0Suw+qAsYyNEX5WXOrCEK8TEnXnNSaNJIT7JQMUxWcJGeFZkZGTHeTQ+vm3umoiIiE7b9Ho9//73v0lJSeH666/ns88+o67O8+cDSVYF2u7tAH3qAnwixWxGd8u9UFqMtuYjd4QmPOTiiy9m3LhxPP/88zQ1NfXquVFRUUyZMoXPP/8cu71tjPJVV13FunXrurzWihUrSElJYezYsW6LXQSn9hbR9evXd9puMBiYP39+Rwu/6JslO6pxqRr/PTKxz68RE2ZgbEYknx2uR5UxdEL0murSqKpwkpJu7PHsqClpBhrqVFqaZXIz4VuqqrJixQrOPvtsJk2ahMvlYvny5R4/rvQpELB3B8TEQ3Ja/19r9HgYfjbah4vRzrsYJSKq/6/pp9R1q9G+/MQ7x1KULhMsKOdfiu68i/v8mrNmzeKuu+7iT3/6E7/4xS969dxBgwbR2tpKaWkpOTk5XHHFFbz22mt8/vnnXHnllQBomsYnn3zClClTpGumB6w+WMeqA7V9eq6i6NC0/l34XDIolotzY/r1Gic6++yzyc/P59lnn2XRokWMHTuWkSNHMmbMGNLT0912nFBUVm9n5f5apuTFkhp1+tlHe+L8rCi+KmlkT1UL+UnhbopQiNBgrXbhckFiSs8vv5PTjRR9Y6PymIPsQdL9PlAcPWTn6CHfrJObmWMmM6d/df2pbN68mcrKSiZPnkxcXBxnnXUWy5Yt45ZbbvHoEj5yBRniNE1D27sDZUihW75oiqKgu+F2sLWgrfinGyIUnpKcnMwDDzzA8uXLz9gd+GSRkZEANDY2Am1dM88777xOXYG3bNnC8ePHO5JXIbpjMBh48cUXuf/++4mMjOTDDz/kySef5IYbbuDpp5+mpaXF1yEGrEXbj2PUKdw8vO+tqu3GZkRi0MGGo41uiEyI0HK8wgEKJCb3PFmNjNJhCVc4Xi7Dq4RvLV++vCNJhbZeemVlZWzatMmjx5WW1VB3vBxqa2DIcLe9pDJgIMq4iWirlqFd8gOUmDi3vbY/0Z13MfSjZbM3jEYjDof7x6xcffXVfPbZZzz//PO8/vrrPX5ee3ff9qQV2roCP/744xw/fpykpCRWrFjB2LFjSUlJcXvc/aGqKkuXLmXVqlU0NTUxbNgw7rnnno4Jek7W0NDAG2+8wdatWwGYMGECt99+O2FhbeP+nE4nS5YsYe3atdTX15OZmcmNN97o8a7PF+fG9Lll01Pfp/4ymUxMnTqVqVOn0tjYyDfffMOaNWtYsWIFDoeDJ554wtchBpyDNTbWFjdwU2ECcZb+n/IjTHpGpESw4WgDd5yV5NG76UIEm6oKJ7FxeoymnrcVKYpCQrKBymNONE2T31yAyMwxeaR101fq6upYt24dV111FXp923jrSZMm8eKLL/LBBx9wzjn9m/emO9KyGuK0vTsA3D57r/KD/wanA+1jaV31d7NmzaKpqYk//elPPX7O3r17CQsLIzMzs2PbuHHjSExMZNWqVbS0tLB27VquuuoqT4TcL0uXLmXlypXMmDGDuXPnotfrmTt3bsf425O98MILlJeX88QTTzBr1iy+/fZbFixY0PH4//3f//Hpp58yY8YMXnjhBc455xyeffZZ9u3b560iBYWPPvqI9957r+PfkZGRnH/++cyePZvrr7++y1hW0TNvfXOcKJOO6wri3faa52ZGUd7ooLjWN13chAhEDodGbY2LpNTe3zRKSDJgb9VorJdxq8I3/vOf/+BwOPjwww+55JJLuOSSS/jhD3+Iw+Fg/fr1HD9+3GPHlmQ11O3dCZHRkJZ55n17QUlJRzlnEtraFWhNDW59beFeJ3YH/vbbb8+4f1NTEytWrODiiy/utK6qTqdjypQprFmzhi+++AKLxcL555/vydB7zeFwsGzZMm666SbGjBlDdnY2Dz/8MLW1tWzYsKHL/nv27GHnzp3MnDmT3NxcCgsLmTFjBl9++SVVVVUd+911112MHj26Y4a88PBwduzY4c2iBbzi4mLefPPNjq7lJ4qOjiYuLjh7aHjSjopmvi5r4vrCBCJMZ555tKfGDWjrUbG5rHeTswkRymqOO9G03nUBbtf+nKpK6QosfOPf//43WVlZvPbaa53+fv3rX6OqaseM/Z4gyWqI0w7vg0HDPNKtRLniOmi1oX36b7e/tnCvq6++mnPOOYeysrJO2202GzU1NdTU1FBeXs6GDRv42c9+hqIo3HXXXV1e58orr2T//v28++67XH755Z2SWX9w+PBhbDYbhYXf9yQIDw8nJyeHoqKiLvvv2rWLmJgYBgwY0LEtPz+/4zFoS1QnTJgAQGtrKx999BE2m43hw93XtT6YlJWVsXHjxk5/X3/9NTfffDMmk4mHHnqIzz77jGPHjrFv3z7effdd3n77bW677TZfhx5QNE3j/7ZVkmAxcPUQ9yb68RYDA2PNfHNMklUheqqmyomiQGxC78+Lloi2cavVxyVZFd63Z88eDh48yHXXXUdOTk6nv0svvZS8vDyWL1+Oy+XyyPH960pSeJVma25bX3XcRI+8vjIgp21m4FUfol32QxSTzGLnz2bNmsWdd97ZadvSpUtZunQp0LbmalJSEuPHj2fq1KkkJCR0eY3U1FTGjBnD5s2b+fWvf+2VuHujpqYGoEvscXFxVFdXn3L/9vXG2hkMBqKjo7vsv3r1al599VU0TeOmm24iLy/PzdEHh9WrV7N69epO2yIiIli2bBl/+tOfeOutt3j11VepqqrCYDAwZMgQnnjiCc477zwfRRyY2mbstfHj8amYDe6/Lz06LYJle6zYnCphHnh9IYKNtcpJTJweg6H3jQMyblX40vLly4mIiOCKK6445eM333wzc+fO5YsvvuDCCy90+/ElWQ1lRw6CpqEM9NxFtW7KDajPPY62bjXKZJkV1h+8/fbbp9yelJTUqRvH6fY7k2efffa0j40ePZo1a9b06XXdobW1bYyd0WjstP10Ew7Z7fYu+0JbwnryGNeRI0fyhz/8ge3bt7N48WKio6NPW7GfSnfLs5SWlp4yjv5w9+v1xLvvvtvt4+np6fzyl7/s8euNGzeOL7744pSPdVc+i8US8MvhdBe/S9V4++MjZMeHc+sFwzB4YOmoS+1h/GtXDcecFs7P6nrjqj8C/bM5k2Avn+hKVTWsNS6yc/s+4U58ooGSww6aGlUio9zXrV+IUznxWu1nP/sZP/vZz06776WXXsqll17qsVgkWQ1h2uH9bf+RPchzBxlSCDlD0Fa+hzbpchSdVLDCd0ymtgsFh8PRqYuyw+HomN335P1PlcQ6nc4u+ycmJpKYmMjAgQMpLy/n/fff71WyenIX7BO1tLS49U66v84G7C5nKl9LS0u377e/S09P7zb+Tw7Ucqi6mUcnplNZXu6RGJJ1Kia9wqqdR8gJc99ES2cqW6DrbfkksQ0O9bUuVFdbwtlXcd91H7ZWuyRZFSFF+u6EssP7ID4JJTrWY4dQFAXdlOvblsjZIrN5Ct9KTGxbZ9JqtXbabrVau3T3hbbuwifv63Q6qa+vJyEhAbvdzoYNGzq6F7fLysrqsk0Ib7C7VBZvryIvIYxzM6M8dhyzQUdBkoXtx5o9dgwhgkVNVdtYvrh+JKtR0ToMBqitlnGrIrRIshrCtOL9MHCw5w80ejwkp6N+/E80TfP88YQ4jezsbCwWCzt37uzY1tzczKFDhygoKOiyf35+PrW1tZ1aQtonYsrPz0ev1/PKK6906dq8f/9+MjIyPFQKIU7v33trqWp2cttoz6+BWpgSTnFdKw2tnplUQ4hgYa1yEhauYAnv+2W3olOITTBgrZbfmwgtkqyGKK2pESqPeXS8ajtFp0e54loo3g97zrw0ihCeYjQamTJlCosXL2bTpk0UFxfz0ksvER8fz4QJE1BVldra2o7xqHl5eQwdOpSXXnqJ/fv3U1RUxMKFC5k0aRLx8fHo9Xquvvpq3n//fdatW8exY8d47733WLt2LVOnTvVxaUWoqbc5eWdHFaPTIhiZGuHx4xUmhQNQdFxaV4XoTk21k/g+zAJ8srgEPfW1LpxOufEvQoeMWQ1VRw4AoGR7oWUVUM69GO39Ragfv4t+2EivHNOdpEXYuzz5fk+dOhVVVVmwYAE2m438/Hwef/xxDAYDlZWVPPjgg8ycOZPJkyejKAqzZs3iL3/5C3PmzMFkMjF+/HjuuOOOjte78cYbMZvNLF68mOrqajIyMvj5z3/OOeec47aY5fvnXsH6fi7aXkWLQ+XuMcleOV5eYhgGnUJRZQvjB3iuy7EQgaylWcXWrBE/1B3JqgFNa6XO6iIhSS7h/UGwnk/crT/vk3zTQ5R29GDbf2TmeuV4itGEcsl/ob33N7Sjh1Ayc7xyXCFOptPpmDZtGtOmTevyWHJyMkuWLOm0LSYmhkceeaTb1/vhD3/ID3/4Q7fHKkRPFde2smJ/LVPyYsmK9c4yYSa9jiEJYeyslJZVIU6ntqZtjGlsfP8nRWp/DWu1U5JVETK80g24rKyM6dOns2rVKm8cTvRESTHExKNERXvtkMqFV4LZgvbxP712THfR6XQeW+xYdOZyudB5YKmNQCbfP/cJxu+Xpmn85esKwo06fjQyyavHLkgO50CNjRaH6tXjChEo6mtdoEBUbP+TVXOYjvBInYxb9SNyfj6z/p53PX7GdjqdzJ8/v2N9Q+EftNJiyMj26jGViEiUSZejbV6LdqzEq8fur7CwMFpaWqS7h4dpmkZLS8spl5EJZfL9c49g/X5tLG3km/JmbhmRSLTZu0taFCZbUDXYU9Xi1eMKESjqrC4io3QYDO6Z8Cw2Tk9djcwI7C/k/Nw9d5x3Pd6HYMmSJUF3YRDoNJcLyo6gXHy114+tTLkBbe1K1HffRP/gbK8fv68URcFisXRUSJ6eZfNk7ccOZu3vq8Vi8fr76+/c/f0L9u/TqcoXrN8vh0vljS2VDIg2ceWQOK8ff1iSBQXYdbyZ0Wmen9RJiEDj7vGlMXF6yo46sLeqmMzB1UskEPn6+vBMfHm+d9d516PJalFREZ988gnPPPMMM2fO9OShRG9UHgOnw+stqwBKdCzKVTeh/fP/0Iq2oRSM7nZ/rakRGushMcU7AXZDr9cTHh7uk2P3diF5EXzc+f0L9u9TsJfvRMv2WDnW4OC3Fw3AoPP+RVK4UU9mjIl91TavH1sIf9faqmJr0YiJc1+Ph5jvxq3WWV0kpUqy6g98eX14JsFwPvTYt7ypqYk//vGP3HXXXSQmJnrqMKIvSg8DoGQM9MnhlUt/0Lbu6l/noTU1nHIfrewIrpfmoP5sGurs+1Fn3Ubj8qXSzUIIIb5Ta3OyZEc1Z6dHMCY90mdxDEm0sLfaJvVzgFFVlSVLljBjxgxuvfVW/vd//5fy8vIePfeLL77g5ptv7vH+oare2jaWMdqdyep3r1VrlXGSIjR4rGV14cKFDBkyhAsuuKBfr5Oent6jbaHCHWWvq6uhXqcjbcw4dGbfdNG2P/4HKmbdifH1/0fib/8fujALAGpDPXWLF9L44RIUSzhRU+/GkJpB05p/Y335aaJuvJ3YO3/ik5h9Tb73QvhWk93FVyWNlNS1EmnSMzYj0msz757K3785TqtT5a6zvbNUzekMSbDwyYE6yhsdpEWZfBqL6LmlS5eycuVKZs6cSUJCAosWLWLu3Lk8//zzmEyn/xyPHz/Oa6+95sVIA1fddwlljBsmV2pnMukIj9B1vLYQwc4jyernn3/O7t27ee655/r9Wic3XQdDc3Zfuavsrt07IDmN8uoaN0TVRxExKLf/hNbXX6L0xz9COfciqLOirV8NthaUiVegXDuNpqgYALT8s4h4/280LP0rjZGx6M6/xHex+4B877vWA0J40+qDdbz+dQUNdhW9Ai4N/rrtOBflRHPfuBTCjd6d2OhgjY3/7K/jv4bFMSDadwkzwJDEtpuee6paJFkNEA6Hg2XLljFt2jTGjBkDwMMPP8yMGTPYsGEDkyZNOuXzVFVl/vz55ObmsmPHDm+GHJDqal1YwhW3jy2NidNTVyPJqggNHklW16xZQ11dHQ888ECn7a+//jofffQRL7zwgicOK3qq9DBkeWd91e7oJlyEFh2LuuR1tPf+BkYTjBiL7r+mogzovA6rotMRd/8vaDqwF23xArSC0ShxCT6KXAgRKjRN482tx/nXrhoKkizcflYyQxLDqLe5+GB3De/tqqG4tpUnL8ki0ksz8WqaxmtfVxBl1jN1hO+H2WTFmDHrFfZW25icE+PrcEQPHD58GJvNRmFhYce28PBwcnJyKCoqOm2y+t577+F0OrnxxhslWe2BOqvLrV2A28XE6TlW4sBuVzGZZNyqCG4eSVZ/8pOfYLfbO2176KGHuPHGG/vdLVj0j9Zqg6oKlHMv9nUoACgFZ6H/n/loLc1gNKIYjKffV29Ad9uDqP/zE9R3FqK//1dejFQIEYoWf1vFv3bVcGVeLPeOTUH/3SRGsRYDt52VTEFyOE99XsqcNUeZe1kWJr3nLxxX7q5gZ2ULM89JJdLk3RbdU9HrFAYnhLFXlq8JGDU1bT2rEhI63/SNi4ujurr6lM/Zv38/H374IU899VTH8/siUHrG9DdOh12lqaGWYYXxpKe7t6u+y9HI7m+PYNTFkZ7unlm4A+VzcZdQKm+gl9UjyWp8fPwpt0dHR5OU5N0Fy8VJyo6ApqH4YCbg7iiWns2ipiSnoVx5I9oHi9AO7EYZNMzDkQkhQtX6ow288201lw6KYca4lFNOvT82I5JZ56fz9NpSXttcyczxqR6Nqdnh4qVPDzI4PoxLB/lPK+aQBAsf7rHicKkYvZCwi/5pbW0FwGjsfIPYaDTicDi67G+z2Zg3bx7Tpk0jLS2tX8lqIAxpccfQm5qqtrVQdYYWt5fZqaoAHNxfgWLo/9wjoTbUKJTKGyhl7S6hljNKiNGOHW37j/Qs3wbSD8plP4SoGNT3/+7rUIQQQaqi0c789cfISwjj/nGp3a4Rd25WFDcUxLNify1rD9d7NK5/7KjmeKOd+8Z938rrD4YkhuFUNQ5ZW30diuiB9gmUTk5MHQ4HYWFdk5833niDtLQ0LrvsMq/EFww6ZgJ24+RK7cxmHZZwRWYEFiHBo+usnmjJkiXeOpToTnkp6PV+sW5pXylhlrbW1SV/QduzA2XocF+HJIQIIpqm8crGClwa/OKCdIz6MyeF00Ylsb2imQWbKxiZGk5MmPtPryV1rXywu4YfjEhjaKLF7a/fH3kJbfHsq7YxxM9iE121LylotVqxWL7/vKxWKwMGDOiy/5o1azAajUyfPh1om2gJ4Be/+AUTJ07kvvvu80LUgaWu1oXRpGAJ98xNpZg4g8wILEKC15JV4R+08hJISkUxBPZHr1w4Be3fS1E/fhe9JKtCCDdaW9zA1mNN3HN2MimRPZvdVq9TeGhCGj/792EWbK7gFxdkuDUmTdNYuLkCs17HjycOwlZX5dbX76/EcAMxZj0HrTZfhyJ6IDs7G4vFws6dOzu63zU3N3Po0CEuv/zyLvvPmzev07/37dvH/PnzefTRR8nMzPRKzIGmzuoiJk7fba+M/oiJ01Ne6sDh0DAa/aeXhRDuJt2AQ015KaR2vWsaaBSTGeXia2DH12ilxb4ORwgRJJodLl7/uoJB8WFcNSSuV8/NijUzdXgCXxQ3sKmk0a1xbShpZFt5M/89KpH4CP9bHkZRFHLiwzhQI8lqIDAajUyZMoXFixezadMmiouLeemll4iPj2fChAmoqkptbW3HZJmpqamd/trnJklMTCQmxn/GTvsLVdVoqHO5dX3Vk8V8N8twfa20rorgJslqCNFcLqg8hpLi3jv+vqJMvhJMJrT//MvXoQghgsQHu61YbS5m9HFM6HUFCWTFmPjzpnJaHKpbYrI5VV7/uoLsWDNX5vUugfamQXFmjtS24nC5p9zCs6ZOncoll1zCggULmD17Npqm8fjjj2MwGKiqquK+++5j3bp1vg4zIDXWq6gqHlm2pl17sipdgUWwC+y+oKJ3qivA5YS0wG9ZBVAio1HOvxTt85Vo105HiT31LNRCCNETdTYn/yqq4dzMyD6PCTXqFX48Po1frSzm79uPc8/Z/Z8f4O/fHKeyyclTl6X71aRKJxsUH4ZLgyN1dgbF93+GUuFZOp2OadOmMW3atC6PJScndzvXSGFhocxF0o32BDLGg8lqmEWHOUyhzuoEzB47jhC+Ji2roaS8FCBoWlYBlEt/CKoLbfUyX4cihAhw7+6sptWlMm1U/5ZYG5ZkYUpeLB/tsbKvun9rj+6rbmHZHitX5sVSkNyzJb58Jfe7BFW6AotQV2d1otdDZKRnL7OjY/Udsw4LEawkWQ0hWnlJ23+kBlGympwGo85BW7sSzWH3dThCiABV3+ri4321TBoYTWZM/1sppo9OIibMwMtfleNStT69hlPV+OOGcmLDDEwf7f9rlKdGGokw6jgoyaoIcXW1LqJj9Sge7gkRE6enoV7F5epbHSNEIJBkNZSUl0JkNEpktK8jcSvdRVdDYz3a5i99HYoQIkAt32Ol1aVxQ0GCW14vwqTnvrHJHLK2LTfTF0t2VHG4tpX7x6UQYfJcd0J3kUmWhGibubv+u2TV02Li9GgaNNRJ66oIXpKshhCtvCQoZgLuIn8UpGagrfnI15EIIQKQzamybK+VcRkRZMW6b+zXuZlRnDMgkkXbq6ho7F3Pj52VzfxjRzWTc6IZnxnltpg8bVCcmcO1rX1uTRYi0DU3qTgdnh2v2q59tmGZZEkEM0lWQ0l5KUoQdQFupygKykVXw6G9aIf2+jocIUSAWXWgjoZWF9e7qVW1naIo3Dc2BZ2i8KeNFahazxK4WpuTF74sIyXSyIxx/Z+gyZty48OwuzRK6mVYhghN3phcqV14pA6DQZavEcGtR8nqc889x/bt2z0di/AgrakRGuqCarzqiZRzLwazRVpXQ4jUS8IdNE1j2R4rQxPDPDKBUVKEkdvPSmLbsSaW7Kg+4/52l8rvPyulvtXFrPMzCDf6f/ffEw2SSZZ8QupD/1FndaEoEBXj+d+uoihEx+mlZVUEtR4lq+PHj+fdd9/l4Ycf5oMPPqCx0b2LnQsv+G5yJSUYuwEDiiUc5dyL0DatRWuo83U4wgukXhLu8G1FM2UNdo+uX3plXiyTc6JZvL2KTw+dvn6yu1SeWVvKnqoWfnpeGoMTAm/5l/QoE2a9IpMseZnUh/6jvtZFZLQOvd47y0zFxOqpr3WhSdd7EaR6tM7qxIkTmThxIqWlpaxZs4bHHnuMIUOGcOWVVzJ48GBPxyjcQKtoW7aGIFq25mTKRVehfbocbe1KlKtu8nU4wsOkXhLu8PG+WqJMOs7L8ty4UEVR+PH4VKqanby47hh1Nhf/NSwOnfL9xezxJgcvfFlG0fEW7h+XwvlZgTkRnl6nMDBOJlnyNqkP/Ued1UVSao8ur90iJs6Ay2WnsVElKjqwemII0RM9HrOqqirHjh2jrKwMl8tFTEwMr732miwKHSjKS0BvgMTAGv/UG0p6FgwdgfbFf9BU1dfhCC+Qekn0h7XFyYajDVycG4PZ4NkpHEx6Hb+ZPIBzBkTy+pZKHl1RzPK9VtYermfh5goeXHaIg9ZWZp2fzpVDPNfK6w2D4s0ctLb2eIyucA+pD33P1qLSatM6Jj7yhvaxsdIVWASrHt36efvtt1mzZg0pKSlcfvnlPPLIIxgMBmw2GzNnzuTmm2/2dJyin7TyUkhKRTF4726fLygXXIr2l/8H+4pg6HBfhyM8qK/1kqqqLF26lFWrVtHU1MSwYcO45557SE1NPeX+DQ0NvPHGG2zduhWACRMmcPvttxMW9n0XzRUrVvDxxx9TVVVFfHw8F198Mf/1X/+FTidz2PmzTw7U4tLg8rxYrxzPbNDx2KQMVh2s4x87qnl1UwUABp3CuZmRTBuVRFqUySuxeFJuXBjLnbWUNzhIjw788gQCuU7zD3XfTXQUHee9a63IaB06HdRbXZDttcMK4TU9+jXV1dXx2GOPMXDgwE7bw8LCePjhhz0Rl3C38tLgXLbmJMpZ56FZXkX78j8okqwGtb7WS0uXLmXlypXMnDmThIQEFi1axNy5c3n++ecxmbpeWL/wwgu0trbyxBNP0NLSwiuvvMKCBQt46KGHAPj3v//NokWLuPvuuxk2bBgHDx5k4cKFtLa2ygWiH9M0jU8O1DEiJZwB0e5bruZMFEXh0kGxXJIbw/EmJy1OlZRII2Eebtn1ptzvJlk6aLVJsuolcp3mH+rbZwL2YsuqTqcQFaPvSJSFCDY9OjuqqtqlAnz++ecBGDVqlNuDEu6luVxQeSwol605mWI2o4ybiPb1l2gtzb4OR3hQX+olh8PBsmXLuOmmmxgzZgzZ2dk8/PDD1NbWsmHDhi7779mzh507dzJz5kxyc3MpLCxkxowZfPnll1RVVQFtraqXX345kydPJjU1lfPOO4+rr76aVatWubfAwq12H2+hvNHBxbkxPjm+oigkRxrJjjUHVaIKkBVjQq8gkyx5kVyn+Ye6WhfhETqMJu9MrtQu5rsZgTXpei+CULctqwsXLqSmpobdu3dTX1/fsd3lclFRUeHx4ISbVFeAyxm0y9acTDn/UrTPV6Bt/gJl4uW+Dke42ZIlS2htbe1TvXT48GFsNhuFhYUd28LDw8nJyaGoqIhJkyZ12n/Xrl3ExMQwYMD3vRLy8/M7Hps4cSL33HMPycnJnZ6nKApNTU19LqPwvDWH6jHrFc7N9NzESqHKqNeRFds2blV4llyn+Zd6q4toL6yverKYWD1HDtppadYIj/BuoiyEp3WbrF588cUcPXqU4uJixo8f37Fdr9eTl5fn8eCEmxxrmwk4WJet6SJnCKRlon35CUiyGnQmTJiAzWbrU71UU1MDQEJCQqftcXFxVFd3XQOzpqaG+Pj4TtsMBgPR0dEd+w8f3rm7eVNTEytXruSss87qeaGEVzlcKl8eqWd8ZhQWY3C1avqLnLgwvi5rRNM0FEUunj1FrtP8h8Oh0dSoMmCg97u+t0+yVP9dy64QwaTbZHXQoEEMGjSIkSNHdrlgE4FDq2hbYzVkWlYVBWXCZLT3/oZWfRwlIcnXIQk3ysrKIj09vU/1UmtrW0uP0WjstN1oNOJwOLrsb7fbu+wLbQmr3W7vsr2lpYU//OEPOBwOpk+f3qvY0tPTe7V/f3n7eN7WXfnW7D1Oo13lhrE5pKcnnHY/f+bvn99ZA12sPliHKSaRpMjejQn297L1lzvLJ9dp/qP+uzGjMT5oWY2K1YMCdVYnqRldz1lCBLJuk9UXXniBRx55hLlz557yzuhzzz3nscCEG5WXQlQMSkTodHdTxp7flqx+/SXK5df6OhzhRm+++SaPP/54n+ql9gmUHA4HhhNmxnY4HJ1m9z1x/1MlsU6ns8v+1dXV/OEPf6CqqorZs2d36Rp8JmVlZb3avz/S09O9ejxvO1P53ttSQmyYnkyjLSDfh0D4/BL0bTeG1u8qZmxGZI+fFwhl64/elu9Mia1cp/mP9qVjfJGsGgwKkVE6Wb5GBKVuk9Vrr70WgLvvvtsbsQgP0cpLICU0WlXbKcnpkJWLtvkLkGQ1qFxyySVA3+qlxMREAKxWKxaLpWO71WrtNC61XUJCAlartdM2p9NJfX19p67Ehw8f5qmnnsJgMPDkk0+SkRFav7dA0uxwsbm0iSl5seh10j3VU3Li2lpTD9bYepWsit6R6zT/UW91YTIrmMN8U6/ExOqpPu70ybGF8KRuO7bn5uYCUFBQQEJCAgUFBdhsNoqKirrMOif8WHkpSlqIjFc9gTL2Aji0F6260tehCDfKzMwE+lYvZWdnY7FY2LlzZ8e25uZmDh06REFBQZf98/Pzqa2t7dQSUlRU1PEYQElJCXPmzCEmJoa5c+dKournth1rwqFqTJCJlTwq3KgnLcrIQavMCOxJcp3mP+pqncTE6X02RjsmTo+tRaO1VfXJ8YXwlB6Nwl6wYAHvv/8+JSUlvPrqq1RWVvKnP/3J07EJN9CaGqGhLuRaVgGUs88HQPv6Sx9HIjyhL/WS0WhkypQpLF68mE2bNlFcXMxLL71EfHw8EyZMQFVVamtrO8aj5uXlMXToUF566SX2799PUVERCxcuZNKkScTHx6NpGi+99BJGo7Fj3dXa2tqOP+F/vippJMqkIz/JcuadRb/kxoXJjMBeItdpvuVyaTTUqT7pAtyufRbieukKLIJMj5LVgwcPcs8997Bx40YuvPBCZs6c2bHGoPBz5W2TK4XMTMAnUJLTICMbbftmX4ciPKCv9dLUqVO55JJLWLBgAbNnz0bTNB5//HEMBgNVVVXcd999rFu3DmibrGvWrFmkpKQwZ84cnn/+eUaMGMG9994LwJEjRyguLqa2tpZHHnmE++67r9OfyyUXDf7EpWp8XdrI2RmR0gXYC3Ljw6hodNBol9+Bp8l1mm811LnQtLauuL7SfmwZtyqCTbdjVttpmoZOp+Pbb7/luuuuA76fVVP4N628bdmaUJkJ+GTKyLFoK/+F1tyEEh7h63CEG/W1XtLpdEybNo1p06Z1eSw5OZklS5Z02hYTE8MjjzxyytfKzs7usr/wX7uOt9BgVxk/QMZQekPud+NWD1ltjEiR+teT5DrNt9pnAvbFGqvtTGYdlnCFulpJVkVw6VHLakpKCk899RQVFRUUFBQwb948srOzPR2bcIeKEtAbIDHF15H4hDJiHLhcULTV16EIN5N6SfTWVyUNGHQKo9MkcfKG3Pi2GbMP1kjS5GlSH/pWndWFwQgRkb5d4zQmziAtqyLo9KhldebMmWzcuJFhw4ZhMBgYNmwYF154oadjE26gHSuF5DQUve/u9vlU7lAIj0TbvrltwiURNKReEr2haRobSxoZlRpOuDFE60Mviw0zEG8xyCRLXiD1oW/VWV3ExPpucqV2MXF6yksdOB0aBqMMdRDBoUe3gMLCwsjPz6epqYmDBw8yePBgSktLPR2bcIeK0pCcXKmdotejFJ6FtuNrNFVmyAsmUi+J3jhaZ6e80cE50gXYq3LjzBySllWPk/rQd1RVo67WRUxcj9p/PCr6u3Gr9dIVWASRHv2y3nnnHT788ENiYmI6timKwh//+EePBSb6T3O5oPIYyuhzfB2Kb40cC5vWwpEDMDDP19EIN5F6SfTGxpJGAMbJmp9elRsfxpZj1bQ6VcwG33aRDGZSH/pOY72K6sKnMwG3a4+hrtZFfJLvk2ch3KFH3+TPP/+cefPmER8f7+l4hDtVVYDLCSmhNxPwiZRho9AAbc+3KJKsBg2pl0RvfFXSQF5CGAnhRl+HElJy48JQNSiubWVIoiwX5ClSH/pO+xhRf0hWwywKJrMi41ZFUOnRbc7ExESpAAPRdzMBKyE6E3A7JTYe0jLRdm/3dSjCjaReEj1V0+Jkb7WNc6RV1ety49tmBJZxq54l9aHv1Fmd6PUQGeX7ngOKohAdq5dkVQSVHrWsDh8+nLfeeouxY8diMpk6tufm5nosMNF/2ndrrBKCa6yeTBk2Am3dajSnA8UgLSvBQOol0VObS9u6AMt4Ve9LjjASYdLJjMAeJvWh79TVuoiO1aP4ydrNMXF6Du5tRXVp6PT+EZMQ/dGjZPXTTz8FYP369R3bZCxEAKgohagYlAi5QFOGjURbsxwO74PBBb4OR7iB1Euip7462kByhJHsWLOvQwk5iqKQExcmLaseJvWhb2iaRp3VReZA05l39pKYOD2aCg31/jHpkxD91aNv8csvv+zpOIQHaMeOQpq0qgIwZDgoCtrub1EkWQ0KUi+JnmhxqHxT3syUvFifLysRqnLjzHy8rxaXqqH3k9anYCP1oW80Nai4nP4xXrVdxyRLVklWRXDoUQd7m83GX/7yF373u9/R2NjIggULsNnkLqnfKy9BkS7AACiR0TBgoIxbDSJSL4me2FbehEPVpAuwD+XGhWF3aZTW230dStCS+tA32seGxsb7T1IYEalDb0DGrYqg0aNk9fXXXyc8PJy6ujqMRiPNzc28+uqrno5N9IPWUA+NDdKyegJl2Eg4sBvNLmOngoHUS6InNpY0EGHSUZAc7utQQlZufBggkyx5ktSHvlFndaHTQWS07ydXatcxyZKstSqCRI9+XYcPH+ZHP/oRer0es9nMQw89xOHDhz0cmuiX7yZXkpbV7ylDhoPTAYf3+zoU4QZSL4kzcakam0qbGJseiUG6n/rMgGgTJr3CwRpJVj1F6kPfqLO2Ta6k87P6JSZWT32tC03TfB1KyNM0DdUln0N/9Kjfgk7XOadVVbXLtlNpaWnhnXfeYdOmTdTX15ORkcGNN97I2LFj+xat6DGZCfgUBuUDoO0vQhlS6ONgRH/1tV4SoWN3VQsNrS7pAuxjep1CdqyZg1bp1eIpUh96X/vkSmmZ/rfCQEycnsP7oalRJTLKf8bThpKqCgcH97VSVeHE5QRzmEJKupG8fDPhkfKZ9EaPktX8/Hzeeust7HY727Zt4+OPP6aw8MwX+y+//DJHjhxhxowZJCcns27dOp599lmeeOIJhg8f3u/gRTeOHQWTCeKTfB2J31CiotvWW92/y9ehCDfoa70kQsfGkkYMOhiTHuHrUEJeblwYXxypR9M0mejKA6Q+9L6mRhWHQyMuwf8SjxMnWZJk1bucDo1vNjdTdsSBOUxhQLaJMIuOxnoXJcV2SortjBhjIStXZqfvqR4lq9OmTeNf//oX4eHhvPPOO4waNYrrr7++2+fU1tayceNGfvWrXzFy5EgArr/+enbs2MHq1aslWfUwrbwUUjJQ5M5qJ8rgfLSvv0RTVXlvAlxf6iUROjRN46uSBkakRBBulIs1X8uJM7Niv0plk4OUSP9Z5iNY9KU+VFWVpUuXsmrVKpqamhg2bBj33HMPqampp9y/vLyct956i927d+NyucjLy2P69OlkZmZ6okh+z1rtf5MrtYuK1qPooN7qIiPL19GEDluLyobPGmmoVxk6PIxBw8zoT1jrtqVZZdvGZr7Z1IKtRWNIYZgPow0cZ7xa37hxI//zP//D+++/T2VlJeHh4QwdOrTTotOnYjabefzxx8nPz++0XVEUGhsb+xe1ODOZCfjUBudDc1Nby7MIWH2tl0ToKKm3c6zBIV2A/cT3kyxJV2B362t9uHTpUlauXMmMGTOYO3cuer2euXPnYrd3nbW5paWFJ598EofDwezZs5kzZw5hYWHMmTOHuro6TxXNr9VWO9EbIMqPJldqp9MrREXLJEve1GpTWf9pI81NKhMmRTCkMKxTogpgCdcxYVIEAwYa2bPDxuF9Uh/2RLe3g9avX8/ixYu5+eabGThwIAAHDhzgjTfewG63M378+NM+12KxMHr06E7b9u7dy44dO7jzzjv7Hbg4Pc1hh6oKmHCRr0PxO8rgfDRA278LJSPb1+GIPmjv4taXekmEjo0lbTdFJVn1DwNjzegUOFhj49zMKF+HEzT6ep3mcDhYtmwZ06ZNY8yYMQA8/PDDzJgxgw0bNjBp0qRO+2/ZsoWamhqeffZZwsPbZtb+yU9+wl133cWmTZu49NJLPVdIP2WtdhEbb0Dxs8mV2sXE6akoc0jXey9wuTQ2fdFEc5PK+EmRJCafPr1SdAqjx4XjsDexY2sL0bF64pP8r3Xen3T77ixfvpzf/OY3JCYmdmwbMGAAeXl5vPLKK726KCwpKeG5555j8ODBvarU0tPTe7QtVPSk7PbD+6nQNOILRhAeZO9Vfz97LS2NstgEwkoPkRBg741879u88sorbquXRPD6qqSRQfFmEsP9b/KTUGQ26MiINnFIlq9xq75epx0+fBibzdZpXGt4eDg5OTkUFRV1SVaHDh3KY4891pGoQltPOU3TQrK3nMupUV/rYtAw/x13GBuv5+ghO81NKhEyoY9H7djSgrXaxdnnhXebqLZTdApnjQ9n7X8a+Xp9E5OnRGE0+V8Lvb/o9h212WydKsB26enpp+wmcjpFRUU899xzJCUl8dhjj2Ew9PwOQllZWZdjn7wtVPS07Oo3WwCwmiOoDaL3yl2fvZo7lOZvt9AaQO+NfO+/L3tDQ4Nb6iURvKqb7OytauGWkV2/J8J3cuPC2FHR7Oswgkpfr9NqamoASEhI6LQ9Li6O6urqLvsnJiZ2Oc5HH32Ew+HoaJkNJXW1LjStLSH0V/GJbdfa1iqXJKsedPRQK0cO2hmcbyY9s+dDkYwmHWPODWftJ40UfWNj1DhZC/x0us0a3THt+dq1a3nllVcoKCjg5z//ORaLpd+vKc6gvAQUBVJCtyWuO8rgfLQt69Cs1ShxCWd+gvArshyDOJMvDlShAeOlC7BfyY0389nheupsTmLCpNubO/S1PmxtbRsrZzR27nlgNBpxOBxnfP769et5++23ufrqq8nK6t0MPoHSS6i7OKvKq4FGhhVkEBHpn703UlM11q3ZQ2uLmfT0tDPuHyifi7u4o7xNjQ5WbDtA2oBwLro8u9fr7aanQ4O1gm2bqxk1Jo30TM/MXB/on61HzxZffPEFf/zjH7ngggt44IEHetWiKvqhvAQSklFM/ts9xZeUwQXfj1sdd4GvwxFCuNln+6tIjjAwMFbqQH+SG/f9JEtnpcn1gC+1T77kcDg6XZs5HA7CwrqfoXT58uX89a9/5cILL+TWW2/t9bEDoZfQmXozFR9sIixcoa7+OHX1Xgysl2LidJQcqaesTOt2v1DrveWO8mpa2zhVp0slf6Se8vJjfYslW2PPLh2ffXKUSZdFuX0MdKB8tt0l1N2eLYqLi7n99tu7bNc07Yx33qqrq3n11VcpLCzk1ltv7TSmwWAwEBkpd7w9RSsvAZkJ+PQyc8BkhgO7QJLVgFNWVtbnekkEv1anysbiGi4dFCOTiviZnPZktcbGWWmy9q079PU6rb1Lr9Vq7dTjzWq1MmDAqa8fVFXlzTff5OOPP+baa6/lRz/6Ucj+xqw1LuL8cMmak8Ul6Nm3qxWnQ8NgDM3PylNKjzioKHNSMDqMiH6sZas3KBSMCuPrdc0cOWQne5DcZD1Zt7+0+fPn9/mFv/rqK1pbW9mxYwczZszo9NjQoUN58skn+/za4vQ01dW2bM3QEb4OxW8pBgPkDEHbV+TrUEQfzJ49m5SUFF+HIfzUtmNNtDpVzsmQG6L+JsqsJznCyIEamWTJXfp6nZadnY3FYmHnzp0dLRrNzc0cOnSIyy+//JTPee2111i1ahV33303V1xxRZ9jDnStNpWWJpWcwf6/VFpcogG0VmprnCSm+Gd35UDUalPZsaWF2Hg9uXn9Ty7TBhiJT9Sz+1sbGdkmDAa5sXCibpPVpKSkPr/wVVddxVVXXdXn54s+qiwHux0yBvo6Er+m5BWgffQPNFszSpgMag8k8fHx/aqbRHD7qqSRSLOB4Snyu/ZHeQlh7Ktu8XUYQaOvdaHRaGTKlCksXryY2NhYkpOTWbRoEfHx8UyYMAFVVamvryc8PByTycRXX33FJ598wnXXXcf48eOpra3teK2wsLAzdh0OJtXHncB3iaCfi0toa/GrqXZJsupGO7a04HJqjD4n3C3ddhVFIX+UhS9XNXJ4XyuD80Pn99QT/v9LE71TVgyAMkDWEO2OMrgATVPhwB4oPMvX4QgvUlWVpUuXsmrVKpqamhg2bBj33HMPqampp9y/oaGBN954g61btwIwYcIEbr/99lNenO3evZvf/va3LFq0CL1eZl/0Npeqsbm0kfNyEjD46dqHoW5oooUvjzRQ0+Ik3iKXIL40depUVFVlwYIF2Gw28vPzefzxxzEYDFRWVvLggw8yc+ZMJk+ezNq1awF47733eO+99zq9zvXXX88tt9ziiyL4RM1xJzo9xMb5fx1vMumIjNZhrXL6OpSgcazETtlRB0OHhxEV477vQHyigaRUA/t3tzJwsFm6bZ9AzhRBRispbpsJODXT16H4t0FDQdGh7duJIslqSFm6dCkrV65k5syZJCQksGjRIubOncvzzz/fMenIiV544QVaW1t54oknaGlp4ZVXXmHBggU89NBDnfbbvXs3zzzzDJrW/UQWwnP2VrVQ1+riwsFJgMvX4YhTGJbUNj5yT1UL52ZG+Tia0KbT6Zg2bRrTpk3r8lhycjJLlizp+PesWbO8GZpfqz7uIi7BgE4fGMlEXIKB8lIHmqaF7Bhjd7HbVb79uoXoWD2D890/tnTo8DC++KSRQ/taySuQ1tV2sgZEkNFKiyEpDcUsA7S7o4SFQ1aujFsNMQ6Hg2XLlnHTTTcxZswYsrOzefjhh6mtrWXDhg1d9t+zZw87d+5k5syZ5ObmUlhYyIwZM/jyyy+pqqoCwOVy8de//pU5c+ZI92Qf21DSiEEH5+XKklT+KjfOjEGnsOe4dAUWgcdh16ivc5GQ5P+tqu3iE/U47BqN9aqvQwl4RVtt2Fs1Rp9j6fUyNT0Rl2AgJd3AgT2tOBxy47udJKvBprQYpAtwjyh5BXBoL5rMIBsyDh8+jM1mo7CwsGNbeHg4OTk5FBV1vXGxa9cuYmJiOs2OmZ+f3/EYgM1mY//+/cyePZsrr7zSwyUQp6NpGhuONjAyJYJIs3Qa8ldGvY5B8Wb2VEmyKgJPTbUTNIhPCpw6JiG5LdaqSukK3B+VxxwcPWxn0DAzMXGe+/yHFIbhsGscOdDqsWMEGklWg4hmb4XKYygZkqz2hJJXAA47FO/3dSjCS2pqagBISOjc8hYXF0d1dfUp94+Pj++0zWAwEB0d3bF/REQETz75ZKcEWHhfcW0r5Y0OJkjXUr83JNHC/hobTlVaDkRgqTnuRFHaWsACRXiEjrBwhWpJVvvM6dDYvrmZyCgdQwo92z03Nt5AYkpb66rLJXUkyJjV4HKsBDRVktWeGlwAgLavCGVwvo+DEd7Q2tp2p9Jo7DwrotFoPOWahHa7vcu+0Jaw2u12t8bW3YLYnuDt43naR4cOoQA/GDsYCL7ynSyQy3duvZ4Pd1tpNERRkBrd5fFALltPBHv5gln1cScxcfqAWlpEURQSkw1UlDll3GofFX3TQkuzxvmXRKD3wljlwcPMbPisidJiO1m5MqxPktUgopUebvsPSVZ7RImOhdQMtH074cobfB2O8IL2CZQcDgcGw/fVn8PhOOXsviaT6ZRJrNPpdPtSDWVlZW59ve6kp6d79Xje8J9dZQxLstBaVwURwVe+EwX655esb/tNfbnrKLFqXKfHAr1sZ9Lb8kli6z9cTo26Ghc5blhX09sSkw2UHHbQUKcSHRs44239QVWFg+IDdnKGmIn30nJFiSkGYuL07N/dSuZAk1uWxwlk0g04mJQWg8EIyWm+jiRgKHmFcGAXmioTD4SCxMREAKxWa6ftVqu1S3dfaOsufPK+TqeT+vr6Ll2Jhe9UNNo5ZG1l/IBIX4cieiAx3ECcxcBuGbcqAkh1lRNVbUskAk1CclsPIRm32jtOh8a2jc1EROoYNsJ7s/MqisLgYWaaGlTKy2ReFUlWg4hWfAAGDETRyV2zHhtcAM1NHevTiuCWnZ2NxWJh586dHduam5s5dOgQBQUFXfbPz8+ntra2U0tI+0RM7RMtCd/bcLQRQMarBghFURiWaGH38WZfhyJEjx0vd6LTBdbkSu3CI3SER+hk3GovtXf/HX1OuNe7fqcNMBIeqWP/rtaQXxJPktUgoWkaHDmIkj3I16EEFCXv+3GrIvgZjUamTJnC4sWL2bRpE8XFxbz00kvEx8czYcIEVFWltra2YzxqXl4eQ4cO5aWXXmL//v0UFRWxcOFCJk2adMqWWOEbG442kB1rJi2q6zq5wj8NT7FQ2eSkotG9Y7+F8JSqcgfxiYaAGq96ooRkA9XHnWgysVmPHC9v6/6bO8TskxsUik5h0FAztTWukL/JIMlqsDh+DFqaIHuwryMJLIkpEJsAkqyGjKlTp3LJJZewYMECZs+ejaZpPP744xgMBqqqqrjvvvtYt24d0NYCNGvWLFJSUpgzZw7PP/88I0aM4N577/VxKUS76mYHu463cJ60qgaUESkRAHxbIa2rwv/ZWlTq61QSUwOvVbVdUqoBh12jtsbl61D8XqtNZetXzUREebf778kyc0yYwxT27w7tZWwC91cnOtGKDwBIy2ovKYqCMqQQbc+3MkteiNDpdEybNo1p06Z1eSw5OZklS5Z02hYTE8MjjzzSo9eePHkykydPdkeYooe+KG5AAyYO7DqrrPBfmTEmos16dlQ0c+mgWF+HI0S3qiraWraSAnC8arukFAMoUHHMQZyXJgoKRJrWNk7VYdcYPykSvQ9b0vV6hdwhZnZtt1Fb4yQ2PjQ/N2lZDRbF+8FggPQsX0cSeApGQ521bYIqIURA+fxwPYPizWRESxfgQKJTFIanhPNtRXPIj8cS/u94uQOTWSEmLnDnBDGZdcQl6Kk8FtpdSs/k4J5WKo85KRxt8YvPO3uwGYMR9u8K3dZVSVaDhFZ8ADIGohi6rgkpuqfkjwZAK9rq20CEEL1SVm9nf42NidnSqhqIhieHU9XspKJRZrsU/ktVNSqOOUlKNQR876uUNCN1Vhe2FlkB4VSOVzjYtd1G6gAj2YP94wao0agwcLCZYyUOGhtCswu3JKtBoG1ypQMoMl61T5T4REjLRNu5zdehCCF6YW1xPQAXSLIakEakhgMyblX4N2uVC4ddIzUj8BsDktPaupEeL5cbRCdranTx9bpmIqN0jD4n3K9uTOQOMaPTw4EQbV2VZDUYlJe0Lb+Sk+frSAKWUngW7NuJZg/NikCIQKNpGp8frqcgyUJSROBfRIaizGgTMWF6SVaFXysvdaDTQXJq4Ncz0bF6wiwKFWXSFfhEDrvGxrVNAIybGIHR6D+JKoA5TEdWjomjxXZamkOvVVyS1SCg7d8FgDK46zqRomeUgrPAYYf9MiuwEIFgf42Nkno7F+ZIq2qgUhSFUakRbDvWhCrjVoUf0jSN8lIHiSkGDH6WwPSFoiikZhipOObA6ZTfHIDLqbHxi0aaGlTGnhdORKTvx6meyqBhZtDaxtSGGklWg8G+IoiKgZR0X0cSuIYUgsGItn2zryMRQvTAf/bXYdIrMl41wJ2dHkFdq4t91TZfhyJEFw11Ks1NalB0AW6XlmlEdUFlmXQFVlWNr9c3UXPcxVkTwklM8d/POTxCT3qWkeKDrdhbQ6t1VZLVIKAd2AWDhvlV//pAo5jDoPAstK0bZGZKIfyczany+eF6zs+KIsLkn3fBRc+MSY9Ep8Dm0kZfhyJEF8dK7ACkpPtvEtNbCYkGzGEKZUdDO1lVVY2tG5qpKHMy4mwLGVn+MaFSd/Lyw3A54dA+u69D8SpJVgOcVm+FymPSBdgNlLPOhZrjcOSAr0MRQnRj3ZEGWpwqlw2O9XUoop+izXqGJFj4ukySVeFfNE2jpLitC3CYJXgulxWdQtqA0O4K7HKqbF7XRNlRB/mjwhg42OzrkHokKkZPSoaBg3tt2O2h07oaPL++UNUxXjXfx4EEPmXUONDp0L5e5+tQhBDd+M/+WtKjTBQkWXwdinCDsRkRHKhppaZFJn0R/qO2xkVzo0pGVvC0qrZr7wpcURp6ratOp8bHHxylotTJ8DEWBg8L83VIvTJsuAWnAw7sDp2xq5KsBjht93YwmSFrkK9DCXhKZDQMHYG2Zb10BRbCTx2ssVF0vIXLB8fI0IcgMS4jEpCuwMK/lBy2o9NB2gD/7x7aWwmJBizhCkcOhVZ3UluLyrrVjZQeaWLUOAs5eYHRonqi6Fg9GVlGDu1tpdUWGq2rkqwGOG3nNhg6AsUYfHf+fEEZNxEqSuHgHl+HIoQ4hQ/31BBmULhsUKyvQxFukh1rJjXSyJffrZsrhK85nSqlRxykZBgxmoLvppiiU8jMMVNV4aS50eXrcLyizupi7X8aaGxwccUPMsnKDbxEtd2Q4WGoKuwrCo2J6SRZDWDa8XKoLGtbI1S4hTLuAjCHoa1d6etQhBAnsbY4+fxwAxfnxhBplomVgoWitM3qvL2imZqm0GrpEf7p4N56HHaN7EHB16raLjOnrWyh0LpaUebgy9UNAJx/cSTZuVE+jqh/IqP0ZOaYKD5gD4mbDZKsBjCtaBvw3Rqhwi2UsHCUcRPRNn+BZpOF6oXwJ8v3WnGpGv81NN7XoQg3uyA7ClWD1XsrfR2KEBRttxIRpSMx2eDrUDwmPEJHUqqBo4fsqGpwDn3SNI09O2xsXNtEZJSeiZdFERMXHJ/pkMIwFAV2bgv+1lVJVgOY9u1miE+C1AxfhxJUlAsug1Yb2vpPfR2KEOI7jXYXH+2xMj4zkvTo4G3tCFXZsWYyY0ys3F3h61BEiKuzOqk41kL2IFPQj4sfONiMrUXj4L7g64Jvb1XZuLaJvTttDBho5LyLI4NqVmdLuI68gjDKSx0cLw/uibKC51MLMVpLM+zcijLm3KCvTL0udyjkDkVb8U80V/B3rxAiEHywu4Ymh8otIxJ9HYrwAEVRmJwTw9aSOkrqQ2eWS+F/9u9qxWjSkZUT/DfFUtINRETp+GZzdVBNLFlb4+Tz/zRSVdG2huroc8IxGILvWjl3qJnwSB07trYEbes4SLIasLTtm8DpQDn7PF+HEnQURUF31U1QXYn21We+DkeIkNfY6uLD3VbOzYwkJy6wlhkQPXdJbgx6ncLKfbW+DkWEqMYGF2VHHRSOisNoCv5LZEVRGDzMTFWljaqKwF86StM0jhxs5ctVjWiaxnkXRzJwsDloG3X0eoXC0RYa61X27wrem3zB/0sMUtrmLyE2HnKH+TqU4DRiLGTlor3/Flpr8I8HEMKfvb2jihZpVQ16cRYDkwcnsvpgHXZXaCzJIPzLviIbOj2MOCvB16F4TUa2iYhIA7u/tQV066rDobH1q2a+2dRCfJKBSZdHEZcQHONTu5OaYSQ908jeIhv1tcHZG1CS1QCkNdTBt5tRxl6AopOP0BMUnQ7d1Huhpgpt+VJfhyNEyDpS18ryPVYuHxzLQGlVDXrXj86gwa7y6aHgG0Mn/Fud1UnJYQcDB5sJjwj+JKedXq8w9twkamtcHCsJzLGP1monn69ooOyIg6HDw5gwKQKzOXSuj4efbcFoVNj6VTOqK3BvOJxO6HySQURbtxpcTpSJl/s6lKCmDClEmXAR2sdL0fbv8nU4QoQcTdN4bXMFYUYd00ZJq2ooGJcVx6D4MN7dWY0riMdgCf+iaRo7t9kwmRWGFATu+pt9NaQglshoHbu323AFULKjaRr7d9m+7/Z7UWTbLLm64Oz2ezpms45R48Kpr3VR9E2Lr8NxO0lWA4ymqmifr4DBBSjpWb4OJ+gpP7oP4pNQFz6LZq32dThChJSV++v4pryZaSOTiAkLnZaOUKYoCjcPT6C80cHaYmldFd5RcthBdaWToYVhITFW9WQ6ncLwsyw0Nars3RkYQ5+am1Q2fNbEru02UjOMTLoiivik0D1PpGYYyR1i5tA+OyWHg2vt3ND7RQa6rRugsgxl8pW+jiQkKOER6B74FTQ3ob74W7TaGl+HJERIONZg5/UtFYxMDefKIbG+Dkd40TkDIsmONbN4e5WMXRUe19KssmNrM/GJerIHBf8MwKeTlGokc6CJA7tbqa3x38mWNE2j+EArn31cj7XaycixFs4+LxxTCN5kOFn+qDDik/R8s7mZmir//Qx7Sz7ZAKKpKuqytyElA2XcBb4OJ2QoWYPQ/fjXUFWB+tQstOIDvg5JiKBmc6o8s7YUvaLw0IQ0dEE6k6M4NZ2icPfZyZQ3OvhnkdwgFJ6jujS2bGhCVWH0OeEh1330ZAWjwzCHKWxe14y91f9uFDU3qXz1eRPbN7cQE29g8hVRZA8K3tl+e0unUxh7XgQWi46NnzcFzYRLkqwGkOY1y6HkMMo1N6Po9L4OJ6Qow0ai++XToGqoT81Cfe+ttrVuhRBupWoa89Yf45C1lUfOTycpwujrkIQPjEqN4PysKN7dWU1JXfAuySB8R9M0dmxtoea4i9HjwomIkusqk1nH2PMjsLWofL2+2W/Gr7qcGnt22Fjz73pqqpyMGGPh3MkRhEfKZ3Yyc5iOCZMj0Btg/aeNVFUGRrfu7kiyGiC0xnpqX3sRcoeinHOhr8MJSUr2IHT/Mw9l3CS05UtQH7sX9f2/ox0v93VoQgQFVdP401flfHmkgdvPSmJsRqSvQxI+dPfZyYQZdDyztoxWp/+18ojApWkau7bbKD5gZ/AwMxnZodv992RxCQZGjbVQVeFky4ZmVB9OdKZpGmVH7Kz5uIG9O22kphu56MpoBuZJa2p3wiP0TJgciU4HH/zjMJXlgTnLc7vQHYkcQDRVRX3jJWhqQPez38lyNT6kRESh3P0ztEuuQf3wbbSPlqAteweyBqHkj4TMXJTUDIiOA3MY6BSw28Hx3Z9LBc0FGhARBVExKEZpORLC7lJ5eUM5nx6u56bCBK7Nj/d1SMLHEsKN/Oy8NH63poQX1x9j1vnp6EO8m6boP9Wl8e2WFo4ctDNwsIlhI2VJrJNl5phxOGDn1ha++ryJseeFe3XiKU3TOFbiYO9OGw11KlExOs6dHEFiilwv9VRUtJ4LLo1iy/pWvvqsicH5ZoYOD0MXgHWoR5NVVVVZunQpq1atoqmpiWHDhnHPPfeQmprqycMGFU3T0Ja+Ads3EfvAL2kYMNDXIQlAGZiH/idPoNUcR/vqM7QdX6N98iG4nPT6HmRSaluSm1eAMmIsSkq6J0IW3+ltvdTQ0MAbb7zB1q1bAZgwYQK33347YWHfX+CsX7+eJUuWUFlZSVpaGrfeeiujR4/2RnGCQmm9nf+3rox91TamjUrkpsIEuWsuABiTHsmdY5J5fUslL+qO8dCEVIx6uWHrDp6oC/1dQ52LbzY1Y612MTjfzLARYVLXnEbuEDNGI3yzuYXPVjQw6pxwkjycLNrtKkcP2Sneb6epUSUiSseYCeGkZxpDfjxxX1jCdVx7Sw6fLD/I/l2tVJQ5GH6WJeCSfo8mq0uXLmXlypXMnDmThIQEFi1axNy5c3n++ecxmaTLxZloDjva2wvRPl+BctHVRF59Ew3Hjvk6LHECJT4J5cob4cob0Rx2qDwGFaVoDfXQagNNA5MJjN/96fQoeh1ooDU1QJ0VrfQwFB9A27IO7Z3XICkVZdR4lNHntC1RpJcxGe7U23rphRdeoLW1lSeeeIKWlhZeeeUVFixYwEMPPQTAjh07mDdvHrfddhsjR47k008/5ZlnnuHpp58mK0uWl+pOs8PFB7utvLuzGqNe4dGJ6ZyXFe3rsISf+WF+PA5V42/bjnOswc7Pz08nLUquIfrL3XWhP7O1qBzY3cqh/a0YDApnnxtOepZ8h84kM8dMZJSerRub2fBpE6kDjAwpMBMT5770weHQqCxzUHbUQWW5A9UFcQl6ho4IJ32AJKn9ZTS2rcGanGZg59YW1n/aRGKKgdwhZpLTDAFxs8ZjyarD4WDZsmVMmzaNMWPGAPDwww8zY8YMNmzYwKRJkzx16ICnqSps34T63t+g7AjKlTegXHdbQHyhQpliNEFGNmRk05NP6uR9tOPlbS202zejfboc7ZP3ITwSZeRYmi+agpY+ECUs3BOhh4ze1kt79uxh586dvPDCCwwYMACAGTNm8L//+7/893//N4mJifzrX/9i3LhxXHll23JS06ZNY8+ePXz00Uc88MAD3i1gAFA1jYM1rXx6qI5PD9XRYFc5NzOS+8alEm+RkSni1G4sTCAjysRL64/x4LKDXJEXx1V5sQyIMfs6tIDkibrQ39hbVaoqnZQWO6g85kDTYEC2ifxRYZjDpHW+p+ISDVx4eRT7d9s4uLeV8hIHMXF60jONJCQbiInT97hrqaZqNDWpNNS5sFa7qK50Umd1oWlgDlPIyjGRlWtyazIs2qQNMJGcauTQvlYO7Wtl49omwiwKaQOMJKUZiU/Q++0awx77Nhw+fBibzUZhYWHHtvDwcHJycigqKgrpZFXTtLYWNwCXE+rroN6KdqwEDu9F+2Yj1FRBchq6h36DMmKsbwMWXqEkpaJcdDVcdDWarQWKtqJt+wpt+2aqN3wKBkNbd+GsXMgYiBKfBHEJEB3bNj7WbJZZos+gt/XSrl27iImJ6bg4A8jPz+947Pzzz2fPnj1Mnz690/MKCgpYt26dB0vivzRNw+7SaLS7aLKrNNpdVDQ6KGuwU1zbStHxFhpaXRh0CucMiOT6gnjyEiy+DlsEgHOzohiaZOHv3xzn471WPtpjJSvGxIiUcAbGhZEWZSTeYiTCpCPCqMeolxu8p+PuunDixIleiVvTNFQVNBVcqobToWFv1bDbNew2jaZGF00NKvV1Lhrr2yblMocpZA82k5NnIkJmj+0TvUFh6HALOXlmSoodlBy2s2t72yyzOh1YInREROowmhQMBgWdXkFT2z4rp0PDZlNpbdFoaVFRv1tNRdFBXLyewflmklKNxCfqpVHGw/QGhcH5YeQOMXOs1EHZEQfFB+0c2mcHIDJaR2SUnsgoHZYIHSazgtmswxTW/rmCXqeg1+PVFm+PJas1NW1royUkJHTaHhcXR3V1tduPp23bgPr3V9tqMGhLBrUTRg92/Lf2/f+duK1j1xOep524/yn21bTOr3fivie+Xqfnn4HZAkOHo1x/O8rYC6QLaIhSwiww5jyUMeehuVwk1B2navXHaIf3oW1cCy0fn3psrNHUltQqCqC0TfCE0vZvRWk7O/jhuUC5bjq68y7x+HF6Wy/V1NQQH995oh+DwUB0dDTV1dU0NzfT2traZZ/4+HiP1HMAuyqbeWFdGY7vlhQ4oRbqXD1BR73TsU/7g8q+jhkeO/3viVUXJ1WF3ezTk9pNp0BKpJFxGZGMSAlnXEYkUWap30TvxFsM/GRCGtNHJbHmUB3bjjXxyYE6Wl21XfbVKaBXFPS6tv/X6RR0Ss+rwF5VlT28yJ42zsFlmb4fL+buutATGupdfPVZIw7H9wnqGS+lFAiP0BEZpWNAtomEJAOxCT1v+RPdM5l15A4xkzvEjK1FpabKSW2Ni+ZGleYmlcZ6FadTw+XS2n5vOjAYFMwWhZh4PakWI1ExeqJidERF69Eb5HPxBZ1eISPLREaWCadTo7baSU2Vi9oaJ40NLiqOOTrSqdNRdG03KhT47jJT6agGFQXSM40MH+Oe3oAeS1ZbW9vWRTOeNNOp0WjE4ej5FMrp6V0nmznVNrt9JI0TJrVdNbV/99sv0Nv+8f0dm47fxgmPd9qXTtsVlJO2nfAiykmv0fH0E7eduC+dtit6PbrYePSx8RjSBmDIyO42QT1V2UNJyJY/M5MBw9u6ammahqv6OK6qSlxV5ah1tai2FrTWFjRbC5rT2XZGV1VAQ1O/S1XUnpzpfSNi+FmYu/ls3fW597ZestvtXfaFtos0u91+2tczGAw4HA40TevxneKellGJaGHScRdOVetc1fF9/XSq7SdXUyfUbCc9R+lcTZ1m+/fPPWH7d4+ZDXqizAaiwgxEmQ2kRoeRHmPBZPBeF6NgryuCuXw9KVs6UDCo7b9dqkZFg42j1hZqmu002Jw0tDpodaq4VK3tT9M6/rsnelNV9nRXDY0hyZGkpyeceWcPc3dd2Bs9/e7a4pxY86txqW2Jj16vfP//+rZEyGTSE2Zp/zMQGWVE76YW9WD+jZ1KX8qbO8gDgXhJKH2+ZyrrydNrqKpGS7MTW4uLlmYnLS0unA4Vl1PD6VRxudr+X1W1jrZBTdM62vA0TSM9M4L09Bi3xO+xZLV9cL7D4cBg+P4wDoejVzPHlZWVdfp3enp6l21tBwyHG+7sW7D+pKLitA+dtuwhIpTLf8qyR8e3/QUBG8BpPttTlb2vJ5ne1ksmk+mUF25Op5OwsLBOr3fy42Zz79aB6813e3phVI/3PRXv/ZZcbX+trVRV1nnheG2Cva4I5vL1p2yZpra/tiXk/XMsa3p6Qq/K56kLanfXhb3Rm/JnDe7Zfi4Nmprb/twhmH9jpyLlDV79LavOCBF96gzSRFlZU4/37q6u89ht7vbB9lartdN2q9XapSuJEEJ4Q2/rpYSEhC77Op1O6uvrSUhIIDIyErPZ3GWfmpqaLt3rhBDCX7i7LhRCCE/xWLKanZ2NxWJh586dHduam5s5dOgQBQUFnjqsEEKcVm/rpfz8fGprazvdlSwqKup4TFEUhg0b1un1AHbu3Cn1nBDCb7m7LhRCCE/xWDdgo9HIlClTWLx4MbGxsSQnJ7No0SLi4+OZMGGCpw4rhBCndaZ6SVVV6uvrCQ8Px2QykZeXx9ChQ3nppZe49957sdvtLFy4kEmTJnW0PlxzzTU89dRTfPDBB5x99tl89tlnHDx4kBkzZvi4tEIIcWqeqAuFEMITPLqQ0dSpU1FVlQULFmCz2cjPz+fxxx/vND5CCCG8qbt6qbKykgcffJCZM2cyefJkFEVh1qxZ/OUvf2HOnDmYTCbGjx/PHXfc0fF6o0aNYubMmSxdupR33nmHAQMG8Oijj3Za4kEIIfyNu+tCIYTwBEXT/HR6UCGEEEIIIYQQIct76wgIIYQQQgghhBA9JMmqEEIIIYQQQgi/I8mqEEIIIYQQQgi/I8mqEEIIIYQQQgi/I8mqEEIIIYQQQgi/I8mqEEIIIYQQQgi/I8mqEEIIIYQQQgi/I8mqEEIIIYQQQgi/I8mqEEIIIYQQQgi/I8mqEEIIIYQQQgi/Y/B1ACdSVZWlS5eyatUqmpqaGDZsGPfccw+pqamn3L+hoYE33niDrVu3AjBhwgRuv/12wsLCvBm2W/S27OXl5bz11lvs3r0bl8tFXl4e06dPJzMz08uRu0dvy3+iL774gnnz5jFv3rwe7e9velt2p9PJkiVL+Oyzz2hubiY3N5c777yTgQMHejdwN+ht2a1WK3/961/59ttvASgsLOT2228nISHBm2H7pZaWFt555x02bdpEfX09GRkZ3HjjjYwdOxb4/r3btm0bOp2O0aNHc8cddxAdHQ307zfoDWcq3/79+/nb3/7GoUOHiIiI4Pzzz2fq1KkYjUbAv8tXU1PD//3f//Htt99it9spKCjg1ltv7ajPDx8+zJtvvsmBAweIjIzkyiuv5Ac/+EHH8/25bHDm8n377bcsWbKEI0eOYLFYOOuss5g2bRqRkZFA4JfvRH/+85/Ztm0bf/7znzu2+Xv5QlFZWRmPPvood9xxB5dccomvw/GYzz77jH/9619UVlaSkpLCTTfdxLnnnuvrsDyi/dpp7dq1NDU1MXDgQKZNm8bQoUN9HZpbvffee2zZsoUnn3yyY9uZziH+zq9aVpcuXcrKlSuZMWMGc+fORa/XM3fuXOx2+yn3f+GFFygvL+eJJ55g1qxZfPvttyxYsMDLUbtHb8re0tLCk08+icPhYPbs2cyZM4ewsDDmzJlDXV2dD6Lvv95+9u2OHz/Oa6+95qUoPaO3ZX/ttddYtWoVM2bM4OmnnyY6Opq5c+fS1NTk5cj7ry+/+aqqKn79618ze/ZsqqureeaZZ7wctX96+eWX2bJlCzNmzODZZ5/lnHPO4dlnn2XHjh04HA7+93//l8rKSp544gl+9atfcfjwYebPn9/x/L7+Br2lu/LV1dUxd+5c0tPT+cMf/sCMGTP49NNPWbRoUcfz/bV8mqbx1FNPUVNTw69//WueeuopTCYTv/vd77DZbNTX1/Pkk0+SmprKU089xdSpU1myZAmffPJJx2v4a9ngzOU7ePAgv//978nPz+epp57ioYceYt++fTz//PNomgYEdvlOtHHjRlavXt3lNfy5fKHI6XQyf/58WltbfR2KR33++ee88sorXHbZZTz//PNccMEFvPjii+zevdvXoXnEP/7xD9asWcOMGTP4wx/+QHp6Or///e+pqanxdWhus2LFCt5+++1O23pyDvF3fpOsOhwOli1bxk033cSYMWPIzs7m4Ycfpra2lg0bNnTZf8+ePezcuZOZM2eSm5tLYWEhM2bM4Msvv6SqqsoHJei73pZ9y5Yt1NTU8PDDDzNw4ECysrL4yU9+QmtrK5s2bfJBCfqnt+Vvp6oq8+fPJzc314vRuldvy15ZWcnq1au5//77GTNmDBkZGTzwwAOYTCb279/vgxL0XW/LXl9fz549e7j22mvJzc0lJyeH6667jkOHDgXsTRp3qa2tZePGjdxxxx2MHDmS1NRUrr/+egoLC1m9ejVffvkllZWV/OIXv2DQoEEMGTKE22+/nbKyMpqamvr8G/SX8u3atYumpiZuu+020tLSGD16NBMnTmTbtm1A3+sYb6irqyMjI4P777+f3NxcBgwYwA033EBdXR1Hjhzhk08+wWAwcO+99zJgwAAmT57MNddcw/vvv+/3ZYOelW/gwIH893//N+np6RQUFHD33Xezc+dOysvLA7587axWKwsWLKCgoKDT8/29fKFoyZIlAdlDrzc0TeOdd95hypQpXHXVVR116siRI9mxY4evw/OIzZs3M3HiREaPHk1aWhq33XYbLS0tQZGc19TU8PTTT/PWW2+Rnp7e6bEznUMCgd8kq4cPH8Zms1FYWNixLTw8nJycHIqKirrsv2vXLmJiYhgwYEDHtvz8/I7HAklvyz506FAee+wxwsPDO7YpioKmaTQ2NnolZnfqbfnbvffeezidTq699lovROkZvS37tm3bsFgsnH322Z32f/nllxk1apRXYnaX3pY9LCwMs9nc0f3ZZrPxxRdfkJaWRlRUlDdD9ztms5nHH3+8ow5spygKjY2NbNu2jYKCAuLi4joeGzVqFC+//DIRERF9/g16y5nK196VeeXKlaiqSlVVFdu2bWPIkCFA3+sYb4iNjeWnP/1pxwVGbW0tH374IXFxcWRlZbF7926GDRuGXq/veE5hYSEVFRXU1NT4ddngzOW74ooruOeeezo9R1EUABobGwO+fNCWGLz88stMmjSpS7Lq7+ULNUVFRXzyySf8+Mc/9nUoHlVWVsbx48e54IILOm3/9a9/zY033uijqDwrOjqar7/+msrKSlRVZfXq1RiNRnJycnwdWr8dPHgQi8XCc889x+DBgzs9dqZzSCDwmzGr7W/YyWPP4uLiqK6uPuX+8fHxnbYZDAaio6NPub8/623ZExMTSUxM7LTto48+wuFwMGbMGM8F6iG9LT+0jU/78MMPO7pfBarelv3YsWMkJyezZcsW3n33XaqqqsjNzWX69OmdbtwEgt6W3WQy8eMf/5iFCxdy5513Am0XinPmzEGn85v7bj5hsVgYPXp0p2179+5lx44d3HnnnaxZs4ahQ4fyr3/9izVr1mC32xk1ahTTp08nIiKiT79BbzpT+QoKCrj22mt55513WLx4MaqqdrTQQd/qGF94+eWX+eyzzzAajfzyl78kLCyMmpoaRo4c2Wm/9psOVVVVWK1WwP/LBqcuX3Z2dpf93nvvPeLi4sjJyeHrr78GArd80HZ+tlqtPProo7z33nudnhMo381Q0NTUxB//+EfuuuuuLtdYwebYsWNAW5fnp556igMHDpCcnMz111/fMQ9AsLnrrrv4f//v//Hggw+i0+lQFIVHHnmEtLQ0X4fWb2PHjj3t53amc8jJuZQ/8psrvPaxAe2TYbQzGo04HI4u+9vt9i77QlvCGmjjPHpb9pOtX7+et99+m6uvvrrjTm4g6W35bTYb8+bNY9q0aQFfyfS27C0tLVRWVrJ48WKmTp3Ko48+il6v57e//S21tbXeCNltelt2TdM4ePAgeXl5zJkzh9/+9rekpKTwzDPP0Nzc7JWYA0VJSUnHHdZLL72U5uZm1q5dy759+3jwwQe5//772bNnD8888wyapvW7DvK2k8vX1NREaWkpl19+Ob///e955JFHqKio6JjEJlDK94Mf/ICnnnqK888/n2effZaDBw/S2tqKwdD5vnJ7ORwOR8CUDU5dvhNpmsabb77Jtm3buOeeezAYDAFfvuLiYv7xj3/w0EMPnfKaJZDKF+wWLlzIkCFDurQ2BqP2c+b8+fOZMGECs2fPZtSoUTz77LNs377dx9F5xtGjR7FYLPziF79g7ty5XHTRRfzxj3/sUg8FmzOdQwKB3ySrJpMJ6PrGORyOU44dMJlMp3yTnU5nwI016G3ZT7R8+XJefPFFJk6cyK233uqxGD2pt+V/4403SEtL47LLLvNKfJ7U27IbDAZaWlp4+OGHGT16NIMHD+anP/0pmqaxZs0ar8TsLr0t+7p161ixYgUPPfQQw4YNo6CggF/+8pdUV1cH1EQBnlZUVMRvfvMb4uLieOyxxzAYDBgMBkwmEz/96U/Jy8tj1KhR/PjHP2bXrl3s27evX3WQt52qfH//+99pbGzkjjvuIDc3lwkTJjBz5ky++OILDhw4EDDly8zMZNCgQdx///0kJSWxfPlyTCYTTqez037t5QgLCwuYssGpy9fO4XAwf/58/v3vfzNjxgzGjRsH9O/86G0nl+/9999n3rx53HDDDadsQYbAKl8w+/zzz9m9e3eXLunBqj15ueaaa7jooosYOHAgU6dOZfTo0Xz44Yc+js79qqqqmD9/Pj/60Y8YN24cgwYN4r777iM7O5slS5b4OjyPOtM5JBD4TTfg9i4XVqsVi8XSsd1qtZ6ye2NCQkJH96d2TqeT+vr6gFvGordlh7bJhd58800+/vhjrr32Wn70ox91jPMJNL0t/5o1azAajUyfPh1oey8AfvGLXzBx4kTuu+8+L0TtHr0te3x8PIqidHrMZDKRkpJCZWWl5wN2o96Wfffu3aSlpXUaqx0ZGUl6ejrl5eWeDzgArF27lldeeYWCggJ+/vOfd7yvCQkJxMTEdGq9aV9Wo7KysmOJjN7UQb5wuvLt2bOny5jtvLw8oK27mz+Xz2q1snPnTs4///yOOlyn05GZmYnVaiUxMbHLUIcTu/62z5jrj2Vrj6O78kHb2NRnnnmGAwcO8POf/5xzzjmn4/l9OT96U3flq6+v5+jRo/zjH//gH//4B9B2naKqKtOnT+e+++7r6B3kr+ULFWvWrKGuro4HHnig0/bXX3+djz76iBdeeMFHkXlG+3Xyyb3xMjMzA3KizjPZv38/Lpery3jOvLw8Nm/e7KOovONM55BA4DfJanZ2NhaLhZ07d3ZMVNDc3MyhQ4e4/PLLu+yfn5/P3//+d8rKyjr2b5+M4ORJOPxdb8sO3y9fcvfdd3PFFVd4M1y36235582b1+nf+/btY/78+Tz66KMBt85sb8teUFDQ0R22vdK12+1UVFQwYcIEr8beX70te0JCAmvXrqW1tRWz2Qy0dQmvqKjgvPPO82rs/uiLL77gj3/8IxdccAEPPPBAp24/+fn5LF++HLvd3tGS0z5TaWpqap/qIG/rrnzx8fGdZl6F78uXnp5OZmam35avqqqKefPmkZiYyLBhw4C2hObQoUOcddZZxMfHs2LFClwuV8cEGTt37iQtLY3Y2FgiIiL8tmxw5vLZbDaefPJJKisr+c1vftNlzUN//252V772VQpOtHz5cjZs2MDvfvc7YmJiMBgMfl2+UPGTn/ykyxCyhx56iBtvvDEouwXn5ORgsVg4cOBAp8m9jhw5EpTr+7aPyywuLu5Uxxw5ciTgh5OdSX5+frfnkEDgN8mq0WhkypQpLF68mNjYWJKTk1m0aBHx8fFMmDABVVWpr68nPDwck8lEXl4eQ4cO5aWXXuLee+/FbrezcOFCJk2aFBCDhU/U27J/9dVXfPLJJ1x33XWMHz++01jFsLCwgGnWb9fb8p9ckbZPQpGYmEhMTIwvitBnvS37sGHDGDFiBC+//DL33nsv0dHRLFmyBEVRmDx5sq+L0yu9LfuFF17Ihx9+yIsvvsgtt9zSMfW+wWDgoosu8nVxfKq6uppXX32VwsJCbr311k6zghsMBi677DI+/vjjjveuubmZhQsXkp+f33HTo7vPwtfOVL5rrrmG3//+97z99ttMnjyZqqoqXnvtNUaNGtWxtJW/lm/QoEEUFhby6quvMmPGDMLDw/nnP/9JQ0MD11xzDWazmffff59XXnmFa6+9loMHD7Js2bKO7opn+h352pnKt2jRIoqLi5k1axYpKSmdzmeRkZEBXb7rr7+e5OTkTvtHRkai0+k6ncf8uXyh4nTXjdHR0SQlJXk5Gs8zmUz84Ac/4N133yUuLo68vDzWrVvHN998w+zZs30dntsNHjyYYcOG8corr3DPPfeQkJDAZ599xvbt2/nd737n6/A86qKLLur2HBIIFK29D5EfUFWVxYsX8+mnn2Kz2cjPz+fuu+/u6OL44IMPMnPmzI6L8rq6Ov7yl7+wdetWTCYT48eP54477uhoOQgkvSn7c889x8aNG0/5Otdffz233HKLl6Pvv95+9ifauXMnc+bMYd68eQF5R7C3ZbfZbLz11lusX7+e1tZWhg4dyu233x6Qk2v1tuylpaW89dZb7N27F4Bhw4Zx2223kZKS4sNS+N7y5ct58803T/nY0KFDefLJJzl27Bh//etf2blzJwaDgXHjxnHbbbcRGRkJdP9Z+FpPyrd161aWLl1KSUkJkZGRjBs3jltuuaXj5p0/l6+xsZG///3vfP311zQ3N5Ofn8/06dM7ftMHDhzgjTfe4NChQ8TGxnL11Vdz1VVXdTzfn8sG3ZfvzjvvpKmp6ZTPmz17NiNHjgzo8p1syZIlrF69umPyL/D/zy9U3XzzzcyYMYNLLrnE16F4zEcffcTHH39MdXU1GRkZ3HTTTZ264QeTxsZG3n77bbZs2UJjYyNZWVnccsstDB8+3NehudXLL79MeXk5Tz75ZMe2M51D/J1fJatCCCGEEEIIIQT40WzAQgghhBBCCCFEO0lWhRBCCCGEEEL4HUlWhRBCCCGEEEL4HUlWhRBCCCGEEEL4HUlWhRBCCCGEEEL4HUlWhRBCCCGEEEL4HUlWhRBCCCGEEEL4HUlWhRBCCCGEEEL4nf8P+TMwUZmNoAEAAAAASUVORK5CYII=\n",
      "text/plain": [
       "<Figure size 1152x864 with 12 Axes>"
      ]
     },
     "metadata": {},
     "output_type": "display_data"
    }
   ],
   "source": [
    "# Density\n",
    "data.drop(columns='Class').plot(kind='density', subplots=True, layout=(4,3),figsize=(16, 12), sharex=False)\n",
    "plt.show()"
   ]
  },
  {
   "cell_type": "code",
   "execution_count": 46,
   "id": "searching-monster",
   "metadata": {},
   "outputs": [
    {
     "data": {
      "text/html": [
       "<div>\n",
       "<style scoped>\n",
       "    .dataframe tbody tr th:only-of-type {\n",
       "        vertical-align: middle;\n",
       "    }\n",
       "\n",
       "    .dataframe tbody tr th {\n",
       "        vertical-align: top;\n",
       "    }\n",
       "\n",
       "    .dataframe thead th {\n",
       "        text-align: right;\n",
       "    }\n",
       "</style>\n",
       "<table border=\"1\" class=\"dataframe\">\n",
       "  <thead>\n",
       "    <tr style=\"text-align: right;\">\n",
       "      <th></th>\n",
       "      <th>NDVI</th>\n",
       "      <th>LST</th>\n",
       "      <th>TA</th>\n",
       "      <th>Class</th>\n",
       "    </tr>\n",
       "  </thead>\n",
       "  <tbody>\n",
       "    <tr>\n",
       "      <th>NDVI</th>\n",
       "      <td>1.000000</td>\n",
       "      <td>-0.211127</td>\n",
       "      <td>0.155989</td>\n",
       "      <td>0.028560</td>\n",
       "    </tr>\n",
       "    <tr>\n",
       "      <th>LST</th>\n",
       "      <td>-0.211127</td>\n",
       "      <td>1.000000</td>\n",
       "      <td>0.372892</td>\n",
       "      <td>0.559003</td>\n",
       "    </tr>\n",
       "    <tr>\n",
       "      <th>TA</th>\n",
       "      <td>0.155989</td>\n",
       "      <td>0.372892</td>\n",
       "      <td>1.000000</td>\n",
       "      <td>0.472414</td>\n",
       "    </tr>\n",
       "    <tr>\n",
       "      <th>Class</th>\n",
       "      <td>0.028560</td>\n",
       "      <td>0.559003</td>\n",
       "      <td>0.472414</td>\n",
       "      <td>1.000000</td>\n",
       "    </tr>\n",
       "  </tbody>\n",
       "</table>\n",
       "</div>"
      ],
      "text/plain": [
       "           NDVI       LST        TA     Class\n",
       "NDVI   1.000000 -0.211127  0.155989  0.028560\n",
       "LST   -0.211127  1.000000  0.372892  0.559003\n",
       "TA     0.155989  0.372892  1.000000  0.472414\n",
       "Class  0.028560  0.559003  0.472414  1.000000"
      ]
     },
     "execution_count": 46,
     "metadata": {},
     "output_type": "execute_result"
    }
   ],
   "source": [
    "\n",
    "data.corr() #return correlation between columns"
   ]
  },
  {
   "cell_type": "code",
   "execution_count": 47,
   "id": "amazing-communication",
   "metadata": {
    "scrolled": true
   },
   "outputs": [
    {
     "data": {
      "image/png": "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\n",
      "text/plain": [
       "<Figure size 864x864 with 2 Axes>"
      ]
     },
     "metadata": {},
     "output_type": "display_data"
    }
   ],
   "source": [
    "#Correlation matrix\n",
    "plt.figure(figsize=(12, 12))\n",
    "corr = data.corr()\n",
    "sns.set(font_scale=1.4)\n",
    "res=sns.heatmap(corr, annot=True)\n",
    "res.set_title(\"Correlation Matrix of All Columns\",fontsize=25,fontweight='bold')\n",
    "res.set_xticklabels(res.get_xmajorticklabels(), fontsize = 18,fontweight='bold')\n",
    "res.set_yticklabels(res.get_xmajorticklabels(), fontsize = 18,fontweight='bold')\n",
    "plt.savefig('C:/Users/kayle/Desktop/CorrMatrix',dpi=300) #, transparent=True)\n",
    "plt.show()"
   ]
  },
  {
   "cell_type": "code",
   "execution_count": 48,
   "id": "ultimate-footage",
   "metadata": {},
   "outputs": [
    {
     "data": {
      "text/plain": [
       "0    421\n",
       "1    292\n",
       "Name: Class, dtype: int64"
      ]
     },
     "execution_count": 48,
     "metadata": {},
     "output_type": "execute_result"
    }
   ],
   "source": [
    "data.Class.value_counts() #count target feature "
   ]
  },
  {
   "cell_type": "code",
   "execution_count": 49,
   "id": "mathematical-finland",
   "metadata": {},
   "outputs": [
    {
     "name": "stderr",
     "output_type": "stream",
     "text": [
      "C:\\Users\\kayle\\Anaconda3\\lib\\site-packages\\pandas\\core\\series.py:4485: SettingWithCopyWarning: \n",
      "A value is trying to be set on a copy of a slice from a DataFrame\n",
      "\n",
      "See the caveats in the documentation: https://pandas.pydata.org/pandas-docs/stable/user_guide/indexing.html#returning-a-view-versus-a-copy\n",
      "  method=method,\n"
     ]
    },
    {
     "data": {
      "image/png": "iVBORw0KGgoAAAANSUhEUgAAAZYAAAEtCAYAAAAr9UYgAAAAOXRFWHRTb2Z0d2FyZQBNYXRwbG90bGliIHZlcnNpb24zLjMuMiwgaHR0cHM6Ly9tYXRwbG90bGliLm9yZy8vihELAAAACXBIWXMAAAsTAAALEwEAmpwYAAAucUlEQVR4nO3de1hN+f4H8PfuJrULKYWcQuSWpJSZnw7DHMZgZjAMkkvuJhyXwTHkMpkL00T0uJXjMk0quR8Z43YcIyon1zIuQ0J2lKTrrr337w+nNS0l7Wlll96v5/E8e33Xd6312Z797Hfr+11rbZlGo9GAiIhIInq6LoCIiN4uDBYiIpIUg4WIiCTFYCEiIkkxWIiISFIMFiIikpSBrgsgKk2hUCAiIgK//vorUlNTkZ2dDVNTU9jb2+Odd97ByJEjYW1tXWa78+fPY8yYMcLy8ePHYWtr+yZLf2M0Gg2OHTuGI0eO4NKlS8jIyIBarUbjxo3RuXNnDBw4EH369IFMJtN1qZIrKCjAvXv30LZtW12XQhWQ8T4Wqik2bdqE4OBgFBYWvrJPvXr1MH/+fIwePVrUXleCJSUlBbNnz8a1a9cq7Ofi4oIffvgBzZo1e0OVVS+1Wo39+/djzZo1+PTTTzFjxgxdl0QV4BkL1Qh+fn6IiIgQtdnb28PMzAz37t3Ds2fPAACFhYX46quvYGBggBEjRuiiVJ25ceMGvL29kZWVJbTJ5XK0atUK2dnZSE1NhUqlAgAkJibCx8cHUVFRMDMz01HF0lCr1RgyZAiSk5N1XQpVEudYSOeioqJEoeLk5IRDhw7h559/xu7du3H27FksWbIE+vr6Qh9/f3+kp6frolydyM/Px8yZM4VQ0dfXx4IFCxAbG4uoqCj8/PPPOHToEFxcXIRt7ty5gzVr1uimYAmp1WqGSi3DYCGdUiqVWLt2rbBsa2uLbdu2oU2bNkKbgYEBRo8ejTlz5ghtRUVFiIyMfKO16lJUVBTu3LkjLC9atAg+Pj4wMjIS2lq1aoXNmzeL5qD27t2LvLy8N1orEYfCSKeOHTuGx48fC8tTpkyBXC4vt++IESOQmJgIFxcXdOvWDR07dqz0cYqLixEZGYnDhw/j5s2beP78OfT19WFpaQknJydMmDABzs7OZba7cuUKdu7cicTERKSnp6O4uBhmZmZwcHBA//79MXz4cBgaGpbZLjY2FuHh4bhy5Yowud6wYUM4Ojpi0KBB+Pjjj7WaXN+1a5fw2sbGBqNGjSq3n7m5OaZMmYLbt2/Dzc0N7u7uMDExKdPvyZMn2L17N3755Rfcv38feXl5sLKygpubG7y8vMr9v1i3bh3Wr18PAGjevDlOnDghWn///n306dNHWN6xYwc8PDwAiOfArK2tcfr0aVy4cAFbtmxBYmIiCgoK0LJlSwwZMgSjRo2CgYFBmWOWWL9+PdavX19uDVQzMFhIp+Li4kTLPXv2fGVfuVyO4OBgrY+hVqsxb948xMTEiNpVKhUePnyIhw8f4pdffsHq1asxcOBAYf2BAwewYMECqNVq0XZPnz5FfHw84uPjcebMGQQFBYnCZdOmTfjhhx/K1PH48WM8fvwYZ86cwcWLF7Fs2bJK1Z+RkYHbt28Ly56entDTe/Vgg5eXV4X7O3XqFBYsWCCaqwGABw8e4MGDB9i/fz/GjBmDhQsXioYfpRQWFgZ/f3/R/21ycjJWrlyJS5cuISAgoFqOS28Gh8JIp27evCm8NjExKfdS4qqKjo4WhUqTJk3g4uIiumpMrVaLvsxyc3OxdOlS4YvPyMgIHTp0gLOzs+iM6sSJEwgLCxOW7927J5rXMDU1RceOHeHk5ARjY2OhPTw8HMeOHatU/Tdu3BAtt2rVqlLblScpKQkzZswQhYqNjQ0cHR1F4bhjxw6sWrXqTx+nIpmZmfjqq6+g0WjQtm1btG7dWrT+0KFDwpxK8+bN0a1bN9H65s2bw93dvdyzKqoZeMZCOlX6C666rl66cuUKzM3NkZ2djU8++QTffPON8Bf/mjVrsGHDBgDAw4cPkZOTA7lcjps3bwpzEyYmJjh+/DgsLCwAAHl5eZg6dSouXboEOzs70VDelStXhDBq0aIFDh48iPr16wN48YU6ZswYPHjwAC1btsT9+/crVf/LZxZV+X/y8/ODUqkU3tfq1avx/vvvAwAePXqEWbNm4eLFiwCA7du34+OPP0aHDh3+9PHKU1RUhMaNG2Pz5s3o1KmTcKyvv/5a6HPp0iW0b98eQ4YMwUcffSQa9hw8eDAvN67hGCykU8XFxcLrl4ecpLJixQqsWLECaWlpMDMzE0JFpVKhSZMmor4lwWJlZSW05efnY8OGDfjggw/QuXNnmJiYYMuWLTA0NCwzJFV6f48ePcKWLVvQp08ftG/fHhYWFti9e7fozKUySi4hftVyZSUnJ+PKlSvC8tSpU4VQAV6cuQQEBKB///5QKpXQaDSIjo6WPFgA4PPPPxdCBQBGjRqF1atXo6ioCEDZMKXahcFCOtWwYUPh9fPnz6v1WKampoiNjcXFixdx7do1XL58Gbm5uaI+JUHXvHlzDBw4EIcOHYJGo8GOHTuwY8cOGBsbo2PHjnBzc0OvXr3QtWtX0faurq5wdXXFhQsXUFRUhODgYAQHB8PU1BSdO3dGt27d0KdPH7Rr167SdTdo0EC0nJ2d/afef+lQASAKlRK2trZo3749Ll26BAC4fPnynzrW6zg5OYmWDQ0N0bBhQ+Hsr/QfHFT7cI6FdMrOzk54XVBQgAcPHlTYf/fu3bh165ZWx8jNzcWSJUvw7rvvwtfXFyEhIYiNjYW+vn6FV5Z99913mDFjhujspaCgABcuXMCmTZswcuRIDBo0SPTlq6enhy1btmDs2LGiQMjNzUVsbCyCgoLw8ccfw8vLCykpKZWq397eXrRc+rLj8ly/fh1Hjx4tc5nxy2cBr5rPKt3+qhAr74Ed2oTBy2EJQHTpNB8IUrsxWEinSi5HLXH69OlX9n306BGWLFmCAQMGoF+/foiKiqrUMRYsWIDIyEgUFRXB3t4e/v7++PnnnxEXF4cvvvjildsZGBjA19cXp0+fRkREBGbNmoUePXrA3Nxc6HPjxg1MmjRJ9AVsamqKRYsW4ddff8X27dsxderUMpf9JiQkYPLkyZUa1mrRooXo0SxnzpypcNgwLCwMM2bMQPfu3TF16lQ8ffoUAGBpaSnqp1Aoyt3+0aNHwuvSZ5SllQxZlabN/TLVdbUZ1QwMFtKpfv36ib6oQ0JCygxPlQgODha+UO/evVvhJbclSi4lLrF69WoMGzYM9vb2kMlkoon30vLy8nDt2jUcPHgQ+/btQ5cuXTB9+nSEhobi/Pnz8PPzE/pmZWXh/PnzAF4M5126dAn79u3DqVOn0L17d8yePRs7d+5EXFwcJk+eLGx39+5d/Pbbb699DwAwbNgw4XV6ejrCw8PL7Xfv3j0cOHAAwIvH39y4cUMIh9I3nQIo96q01NRUXL9+XVju0qWL8LpevXrC6/KGLSt7BlZVPJup+RgspFNyuRzTp08Xlu/fv48JEyaIhnvy8/Px3Xffie60b968OQYNGvTa/b/8V/m5c+eE1zdv3ixz813JGcTKlSsxZMgQzJs3D4sXL8bx48eFPnp6emVubiwJuRkzZmD48OFYsGABFi5ciMTERKFPeX+lVyYcAWD06NFo2rSpsPz111/jxx9/FA0//fe//8XEiRNRUFAgtE2ePFmo1cnJCQ4ODsK6jRs3isLl0aNH+OKLL4SrxvT19UWBVnJVHPBiSPA///mPsPzs2TNs2rSpUu9FWwYGBqL/75IzsOq62IOqjpP3pHPjxo3D5cuXcfjwYQAvHqDYv39/tG7dGvXq1cOdO3dEwywGBgb49ttvRWPyr9KyZUsYGhoKQzcBAQHYs2cPDA0NcfPmzTJ//ZacLU2cOBGHDh1CQUEBVCoVpk+fjhYtWsDS0hIKhQIPHz4UtmnUqBG6d+8OAJg+fTrOnz8PtVqNnJwcjBgxAq1atYK5uTkePHggOkNq3bo1HB0dK/V/ZG5ujqCgIIwbNw65ubkoLi7GV199haCgINjb2+PJkydl5qd69OiB4cOHi9r8/Pwwfvx4qFQq5OXl4fPPP0fTpk3RoEED3L59WzTENXXqVFEQubm5ifbl6+uL999/H4aGhjh58iSysrKgp6dXLV/4FhYWyMjIAABERETg0qVLePbsmSjwqebgGQvpnEwmQ0BAACZNmiQ8ykOj0eDWrVu4du2aKFQsLCywceNGuLu7V2rfDRs2FA0/AS8mv2/cuAGNRgMLCwvR5b8lZ0otW7bEmjVrRPMiqampSExMFIWKmZkZgoKCYGpqCgBwd3fH8uXLhfcBAL///jsuXrwoCpUmTZpg7dq1Wj3WpXPnzggPDxfdIPns2TNcunSpTKh8+OGHWL9+fZkzIg8PDwQEBIgmz9PS0nD9+nUhVGQyGaZOnVrmXhF7e3t89tlnwnJBQQEOHTqEvXv3IisrC9OnTxdd6CCl0k9kUKlUuHbtGu7fv4/8/PxqOR5VDc9YqEbQ09PDvHnzMGzYMOzatQtnz57Fw4cPkZeXBzMzM7Rp0wbvvfcePv30U9GcTGXMnDkTtra2CAsLw82bN6FWq9G0aVN4enpiypQpWL58ufCXb0xMDAYMGAAAeO+99xATE4OdO3fi119/xb1791BQUID69evDzs4O//d//wdvb+8y98IMHz4crq6u+PHHHxEXF4cHDx5AqVQKj7jv2bMnRo8e/adudHR0dMShQ4dw8OBBHD16FNeuXUNmZib09fVhbW2Nrl27YujQoWXOLkrr378/3NzcEB0djWPHjiE1NRW5ublo0qQJ3N3d4e3t/cqr5ZYvXw5HR0fhoZjGxsbo0qULxo4di3fffRfR0dFav6fK+PLLL1GvXj0cO3YMWVlZaNiwIZycnKBUKoUbUKnm4A99ERGRpDgURkREkmKwEBGRpBgsREQkKQYLERFJisFCRESSYrAQEZGkeB8LgKdPc6FW86prIqLK0NOToVEj01euZ7AAUKs1DBYiIolwKIyIiCTFYCEiIkkxWIiISFIMFiIikhSDhYiIJMVgISIiSTFYiIhIUryPRQJm5sYwrmeo6zKohikoLMLz7ILXdyR6yzBYJGBczxCj5ofpugyqYX5a5YXnYLBQ3cOhMCIikhSDhYiIJMVgISIiSdWIYLlz5w5cXFwQFRUltCUnJ8Pb2xtdunRBr169EBoaKtpGrVYjKCgInp6ecHZ2ho+PD1JSUt506URE9BKdB0tRURHmzZuHvLw8oS0zMxPjxo2DnZ0doqOjMWvWLAQFBSEyMlLoExwcjPDwcPj7+yMiIgL6+vqYMGECCgsLdfE2iIjof3QeLOvWrYOpqfi5/pGRkTA0NMSyZcvQunVrDB48GOPHj8fmzZsBAEqlElu3boWvry969uyJdu3aITAwEE+ePEFMTIwu3gYREf2PToMlPj4eERER+O6770TtCQkJcHNzg4HBH1dDe3h4IDU1FQqFAsnJycjLy0P37t2F9XK5HB06dEBCQsIbq5+IiMrSWbBkZ2dj/vz5WLx4MZo2bSpap1AoYGNjI2pr0qQJACAtLQ0KhQIAYG1tXaZPWlpaNVZNRESvo7MbJJctW4YuXbpg0KBBZdYVFBTAyMhI1FayXFhYiPz8fFFb6T5KpVLrWho3lmu9DVFlWFmZ6boEojdOJ8Gyb98+JCQk4ODBg+WuNzY2LhMQJcsmJiYwNjYW2kqHi1KphImJidb1ZGTkVOmnifnlQa/y+PFzXZdAJDk9PVmFf5DrJFiio6ORkZGBXr16idpXrFiBbdu2oVmzZkhPTxetK1m2sbGBRqMR2uRyuaiPg4ND9RZPREQV0kmwfP/99ygoED9DqW/fvvD19cXAgQPxr3/9C2FhYSguLhYm8M+dOwd7e3tYWVmhQYMGkMvliIuLQ6tWrQAAOTk5SEpKwqhRo974+yEioj/oJFhennQvYWFhgebNm2Po0KEICQnBokWLMHnyZFy9ehXbtm3D0qVLAbyYSxk9ejQCAwNhaWkJW1tbBAQEwNraGn379n2Tb4WIiF5SI59u3LhxY4SGhmLlypUYPHgwrKysMHfuXAwZMkToM3PmTKhUKvj5+SE/Px+urq4ICQkpM6FPRERvlkxTMmFRh0kxec/H5tPLflrlxcl7eiu9bvJe53feExHR24XBQkREkmKwEBGRpBgsREQkKQYLERFJisFCRESSYrAQEZGkGCxERCQpBgsREUmKwUJERJJisBARkaQYLEREJCkGCxERSYrBQkREkmKwEBGRpBgsREQkKQYLERFJisFCRESSYrAQEZGkGCxERCQpBgsREUmKwUJERJJisBARkaQYLEREJCkGCxERSYrBQkREkmKwEBGRpBgsREQkKQYLERFJisFCRESSYrAQEZGkGCxERCQpBgsREUmKwUJERJJisBARkaQYLEREJCkGCxERSYrBQkREktJpsCgUCsyZMwceHh5wcXHB5MmTcfPmTWF9cnIyvL290aVLF/Tq1QuhoaGi7dVqNYKCguDp6QlnZ2f4+PggJSXlTb8NIiIqRWfBotFoMGnSJDx69AihoaHYvXs3jI2NMW7cOOTm5iIzMxPjxo2DnZ0doqOjMWvWLAQFBSEyMlLYR3BwMMLDw+Hv74+IiAjo6+tjwoQJKCws1NXbIiKq83QWLE+ePEHr1q2xcuVKdOrUCa1bt8b06dPx5MkT3LhxA5GRkTA0NMSyZcvQunVrDB48GOPHj8fmzZsBAEqlElu3boWvry969uyJdu3aITAwEE+ePEFMTIyu3hYRUZ2ns2CxsrJCYGAgWrZsCeBF0ISGhqJJkyZo27YtEhIS4ObmBgMDA2EbDw8PpKamQqFQIDk5GXl5eejevbuwXi6Xo0OHDkhISHjj74eIiF4weH2X6rdw4ULs3bsXRkZG2LBhA0xNTaFQKODg4CDq16RJEwBAWloa0tPTAQDW1tZl+qSlpb2ZwomIqIwaESwTJkyAl5cXfvrpJ3z++ecICwtDQUEBjIyMRP1KlgsLC5Gfny9qK91HqVRqdfzGjeVVqJ7o1ayszHRdAtEbVyOCpU2bNgCAlStX4tKlS9i5cyeMjY3LBETJsomJCYyNjYW20uGiVCphYmKi1fEzMnKgVmv+dP388qBXefz4ua5LIJKcnp6swj/IdTbHkp6ejoMHD0Kj+eMLXU9PDw4ODlAoFLCxsRGGu0pvAwA2NjZo2rSpqK10n5eHx4iI6M3RWbCkpaVh3rx5uHDhgtBWVFSEpKQktG7dGt26dcOFCxdQXFwsrD937hzs7e1hZWWFdu3aQS6XIy4uTlifk5ODpKQkuLu7v9H3QkREf9DZUJiTkxM8PDzg5+eHFStWwNzcHBs3bkRWVhbGjRsHExMThISEYNGiRZg8eTKuXr2Kbdu2YenSpQBezKWMHj0agYGBsLS0hK2tLQICAmBtbY2+ffvq6m0R1SiNGhjBwKiersugGqZYWYinz7Sbi9aGzoJFT08P69atw/fff4+///3veP78Odzc3BAWFoYWLVoAAEJDQ7Fy5UoMHjwYVlZWmDt3LoYMGSLsY+bMmVCpVPDz80N+fj5cXV0REhJSZkKfqK4yMKqHC6sm6roMqmFc54cAqL5gkWlKT3LUUVJM3o+aHyZhRfQ2+GmVl84n762szBgsVIbr/JAqfTZr7OQ9ERG9nRgsREQkKQYLERFJisFCRESSYrAQEZGkGCxERCQpBgsREUmKwUJERJLS6s779evXAwDGjx8PU1NT0bp79+5h27ZtsLKywrRp06SrkIiIahWtzljWr1+P4OBg5ObmllmXn5+Pn376Cdu3b5esOCIiqn0qPGO5desWpk2bBrVaLWr/7LPPoKf3RyZpNBo8e/YMAKBSqaqhTCIiqi0qDBYHBwe4urpi3759AACZTAYAFf70b7du3aSrjoiIap3XzrF88cUXKCoqgkajweHDhyGTydC7d2/hFxyBF4FjZGQEBwcHDBs2rFoLJiKimu21wdK4cWMEBAQAAB4/fgwA8Pf3h4WFRfVWRkREtZJWV4Xt3LmzuuogIqK3hNY/9HXkyBEcPnwYmZmZop8NLm3Xrl1VLoyIiGonrYIlNDQU33//vbBc3m+ElUzwExFR3aRVsISFhQlh4uDggAYNGoguOyYiItIqWDIyMiCTybB48WJ4eXlVV01ERFSLaXW60b59ewBA9+7dq6UYIiKq/bQKlvnz58PQ0BCbN2+GUqmsrpqIiKgW02oobO/evXBwcMCBAwdw/Phx2Nraim6ULMGrwoiI6i6tgiUqKgoymQwajQY5OTm4fv16mT68KoyIqG7TKlj4HDAiInod3nlPRESS4k0oREQkKa3OWEaMGFGpfpy8JyKqu7QKlosXLwqT96WVTNhrNBpO3hMR1XFVnrxXKpVQKBR49OgROnToADc3N8mKIyKi2keyyfsNGzYgODgY8+fPr3JRRERUe0k2eT9p0iSoVCoEBQVJtUsiIqqFJAuW+Ph4aDQaJCUlSbVLIiKqhap8VZharUZubi7u3r0LmUwGS0tLyYojIqLaR5KrwkobP358lYsiIqLaS5JHuhgZGcHKygp/+9vf0KdPH0kKIyKi2omPdCEiIklpFSyl3b59G7du3YJMJkPbtm1hb28vYVlERFRbaR0sqampWLBgARITE0Xt3bp1wzfffIPmzZtXel85OTkICgrCsWPH8PTpU7Rs2RKff/65MJyWnJyMr7/+GleuXEHDhg3h7e2NCRMmCNur1WqsX78eUVFRyM7OhqurK5YuXQo7Oztt3xYREUlEq8uN09PTMWrUKCQmJkKj0Yj+xcXFwcvLC0+ePKn0/v7xj3/g1KlT8Pf3x759+9C3b1/4+voiNjYWmZmZGDduHOzs7BAdHY1Zs2YhKCgIkZGRwvbBwcEIDw+Hv78/IiIioK+vjwkTJqCwsFCbt0VERBLS6oxl/fr1ePz4MerXr49p06bBw8MDarUacXFx2LRpExQKBdavX49ly5a9dl+PHz/G0aNHsWnTJrz77rsAgKlTpyI2Nha7d+9GmzZtYGhoiGXLlsHAwACtW7dGSkoKNm/ejOHDh0OpVGLr1q2YN28eevbsCQAIDAxEjx49EBMTg08++UTr/wwiIqo6rc5YTp06BZlMhi+//BKTJ0+Gs7MzXFxcMGXKFCxatAgajQYnTpyo1L7q16+PLVu2lHm2mEwmw7Nnz5CQkAA3NzcYGPyRfR4eHkhNTYVCoUBycjLy8vLQvXt3Yb1cLkeHDh2QkJCgzdsiIiIJaRUsWVlZAICuXbuWWefi4iLq8zpyuRx//etfIZfLhbaLFy/i3Llz6NWrFxQKBWxsbETbNGnSBACQlpYGhUIBALC2ti7TJy0trVI1EBGR9LQaCrOxsUFqair+/e9/o1WrVqJ1p0+fBgA0bdr0TxVy+/Zt+Pr6wtnZGZ999hm2b98OIyMjUZ+S5cLCQuTn54vaSvdRKpVaHbtxY/nrOxH9CVZWZrougahc1fnZ1CpY3n//fWzduhUBAQFISUmBu7s7ACAuLg67d++GTCbD+++/r3UR8fHx8PX1RbNmzbBp0yYYGhrC2Ni4TECULJuYmMDY2FhoKx0uSqUSJiYmWh0/IyMHavWrnybwOvzyoFd5/Pi5To/Pzya9SlU+m3p6sgr/INcqWKZNm4ajR4/i/v37iIiIQEREhLBOo9GgWbNmmDJlilYFHjhwAIsWLYK7uzuCgoKEoTEbGxukp6eL+pYs29jYCI+VSU9PFw2npaenw8HBQasaiIhIOlrNsZiZmSEyMhIDBw6EgYGBcKmxvr4+/va3vyE8PBzm5uaV3t/Bgwcxf/589O/fH5s2bRIFRLdu3XDhwgUUFxcLbefOnYO9vT2srKzQrl07yOVyxMXFCetzcnKQlJQknEkREdGbp/UNkhYWFvj++++xbNky3L17FwYGBrC1tRWFQmU8evQIS5YsgYeHB7744gvRpL+hoSGGDh2KkJAQLFq0CJMnT8bVq1exbds2LF26FMCLuZTRo0cjMDAQlpaWsLW1RUBAAKytrdG3b19t3xYREUnktcGi0WiwdetWHDx4EPv27RPa5XI5OnXqhPDwcPj5+WHy5Mlaza8cPXoU+fn5OHfuHDw9PUXrunbtivDwcISGhmLlypUYPHgwrKysMHfuXAwZMkToN3PmTKhUKvj5+SE/Px+urq4ICQkpM6FPRERvjkxTwTPwNRoNpk+fjlOnTgEAoqKi0KlTJ1GfMWPGIC4uDjKZDF5eXli8eHG1FlwdpJi8HzU/TMKK6G3w0yqvGjF5f2HVRJ3WQDWP6/yQap28r3COJSoqCidPnoRGo4GFhQWys7NF60vajY2NodFoEBYWhqNHj/7pYomIqParMFj27NkDAOjcuTOOHDkiPHqlhEwmw5o1a3Dw4EG0bNlSCBciIqq7KgyWmzdvQiaTYc6cOTAze/X18C1atMCCBQsAgL95T0RUx1UYLCqVCgAq9Sj8kjvx+WRhIqK6rcJgsbW1BfDizvjXKXnw4599pAsREb0dKgyWPn36QKPRYNWqVbhw4cIr+yUkJGDVqlWQyWTo3bu35EUSEVHtUeF9LBMnTsTevXuRnp6O0aNHo2PHjujUqRMaNWoEtVqNp0+f4urVq0hOToZGo4GlpSUmT578pmonIqIaqMJgMTMzw9atWzFt2jSkpqbi6tWruHbtmqhPyW0wNjY22LBhAxo1alR91RIRUY332jvvHRwcsH//fuzatQuHDx/G9evXhed3yWQytGnTBv3794e3t3eFV44REVHdUKlnhZmYmMDHxwc+Pj5QqVR49uwZVCoVGjRowMenEBGRiNYPodTX14eFhUV11EJERG8BrR6bT0RE9DoMFiIikhSDhYiIJMVgISIiSTFYiIhIUgwWIiKSFIOFiIgkxWAhIiJJMViIiEhSDBYiIpIUg4WIiCTFYCEiIkkxWIiISFIMFiIikhSDhYiIJMVgISIiSTFYiIhIUgwWIiKSFIOFiIgkxWAhIiJJMViIiEhSDBYiIpIUg4WIiCTFYCEiIkkxWIiISFIMFiIiklSNCZZNmzZh5MiRorbk5GR4e3ujS5cu6NWrF0JDQ0Xr1Wo1goKC4OnpCWdnZ/j4+CAlJeVNlk1ERC+pEcESFhaGwMBAUVtmZibGjRsHOzs7REdHY9asWQgKCkJkZKTQJzg4GOHh4fD390dERAT09fUxYcIEFBYWvum3QERE/2Ogy4MrFAosXboU58+fR8uWLUXrIiMjYWhoiGXLlsHAwACtW7dGSkoKNm/ejOHDh0OpVGLr1q2YN28eevbsCQAIDAxEjx49EBMTg08++UQH74iIiHR6xnLt2jWYmpriwIEDcHZ2Fq1LSEiAm5sbDAz+yD4PDw+kpqZCoVAgOTkZeXl56N69u7BeLpejQ4cOSEhIeGPvgYiIxHR6xtK7d2/07t273HUKhQIODg6itiZNmgAA0tLSkJ6eDgCwtrYu0yctLa0aqiUiosrQabBUpKCgAEZGRqK2kuXCwkLk5+eL2kr3USqVWh2rcWN5FSolejUrKzNdl0BUrur8bNbYYDE2Ni4TECXLJiYmMDY2FtpKh4tSqYSJiYlWx8rIyIFarfnTtfLLg17l8ePnOj0+P5v0KlX5bOrpySr8g7xGXBVWHhsbG2G4q0TJso2NDZo2bSpqK93n5eExIiJ6c2pssHTr1g0XLlxAcXGx0Hbu3DnY29vDysoK7dq1g1wuR1xcnLA+JycHSUlJcHd310XJRESEGhwsQ4cORX5+PhYtWoRbt25h37592LZtG6ZMmQLgxVzK6NGjERgYiGPHjuH69euYPXs2rK2t0bdvXx1XT0RUd9XYOZbGjRsjNDQUK1euxODBg2FlZYW5c+diyJAhQp+ZM2dCpVLBz88P+fn5cHV1RUhISJkJfSIienNqTLB8++23ZdqcnJywa9euV26jr6+PefPmYd68edVZGhERaaHGDoUREVHtxGAhIiJJMViIiEhSDBYiIpIUg4WIiCTFYCEiIkkxWIiISFIMFiIikhSDhYiIJMVgISIiSTFYiIhIUgwWIiKSFIOFiIgkxWAhIiJJMViIiEhSDBYiIpIUg4WIiCTFYCEiIkkxWIiISFIMFiIikhSDhYiIJMVgISIiSTFYiIhIUgwWIiKSFIOFiIgkxWAhIiJJMViIiEhSDBYiIpIUg4WIiCTFYCEiIkkxWIiISFIMFiIikhSDhYiIJMVgISIiSTFYiIhIUgwWIiKSFIOFiIgkVeuDRa1WIygoCJ6ennB2doaPjw9SUlJ0XRYRUZ1V64MlODgY4eHh8Pf3R0REBPT19TFhwgQUFhbqujQiojqpVgeLUqnE1q1b4evri549e6Jdu3YIDAzEkydPEBMTo+vyiIjqpFodLMnJycjLy0P37t2FNrlcjg4dOiAhIUGHlRER1V0Gui6gKhQKBQDA2tpa1N6kSROkpaVVej96erIq12LZyLTK+6C3jxSfraoyMm+s6xKoBqrKZ/N129bqYMnPzwcAGBkZidqNjIygVCorvZ9GEoRC0D8+qfI+6O3TuLFc1yXAaep3ui6BaqDq/GzW6qEwY2NjACgTIkqlEiYmJrooiYiozqvVwdK0aVMAQHp6uqg9PT29zPAYERG9GbU6WNq1awe5XI64uDihLScnB0lJSXB3d9dhZUREdVetnmMxMjLC6NGjERgYCEtLS9ja2iIgIADW1tbo27evrssjIqqTanWwAMDMmTOhUqng5+eH/Px8uLq6IiQkpMyEPhERvRkyjUaj0XURRET09qjVcyxERFTzMFiIiEhSDBYiIpJUrZ+8J+307t0barUahw4dglwuvvN24cKFSElJQXh4uCTHSk1NxZw5c5CcnIy2bdvivffeQ1RUFE6fPi3J/qlu8/b2Ft1qUNqnn34KlUol6eeZKo/BUgelpaXh22+/hb+/f7UeZ9u2bXjw4AH27t0Lc3NzyOVyeHl5VesxqW7p168flixZUqa9fv360Gg0UKlUOqiKGCx1UIsWLRAVFYV+/frB09Oz2o6TnZ2NVq1aoU2bNkKbqSkf1knSMTIygpWVla7LoJdwjqUOGjBgAHr06IElS5YgJyen3D5ZWVn46quv0KtXLzg5OWHIkCE4duxYpY/h7e2NAwcOID4+Ho6OjtizZw/WrVuHv/71rwCA+/fvw9HRERs3bkSPHj3Qq1cvZGZmQqlUYtWqVfD09ESXLl0wdOhQrY5LVGLhwoUYOXIkAOD8+fNwdHREaGgoPDw8MGjQIBQVFSE7OxtLlixB9+7d0bVrV3h5efEnNyTAYKmj/P398fz5c3zzzTdl1qlUKvj4+ODs2bP4+uuvsX//fnh6esLX1xfHjx+v1P7XrVuHfv36wcXFBWfOnMGHH35Ybr/o6Ghs3boVQUFBsLCwwPz583HmzBmsWrUK+/fvx+DBgzF79mwcOHCgSu+XCACOHj2KXbt24bvvvoOBgQEmTZqEu3fvYuPGjdi9ezfeeecdjB07FvHx8boutVbjUFgd1bRpUyxcuBCLFy/GBx98IBoSO3PmDK5du4Y9e/agY8eOAIDZs2fjt99+w4YNG9CnT5/X7r9hw4YwMjKCoaFhhUMVI0eORNu2bQEAKSkpiImJwe7du+Hk5AQAsLOzw+3btxEaGoqPPvqoKm+Z3kIxMTFl/thxdHTErl27yu3v4+ODli1bAgDOnj2LixcvIjY2FhYWFgAAX19fXL58Gf/85z/RrVu36i3+LcZgqcOGDRuGI0eOYMmSJTh06JDQ/ttvv8HExEQIlRLdunXD2rVrJa3Bzs5OeJ2UlAQAGDNmjKhPUVGRpMekt0fPnj2xYMECUVtFj3Mq7/P28h9KRUVFaN68uYRV1j0MljrO398fAwcOLHdI7GVqtRqGhoaSHr9+/frC65KnC+3YsQPm5uaSHofeTiYmJqKweJ3Snze1Wo369etj3759ZfoZGPCrsSo4x1LHlQyJ7d69W5i0dHR0RF5eHq5duybqGx8fL7rCS2olQ2Lp6emws7MT/sXExPBeBJKco6Mj8vPzkZ+fL/q87dy5E//61790XV6txmAhDBs2DJ6enkhNTQUA9OjRAx07dsQXX3yB2NhY/P777wgMDMS///1vTJw4sdrqcHBwQO/evbF8+XIcO3YMqamp2LFjB4KCgmBra1ttx6W6qeRzPnfuXMTGxuLevXsIDAzEjz/+CAcHB12XV6vxfI8A/DEkBgD6+voIDQ3F6tWrMXv2bOTl5aFdu3bYsGEDevfuXa11BAYGYs2aNVi+fDmysrJga2uLxYsXY9SoUdV6XKp7Sn/O58yZg9zcXLRq1Qpr1qyp9s/5246PzSciIklxKIyIiCTFoTDS2ooVK7B3794K+6xcufKVN0US0duNQ2GktczMTDx//rzCPpaWlnwuGFEdxWAhIiJJcY6FiIgkxWAhIiJJMViIJJKdnY3AwEAMGDAAzs7O6Nq1K0aMGIGIiAio1Wqhn7e3NxwdHTF8+HAdVktUfXhVGJEEbt26BR8fHygUClF7YmIiEhMTcfLkSQQHB0NfX19HFRK9OTxjIaqi3NxcTJs2DQqFAg0bNoS/vz+OHj2Kbdu2CY//P3nyJP75z3/quFKiN4PBQlRFERERuHfvHgBg/fr1GDZsGOzs7PDOO+9g69ataNy4MQDwx8qozuBQGFEVlTwJt2PHjmV+HMrc3ByrVq2Cubk5OnXq9Mp9aDQabN++HdHR0bh//z40Gg2aNm2KQYMGYdKkScLPFTx58gQBAQE4c+YMnj59CnNzczg6OmLq1Knw8PAQ9lfZfkTVgcFCVAXFxcX47bffAOCVwdGjR4/X7ic4OBjr1q0Ttf3+++9Yu3YtCgsLMXv2bKjVakyZMgVXr14V+mRkZODs2bOIj4/Hjh070LVr10r3I6ouHAojqoJnz54Jv3DZqFGjP7WP4uJi7NmzBwDw4Ycf4siRI9i7d68QVP/5z38AvLhAoCQsvvnmGxw7dgxhYWGwtbWFnp4efvnlF636EVUXnrEQVYFKpRJe/9mHWBgYGODEiRNITU1Fo0aNIJfL8ejRIzRv3hxXr15FdnY2AMDY2FjYJjY2Fs2aNYOLiwv27t0LU1NT4YqzyvYjqi4MFqIqaNiwIWQyGTQaDTIzM8vto1aroadX8eBAUVEREhIScPLkSSQmJiI9PV20PQD85S9/wdixY7F9+3YcOHAABw4cgJGREVxcXPDRRx9h8ODB0NfXr3Q/ourCZ4URVdGgQYNw48YNtG/fvtzfT//73/+OjIwM9O/fH6NGjYK3tzfi4uLg7OyMyMhIqFQqjB07FvHx8WjUqBE++OADdO3aFRcuXMCuXbvQvHlznDhxQtjf5cuXcfDgQfz666+4ffu20D5gwAD88MMPWvcjkhrnWIiq6IMPPgAAJCcnIz4+XrQuNTUVJ0+eRFxcnDCP8rLz588L261duxbLli3DRx99VOasIisrC+fOnUNSUhL+8Y9/4PDhw4iNjcWQIUMAAIcPH0ZOTk6l+xFVFw6FEVWRt7c3IiMj8ejRI/j6+mL+/Plwc3PDnTt38O2336KgoAAAMGnSpHK3z8vLE17HxMTA2toa//3vf4XfvCkuLgbwYhJ/3rx5AF5cMTZixAgUFhYKQ3D6+vqQyWSV7kdUXTgURiSBpKQkTJw4ERkZGeWu9/Lygp+fHwCUGQrLzMxE//79kZWVVe62xsbGSExMhEqlwsSJE3Hu3Lly+40dOxaLFi1CUVFRpfoRVRcOhRFJoEOHDjh06BDGjx+Pv/zlLzA0NIRcLoe7uzvWrFkjhEp5LCwssHnzZri6usLExASWlpZ47733sHnzZgBAQUEB4uLiYGhoiA0bNmD27Nlo06YNTExMUK9ePbRv3x5ffvklFi5cCACV7kdUXXjGQkREkuIZCxERSYrBQkREkmKwEBGRpBgsREQkKQYLERFJisFCRESSYrAQEZGkGCxERCQpBgsREUmKwUJERJL6f2t1DKZdOKdgAAAAAElFTkSuQmCC\n",
      "text/plain": [
       "<Figure size 432x288 with 1 Axes>"
      ]
     },
     "metadata": {},
     "output_type": "display_data"
    }
   ],
   "source": [
    "data[\"Class\"].replace({1:\"Fire\", 0:\"No_fire\"}, inplace=True)\n",
    "#count plot of target feature\n",
    "classCount= sns.countplot(x='Class', data = data)\n",
    "classCount.axes.set_title(\"Class Count\",fontsize=25,fontweight='bold')\n",
    "classCount.set_xlabel(\"Class\",fontsize=18,fontweight='bold')\n",
    "classCount.set_ylabel(\"Count\",fontsize=18,fontweight='bold')\n",
    "plt.savefig('C:/Users/kayle/Desktop/ClassCount',dpi=300,bbox_inches='tight')\n",
    "plt.show()"
   ]
  },
   "source": [
    "data[\"Class\"].replace({\"Fire\": 1, \"No_fire\": 0}, inplace=True)"
   ]
  },
  {
   "cell_type": "code",
   "execution_count": 51,
   "id": "forbidden-operator",
   "metadata": {},
   "outputs": [
    {
     "data": {
      "image/png": "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\n",
      "text/plain": [
       "<Figure size 936x504 with 1 Axes>"
      ]
     },
     "metadata": {},
     "output_type": "display_data"
    },
    {
     "data": {
      "image/png": "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\n",
      "text/plain": [
       "<Figure size 936x504 with 1 Axes>"
      ]
     },
     "metadata": {},
     "output_type": "display_data"
    },
    {
     "data": {
      "image/png": "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\n",
      "text/plain": [
       "<Figure size 936x504 with 1 Axes>"
      ]
     },
     "metadata": {},
     "output_type": "display_data"
    }
   ],
   "source": [
    "# Visualiztion of outliers data\n",
    "column_names = ['NDVI', 'LST', 'TA']\n",
    "#Boxplot\n",
    "train = data[column_names]\n",
    "plt.style.use('ggplot')\n",
    "for i in column_names:\n",
    "    plt.figure(figsize=(13, 7))\n",
    "    plt.title(str(i) + \" with \" + str('Class'))\n",
    "    sns.boxplot(x=data.Class, y=train[i])\n",
    "    plt.show()"
   ]
  },
  {
   "cell_type": "code",
   "execution_count": 52,
   "id": "fabulous-observer",
   "metadata": {},
   "outputs": [],
   "source": [
    "# finding outliers using zscore\n",
    "#z = np.abs(stats.zscore(data))\n",
    "#z  # print outliers"
   ]
  },
  {
   "cell_type": "code",
   "execution_count": 53,
   "id": "exclusive-ratio",
   "metadata": {},
   "outputs": [],
   "source": [
    "#data.shape"
   ]
  },
  {
   "cell_type": "code",
   "execution_count": 54,
   "id": "velvet-completion",
   "metadata": {},
   "outputs": [],
   "source": [
    "#np.count_nonzero(np.where( z > 3)) # count number of outliers"
   ]
  },
  {
   "cell_type": "code",
   "execution_count": 55,
   "id": "flexible-austin",
   "metadata": {},
   "outputs": [],
   "source": [
    "#data_outlier_z = data[(z <= 3).all(axis=1)] #dropped outliers\n",
    "#data_outlier_z.shape     #shape after removed outliers"
   ]
  },
  {
   "cell_type": "code",
   "execution_count": 56,
   "id": "controlling-lemon",
   "metadata": {},
   "outputs": [],
   "source": [
    "# Histograms\n",
    "#data_outlier_z.drop(columns=['Class']).hist(bins=20, figsize=(15,15),color='b'); "
   ]
  },
  {
   "cell_type": "code",
   "execution_count": 57,
   "id": "formed-swiss",
   "metadata": {},
   "outputs": [],
   "source": [
    "#scaler = StandardScaler() # Normalize data using z-score normalizer\n",
    "#data_normalize = scaler.fit_transform(data) #.drop(columns=['Class']))\n",
    "#data_normalize_df = pd.DataFrame(data_normalize,columns=['NDVI','LST','TA','Class'])"
   ]
  },
  {
   "cell_type": "code",
   "execution_count": 58,
   "id": "capital-tennessee",
   "metadata": {},
   "outputs": [],
   "source": [
    "#data_normalize_df.hist(bins=20, figsize=(15,15),color='b'); # After normalied data"
   ]
  },
  {
   "cell_type": "markdown",
   "id": "current-recorder",
   "metadata": {},
   "source": [
    "# Applying models and evalution"
   ]
  },
  {
   "cell_type": "markdown",
   "id": "boring-canvas",
   "metadata": {},
   "source": [
    "# Logistic Regression"
   ]
  },
  {
   "cell_type": "code",
   "execution_count": 142,
   "id": "generous-swiss",
   "metadata": {},
   "outputs": [
    {
     "name": "stdout",
     "output_type": "stream",
     "text": [
      "              precision    recall  f1-score   support\n",
      "\n",
      "           0       0.87      0.92      0.90        88\n",
      "           1       0.86      0.78      0.82        55\n",
      "\n",
      "    accuracy                           0.87       143\n",
      "   macro avg       0.87      0.85      0.86       143\n",
      "weighted avg       0.87      0.87      0.87       143\n",
      "\n"
     ]
    }
   ],
   "source": [
    "X= data.drop(columns=['Class']).values\n",
    "Y = data['Class'].values\n",
    "scale= StandardScaler()\n",
    "X = scale.fit_transform(X) \n",
    "# 20% test 80% training data             \n",
    "X_train, X_test, y_train, y_test, = train_test_split(X, Y, test_size=0.2,random_state = 42)\n",
    "\n",
    "                                                         # 0.25 x 0.8 = 0.2 for validation data\n",
    "X_train, X_val, y_train, y_val, = train_test_split(X_train, y_train, test_size=0.25,random_state = 16) \n",
    "\n",
    "# Instantiate\n",
    "\n",
    "LR = LogisticRegression(C=0.01, penalty= 'l2', solver= 'liblinear')\n",
    "# Fit\n",
    "LR = LR.fit(X_train, y_train)\n",
    "LR.score(X_train,y_train)\n",
    "\n",
    "# Predictions on the test dataset\n",
    "LR_pred = pd.DataFrame(LR.predict(X_test))\n",
    "\n",
    "# Probabilities on the test dataset\n",
    "probs = pd.DataFrame(LR.predict_proba(X_test))\n",
    "\n",
    "print(metrics.classification_report(y_test, LR_pred))   #Logistic Regression \n"
   ]
  },
  {
   "cell_type": "code",
   "execution_count": 263,
   "id": "exceptional-financing",
   "metadata": {},
   "outputs": [
    {
     "data": {
      "image/png": "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\n",
      "text/plain": [
       "<Figure size 432x288 with 2 Axes>"
      ]
     },
     "metadata": {},
     "output_type": "display_data"
    }
   ],
   "source": [
    "LR_cm = confusion_matrix(y_test, LR_pred)\n",
    "group_names = ['TN','FP','FN','TP']\n",
    "group_counts = [\"{0:0.0f}\".format(value) for value in\n",
    "                LR_cm.flatten()]\n",
    "labels = [f\"{v1}\\n{v2}\" for v1, v2 in\n",
    "          zip(group_names,group_counts)]\n",
    "labels = np.asarray(labels).reshape(2,2)\n",
    "\n",
    "sns.heatmap(LR_cm,annot=labels,fmt='')\n",
    "plt.title('Logistic Regression')\n",
    "plt.ylabel('True label',fontweight='bold')\n",
    "plt.xlabel('Predicted label',fontweight='bold')\n",
    "plt.savefig('C:/Users/kayle/Desktop/LR_confmatrix',dpi=300,bbox_inches='tight', transparent=True)"
   ]
  },
  {
   "cell_type": "code",
   "execution_count": 68,
   "id": "clinical-anchor",
   "metadata": {},
   "outputs": [
    {
     "name": "stdout",
     "output_type": "stream",
     "text": [
      "Best: 0.808301 using {'C': 0.01, 'penalty': 'l2', 'solver': 'liblinear'}\n",
      "0.798011 (0.043967) with: {'C': 100, 'penalty': 'l2', 'solver': 'newton-cg'}\n",
      "0.798011 (0.043967) with: {'C': 100, 'penalty': 'l2', 'solver': 'lbfgs'}\n",
      "0.798011 (0.043967) with: {'C': 100, 'penalty': 'l2', 'solver': 'liblinear'}\n",
      "0.798481 (0.042874) with: {'C': 10, 'penalty': 'l2', 'solver': 'newton-cg'}\n",
      "0.798481 (0.042874) with: {'C': 10, 'penalty': 'l2', 'solver': 'lbfgs'}\n",
      "0.798481 (0.042874) with: {'C': 10, 'penalty': 'l2', 'solver': 'liblinear'}\n",
      "0.799870 (0.041163) with: {'C': 1.0, 'penalty': 'l2', 'solver': 'newton-cg'}\n",
      "0.799870 (0.041163) with: {'C': 1.0, 'penalty': 'l2', 'solver': 'lbfgs'}\n",
      "0.798011 (0.041517) with: {'C': 1.0, 'penalty': 'l2', 'solver': 'liblinear'}\n",
      "0.801291 (0.039975) with: {'C': 0.1, 'penalty': 'l2', 'solver': 'newton-cg'}\n",
      "0.801291 (0.039975) with: {'C': 0.1, 'penalty': 'l2', 'solver': 'lbfgs'}\n",
      "0.798944 (0.039562) with: {'C': 0.1, 'penalty': 'l2', 'solver': 'liblinear'}\n",
      "0.799387 (0.037529) with: {'C': 0.01, 'penalty': 'l2', 'solver': 'newton-cg'}\n",
      "0.799387 (0.037529) with: {'C': 0.01, 'penalty': 'l2', 'solver': 'lbfgs'}\n",
      "0.808301 (0.041417) with: {'C': 0.01, 'penalty': 'l2', 'solver': 'liblinear'}\n"
     ]
    }
   ],
   "source": [
    "#Hyperparameter Tuning for Logistic Regression\n",
    "# define models and parameters\n",
    "solvers = ['newton-cg', 'lbfgs', 'liblinear']\n",
    "penalty = ['l2']\n",
    "c_values = [100, 10, 1.0, 0.1, 0.01]\n",
    "# define grid search\n",
    "grid = dict(solver=solvers,penalty=penalty,C=c_values)\n",
    "cv = RepeatedStratifiedKFold(n_splits=10, n_repeats=3, random_state=1)\n",
    "grid_search = GridSearchCV(estimator=LR, param_grid=grid, n_jobs=-1, cv=cv, scoring='accuracy',error_score=0)\n",
    "grid_result = grid_search.fit(X, Y)\n",
    "# summarize results\n",
    "print(\"Best: %f using %s\" % (grid_result.best_score_, grid_result.best_params_))\n",
    "means = grid_result.cv_results_['mean_test_score']\n",
    "stds = grid_result.cv_results_['std_test_score']\n",
    "params = grid_result.cv_results_['params']\n",
    "for mean, stdev, param in zip(means, stds, params):\n",
    "    print(\"%f (%f) with: %r\" % (mean, stdev, param))\n"
   ]
  },
  {
   "cell_type": "code",
   "execution_count": 144,
   "id": "insured-portal",
   "metadata": {},
   "outputs": [
    {
     "data": {
      "text/plain": [
       "(array([0, 1], dtype=int64), array([79, 64], dtype=int64))"
      ]
     },
     "execution_count": 144,
     "metadata": {},
     "output_type": "execute_result"
    }
   ],
   "source": [
    "# get prediction for X_val\n",
    "new_output = LR.predict(X_val)\n",
    "np.unique(new_output,return_counts=True)"
   ]
  },
  {
   "cell_type": "code",
   "execution_count": 145,
   "id": "stainless-revelation",
   "metadata": {},
   "outputs": [
    {
     "data": {
      "text/plain": [
       "(array([0, 1], dtype=int64), array([75, 68], dtype=int64))"
      ]
     },
     "execution_count": 145,
     "metadata": {},
     "output_type": "execute_result"
    }
   ],
   "source": [
    "np.unique(y_val,return_counts=True)"
   ]
  },
  {
   "cell_type": "markdown",
   "id": "lesser-hanging",
   "metadata": {},
   "source": [
    "# Gaussian Naive Bayes"
   ]
  },
  {
   "cell_type": "code",
   "execution_count": 151,
   "id": "recognized-sunset",
   "metadata": {},
   "outputs": [
    {
     "name": "stdout",
     "output_type": "stream",
     "text": [
      "              precision    recall  f1-score   support\n",
      "\n",
      "           0       0.87      0.92      0.90        88\n",
      "           1       0.86      0.78      0.82        55\n",
      "\n",
      "    accuracy                           0.87       143\n",
      "   macro avg       0.87      0.85      0.86       143\n",
      "weighted avg       0.87      0.87      0.87       143\n",
      "\n"
     ]
    }
   ],
   "source": [
    "X= data.drop(columns=['Class']).values\n",
    "Y = data['Class'].values\n",
    "scale= StandardScaler()\n",
    "X = scale.fit_transform(X) \n",
    "\n",
    "# 20% test 80% training data             \n",
    "X_train, X_test, y_train, y_test, = train_test_split(X, Y, test_size=0.2,random_state = 42)\n",
    "\n",
    "                                                         # 0.25 x 0.8 = 0.2 for validation data\n",
    "X_train, X_val, y_train, y_val, = train_test_split(X_train, y_train, test_size=0.25,random_state = 42) \n",
    "\n",
    "#NB = MultinomialNB()\n",
    "NB= GaussianNB(var_smoothing= 0.12328467394420659)\n",
    "NB.fit(X_train, y_train)\n",
    "\n",
    "NB_pred = pd.DataFrame(NB.predict(X_test))\n",
    "\n",
    "print(metrics.classification_report(y_test, NB_pred))   #Gaussian Naive Bayes"
   ]
  },
  {
   "cell_type": "code",
   "execution_count": 262,
   "id": "permanent-integration",
   "metadata": {},
   "outputs": [
    {
     "data": {
      "image/png": "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\n",
      "text/plain": [
       "<Figure size 432x288 with 2 Axes>"
      ]
     },
     "metadata": {},
     "output_type": "display_data"
    }
   ],
   "source": [
    "NB_cm = confusion_matrix(y_test, NB_pred)\n",
    "group_names = ['TN','FP','FN','TP']\n",
    "group_counts = [\"{0:0.0f}\".format(value) for value in\n",
    "                NB_cm.flatten()]\n",
    "labels = [f\"{v1}\\n{v2}\" for v1, v2 in\n",
    "          zip(group_names,group_counts)]\n",
    "labels = np.asarray(labels).reshape(2,2)\n",
    "sns.heatmap(NB_cm,annot=labels,fmt='')\n",
    "plt.title('Gaussian Naive Bayes')\n",
    "plt.ylabel('True label',fontweight='bold')\n",
    "plt.xlabel('Predicted label',fontweight='bold')\n",
    "plt.savefig('C:/Users/kayle/Desktop/GaussianNB_confmatrix',dpi=300,bbox_inches='tight', transparent=True)"
   ]
  },
  {
   "cell_type": "code",
   "execution_count": 80,
   "id": "approximate-raleigh",
   "metadata": {},
   "outputs": [
    {
     "name": "stdout",
     "output_type": "stream",
     "text": [
      "Fitting 3 folds for each of 10 candidates, totalling 30 fits\n",
      "[CV] var_smoothing=2.848035868435799e-08 .............................\n",
      "[CV] .............. var_smoothing=2.848035868435799e-08, total=   0.0s\n",
      "[CV] var_smoothing=2.848035868435799e-08 .............................\n",
      "[CV] .............. var_smoothing=2.848035868435799e-08, total=   0.0s\n",
      "[CV] var_smoothing=2.848035868435799e-08 .............................\n",
      "[CV] .............. var_smoothing=2.848035868435799e-08, total=   0.0s\n",
      "[CV] var_smoothing=1.5199110829529332e-05 ............................\n",
      "[CV] ............. var_smoothing=1.5199110829529332e-05, total=   0.0s\n",
      "[CV] var_smoothing=1.5199110829529332e-05 ............................\n",
      "[CV] ............. var_smoothing=1.5199110829529332e-05, total=   0.0s\n",
      "[CV] var_smoothing=1.5199110829529332e-05 ............................\n",
      "[CV] ............. var_smoothing=1.5199110829529332e-05, total=   0.0s\n",
      "[CV] var_smoothing=4.3287612810830526e-07 ............................\n",
      "[CV] ............. var_smoothing=4.3287612810830526e-07, total=   0.0s\n",
      "[CV] var_smoothing=4.3287612810830526e-07 ............................\n",
      "[CV] ............. var_smoothing=4.3287612810830526e-07, total=   0.0s\n",
      "[CV] var_smoothing=4.3287612810830526e-07 ............................\n",
      "[CV] ............. var_smoothing=4.3287612810830526e-07, total=   0.0s\n",
      "[CV] var_smoothing=8.111308307896872e-05 .............................\n",
      "[CV] .............. var_smoothing=8.111308307896872e-05, total=   0.0s\n",
      "[CV] var_smoothing=8.111308307896872e-05 .............................\n",
      "[CV] .............. var_smoothing=8.111308307896872e-05, total=   0.0s\n",
      "[CV] var_smoothing=8.111308307896872e-05 .............................\n",
      "[CV] .............. var_smoothing=8.111308307896872e-05, total=   0.0s\n",
      "[CV] var_smoothing=0.0001 ............................................\n",
      "[CV] ............................. var_smoothing=0.0001, total=   0.0s\n",
      "[CV] var_smoothing=0.0001 ............................................\n",
      "[CV] ............................. var_smoothing=0.0001, total=   0.0s\n",
      "[CV] var_smoothing=0.0001 ............................................\n",
      "[CV] ............................. var_smoothing=0.0001, total=   0.0s\n",
      "[CV] var_smoothing=0.0002848035868435802 .............................\n",
      "[CV] .............. var_smoothing=0.0002848035868435802, total=   0.0s\n",
      "[CV] var_smoothing=0.0002848035868435802 .............................\n",
      "[CV] .............. var_smoothing=0.0002848035868435802, total=   0.0s\n",
      "[CV] var_smoothing=0.0002848035868435802 .............................\n",
      "[CV] .............. var_smoothing=0.0002848035868435802, total=   0.0s\n",
      "[CV] var_smoothing=0.01 ..............................................\n",
      "[CV] ............................... var_smoothing=0.01, total=   0.0s\n",
      "[CV] var_smoothing=0.01 ..............................................\n",
      "[CV] ............................... var_smoothing=0.01, total=   0.0s\n",
      "[CV] var_smoothing=0.01 ..............................................\n",
      "[CV] ............................... var_smoothing=0.01, total=   0.0s\n",
      "[CV] var_smoothing=5.336699231206302e-08 .............................\n",
      "[CV] .............. var_smoothing=5.336699231206302e-08, total=   0.0s\n",
      "[CV] var_smoothing=5.336699231206302e-08 .............................\n",
      "[CV] .............. var_smoothing=5.336699231206302e-08, total=   0.0s\n",
      "[CV] var_smoothing=5.336699231206302e-08 .............................\n",
      "[CV] .............. var_smoothing=5.336699231206302e-08, total=   0.0s\n",
      "[CV] var_smoothing=0.12328467394420659 ...............................\n",
      "[CV] ................ var_smoothing=0.12328467394420659, total=   0.0s\n",
      "[CV] var_smoothing=0.12328467394420659 ...............................\n",
      "[CV] ................ var_smoothing=0.12328467394420659, total=   0.0s\n",
      "[CV] var_smoothing=0.12328467394420659 ...............................\n",
      "[CV] ................ var_smoothing=0.12328467394420659, total=   0.0s\n",
      "[CV] var_smoothing=1.0 ...............................................\n",
      "[CV] ................................ var_smoothing=1.0, total=   0.0s\n",
      "[CV] var_smoothing=1.0 ...............................................\n",
      "[CV] ................................ var_smoothing=1.0, total=   0.0s\n",
      "[CV] var_smoothing=1.0 ...............................................\n",
      "[CV] ................................ var_smoothing=1.0, total=   0.0s\n"
     ]
    },
    {
     "name": "stderr",
     "output_type": "stream",
     "text": [
      "[Parallel(n_jobs=1)]: Using backend SequentialBackend with 1 concurrent workers.\n",
      "[Parallel(n_jobs=1)]: Done   1 out of   1 | elapsed:    0.0s remaining:    0.0s\n",
      "[Parallel(n_jobs=1)]: Done  30 out of  30 | elapsed:    0.0s finished\n"
     ]
    },
    {
     "data": {
      "text/plain": [
       "{'var_smoothing': 0.12328467394420659}"
      ]
     },
     "execution_count": 80,
     "metadata": {},
     "output_type": "execute_result"
    }
   ],
   "source": [
    "#Hyperparameter Tuning for Gaussian Naive Bayes\n",
    "params_NB = {'var_smoothing': np.logspace(0,-9, num=100)}\n",
    "NB = GaussianNB()\n",
    "NB_ran = RandomizedSearchCV(NB, param_distributions=params_NB, \n",
    "                            verbose=2, cv=3, random_state=42, n_iter=10, scoring='accuracy')\n",
    "NB_ran.fit(X_train, y_train)\n",
    "NB_ran.best_params_"
   ]
  },
  {
   "cell_type": "code",
   "execution_count": 153,
   "id": "chronic-plymouth",
   "metadata": {},
   "outputs": [
    {
     "data": {
      "text/plain": [
       "(array([0, 1], dtype=int64), array([90, 53], dtype=int64))"
      ]
     },
     "execution_count": 153,
     "metadata": {},
     "output_type": "execute_result"
    }
   ],
   "source": [
    "# get prediction for X_val\n",
    "new_output = NB.predict(X_val)\n",
    "np.unique(new_output,return_counts=True)"
   ]
  },
  {
   "cell_type": "code",
   "execution_count": 154,
   "id": "vulnerable-thesis",
   "metadata": {},
   "outputs": [
    {
     "data": {
      "text/plain": [
       "(array([0, 1], dtype=int64), array([83, 60], dtype=int64))"
      ]
     },
     "execution_count": 154,
     "metadata": {},
     "output_type": "execute_result"
    }
   ],
   "source": [
    "np.unique(y_val,return_counts=True)"
   ]
  },
  {
   "cell_type": "markdown",
   "id": "respected-kingdom",
   "metadata": {},
   "source": [
    "# K - Nearest Neighbors"
   ]
  },
  {
   "cell_type": "code",
   "execution_count": 160,
   "id": "agreed-blend",
   "metadata": {},
   "outputs": [
    {
     "name": "stdout",
     "output_type": "stream",
     "text": [
      "              precision    recall  f1-score   support\n",
      "\n",
      "           0       0.88      0.91      0.89        88\n",
      "           1       0.85      0.80      0.82        55\n",
      "\n",
      "    accuracy                           0.87       143\n",
      "   macro avg       0.86      0.85      0.86       143\n",
      "weighted avg       0.87      0.87      0.87       143\n",
      "\n"
     ]
    }
   ],
   "source": [
    "X= data.drop(columns=['Class']).values\n",
    "Y = data['Class'].values\n",
    "scale= StandardScaler()\n",
    "X = scale.fit_transform(X) \n",
    "\n",
    "# 20% test 80% training data             \n",
    "X_train, X_test, y_train, y_test, = train_test_split(X, Y, test_size=0.2,random_state = 42)\n",
    "\n",
    "                                                    # 0.25 x 0.8 = 0.2 for validation data\n",
    "X_train, X_val, y_train, y_val, = train_test_split(X_train, y_train, test_size=0.25, random_state = 42) \n",
    "\n",
    "#(metric= 'manhattan', n_neighbors= 13, weights= 'distance')\n",
    "KNN = KNeighborsClassifier(metric= 'euclidean', n_neighbors= 13, weights='uniform')  \n",
    "KNN.fit(X_train, y_train)\n",
    "\n",
    "KNN_pred = pd.DataFrame(KNN.predict(X_test))\n",
    "\n",
    "print(metrics.classification_report(y_test, KNN_pred))   #K-NearestNeighbors"
   ]
  },
  {
   "cell_type": "code",
   "execution_count": 161,
   "id": "naked-double",
   "metadata": {},
   "outputs": [
    {
     "data": {
      "text/plain": [
       "0    91\n",
       "1    52\n",
       "dtype: int64"
      ]
     },
     "execution_count": 161,
     "metadata": {},
     "output_type": "execute_result"
    }
   ],
   "source": [
    "KNN_pred.value_counts()"
   ]
  },
  {
   "cell_type": "code",
   "execution_count": 261,
   "id": "juvenile-harvest",
   "metadata": {},
   "outputs": [
    {
     "data": {
      "image/png": "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\n",
      "text/plain": [
       "<Figure size 432x288 with 2 Axes>"
      ]
     },
     "metadata": {},
     "output_type": "display_data"
    }
   ],
   "source": [
    "KNN_cm = confusion_matrix(y_test, KNN_pred)\n",
    "group_names = ['TN','FP','FN','TP']\n",
    "group_counts = [\"{0:0.0f}\".format(value) for value in\n",
    "                KNN_cm.flatten()]\n",
    "labels = [f\"{v1}\\n{v2}\" for v1, v2 in\n",
    "          zip(group_names,group_counts)]\n",
    "labels = np.asarray(labels).reshape(2,2)\n",
    "sns.heatmap(KNN_cm, annot=labels, fmt='')\n",
    "plt.title('K-Nearest Neighbors')\n",
    "plt.ylabel('True label',fontweight='bold')\n",
    "plt.xlabel('Predicted label',fontweight='bold')\n",
    "plt.savefig('C:/Users/kayle/Desktop/KNN_confmatrix',dpi=300,bbox_inches='tight', transparent=True)"
   ]
  },
  {
   "cell_type": "code",
   "execution_count": 163,
   "id": "stunning-casting",
   "metadata": {},
   "outputs": [
    {
     "data": {
      "text/plain": [
       "(array([0, 1], dtype=int64), array([87, 56], dtype=int64))"
      ]
     },
     "execution_count": 163,
     "metadata": {},
     "output_type": "execute_result"
    }
   ],
   "source": [
    "# get prediction for X_val\n",
    "new_output = KNN.predict(X_val)\n",
    "np.unique(new_output,return_counts=True)"
   ]
  },
  {
   "cell_type": "code",
   "execution_count": 164,
   "id": "retired-chart",
   "metadata": {},
   "outputs": [
    {
     "data": {
      "text/plain": [
       "(array([0, 1], dtype=int64), array([83, 60], dtype=int64))"
      ]
     },
     "execution_count": 164,
     "metadata": {},
     "output_type": "execute_result"
    }
   ],
   "source": [
    "np.unique(y_val,return_counts=True)"
   ]
  },
  {
   "cell_type": "code",
   "execution_count": 165,
   "id": "sunrise-stick",
   "metadata": {},
   "outputs": [
    {
     "data": {
      "text/plain": [
       "(array([0, 1], dtype=int64), array([428, 285], dtype=int64))"
      ]
     },
     "execution_count": 165,
     "metadata": {},
     "output_type": "execute_result"
    }
   ],
   "source": [
    "# define input\n",
    "new_input =  X # original dataset\n",
    "# get prediction for new input\n",
    "new_output = KNN.predict(new_input)\n",
    "np.unique(new_output,return_counts=True)"
   ]
  },
  {
   "cell_type": "code",
   "execution_count": 166,
   "id": "better-array",
   "metadata": {},
   "outputs": [
    {
     "data": {
      "text/plain": [
       "0    421\n",
       "1    292\n",
       "Name: Class, dtype: int64"
      ]
     },
     "execution_count": 166,
     "metadata": {},
     "output_type": "execute_result"
    }
   ],
   "source": [
    "data.Class.value_counts()"
   ]
  },
  {
   "cell_type": "code",
   "execution_count": 103,
   "id": "japanese-sewing",
   "metadata": {},
   "outputs": [
    {
     "name": "stdout",
     "output_type": "stream",
     "text": [
      "Best: 0.826532 using {'metric': 'euclidean', 'n_neighbors': 13, 'weights': 'uniform'}\n",
      "0.787722 (0.048538) with: {'metric': 'euclidean', 'n_neighbors': 1, 'weights': 'uniform'}\n",
      "0.787722 (0.048538) with: {'metric': 'euclidean', 'n_neighbors': 1, 'weights': 'distance'}\n",
      "0.807838 (0.041734) with: {'metric': 'euclidean', 'n_neighbors': 3, 'weights': 'uniform'}\n",
      "0.801311 (0.043550) with: {'metric': 'euclidean', 'n_neighbors': 3, 'weights': 'distance'}\n",
      "0.819034 (0.034370) with: {'metric': 'euclidean', 'n_neighbors': 5, 'weights': 'uniform'}\n",
      "0.819999 (0.037378) with: {'metric': 'euclidean', 'n_neighbors': 5, 'weights': 'distance'}\n",
      "0.821844 (0.035773) with: {'metric': 'euclidean', 'n_neighbors': 7, 'weights': 'uniform'}\n",
      "0.817195 (0.035792) with: {'metric': 'euclidean', 'n_neighbors': 7, 'weights': 'distance'}\n",
      "0.819986 (0.037187) with: {'metric': 'euclidean', 'n_neighbors': 9, 'weights': 'uniform'}\n",
      "0.822359 (0.035463) with: {'metric': 'euclidean', 'n_neighbors': 9, 'weights': 'distance'}\n",
      "0.823266 (0.040771) with: {'metric': 'euclidean', 'n_neighbors': 11, 'weights': 'uniform'}\n",
      "0.821407 (0.038938) with: {'metric': 'euclidean', 'n_neighbors': 11, 'weights': 'distance'}\n",
      "0.826532 (0.040384) with: {'metric': 'euclidean', 'n_neighbors': 13, 'weights': 'uniform'}\n",
      "0.825150 (0.042630) with: {'metric': 'euclidean', 'n_neighbors': 13, 'weights': 'distance'}\n",
      "0.819484 (0.043216) with: {'metric': 'euclidean', 'n_neighbors': 15, 'weights': 'uniform'}\n",
      "0.822314 (0.041140) with: {'metric': 'euclidean', 'n_neighbors': 15, 'weights': 'distance'}\n",
      "0.815760 (0.035132) with: {'metric': 'euclidean', 'n_neighbors': 17, 'weights': 'uniform'}\n",
      "0.824204 (0.038462) with: {'metric': 'euclidean', 'n_neighbors': 17, 'weights': 'distance'}\n",
      "0.817638 (0.038903) with: {'metric': 'euclidean', 'n_neighbors': 19, 'weights': 'uniform'}\n",
      "0.821375 (0.044463) with: {'metric': 'euclidean', 'n_neighbors': 19, 'weights': 'distance'}\n",
      "0.780249 (0.049488) with: {'metric': 'manhattan', 'n_neighbors': 1, 'weights': 'uniform'}\n",
      "0.780249 (0.049488) with: {'metric': 'manhattan', 'n_neighbors': 1, 'weights': 'distance'}\n",
      "0.805490 (0.043586) with: {'metric': 'manhattan', 'n_neighbors': 3, 'weights': 'uniform'}\n",
      "0.803645 (0.044465) with: {'metric': 'manhattan', 'n_neighbors': 3, 'weights': 'distance'}\n",
      "0.814815 (0.034485) with: {'metric': 'manhattan', 'n_neighbors': 5, 'weights': 'uniform'}\n",
      "0.812976 (0.038565) with: {'metric': 'manhattan', 'n_neighbors': 5, 'weights': 'distance'}\n",
      "0.822307 (0.039333) with: {'metric': 'manhattan', 'n_neighbors': 7, 'weights': 'uniform'}\n",
      "0.822796 (0.039198) with: {'metric': 'manhattan', 'n_neighbors': 7, 'weights': 'distance'}\n",
      "0.823259 (0.040645) with: {'metric': 'manhattan', 'n_neighbors': 9, 'weights': 'uniform'}\n",
      "0.821877 (0.041508) with: {'metric': 'manhattan', 'n_neighbors': 9, 'weights': 'distance'}\n",
      "0.821394 (0.039046) with: {'metric': 'manhattan', 'n_neighbors': 11, 'weights': 'uniform'}\n",
      "0.823285 (0.042121) with: {'metric': 'manhattan', 'n_neighbors': 11, 'weights': 'distance'}\n",
      "0.826037 (0.045249) with: {'metric': 'manhattan', 'n_neighbors': 13, 'weights': 'uniform'}\n",
      "0.823715 (0.038740) with: {'metric': 'manhattan', 'n_neighbors': 13, 'weights': 'distance'}\n",
      "0.820899 (0.041470) with: {'metric': 'manhattan', 'n_neighbors': 15, 'weights': 'uniform'}\n",
      "0.821375 (0.042312) with: {'metric': 'manhattan', 'n_neighbors': 15, 'weights': 'distance'}\n",
      "0.818114 (0.035622) with: {'metric': 'manhattan', 'n_neighbors': 17, 'weights': 'uniform'}\n",
      "0.822333 (0.044506) with: {'metric': 'manhattan', 'n_neighbors': 17, 'weights': 'distance'}\n",
      "0.819986 (0.038089) with: {'metric': 'manhattan', 'n_neighbors': 19, 'weights': 'uniform'}\n",
      "0.820012 (0.043008) with: {'metric': 'manhattan', 'n_neighbors': 19, 'weights': 'distance'}\n",
      "0.787722 (0.048538) with: {'metric': 'minkowski', 'n_neighbors': 1, 'weights': 'uniform'}\n",
      "0.787722 (0.048538) with: {'metric': 'minkowski', 'n_neighbors': 1, 'weights': 'distance'}\n",
      "0.807838 (0.041734) with: {'metric': 'minkowski', 'n_neighbors': 3, 'weights': 'uniform'}\n",
      "0.801311 (0.043550) with: {'metric': 'minkowski', 'n_neighbors': 3, 'weights': 'distance'}\n",
      "0.819034 (0.034370) with: {'metric': 'minkowski', 'n_neighbors': 5, 'weights': 'uniform'}\n",
      "0.819999 (0.037378) with: {'metric': 'minkowski', 'n_neighbors': 5, 'weights': 'distance'}\n",
      "0.821844 (0.035773) with: {'metric': 'minkowski', 'n_neighbors': 7, 'weights': 'uniform'}\n",
      "0.817195 (0.035792) with: {'metric': 'minkowski', 'n_neighbors': 7, 'weights': 'distance'}\n",
      "0.819986 (0.037187) with: {'metric': 'minkowski', 'n_neighbors': 9, 'weights': 'uniform'}\n",
      "0.822359 (0.035463) with: {'metric': 'minkowski', 'n_neighbors': 9, 'weights': 'distance'}\n",
      "0.823266 (0.040771) with: {'metric': 'minkowski', 'n_neighbors': 11, 'weights': 'uniform'}\n",
      "0.821407 (0.038938) with: {'metric': 'minkowski', 'n_neighbors': 11, 'weights': 'distance'}\n",
      "0.826532 (0.040384) with: {'metric': 'minkowski', 'n_neighbors': 13, 'weights': 'uniform'}\n",
      "0.825150 (0.042630) with: {'metric': 'minkowski', 'n_neighbors': 13, 'weights': 'distance'}\n",
      "0.819484 (0.043216) with: {'metric': 'minkowski', 'n_neighbors': 15, 'weights': 'uniform'}\n",
      "0.822314 (0.041140) with: {'metric': 'minkowski', 'n_neighbors': 15, 'weights': 'distance'}\n",
      "0.815760 (0.035132) with: {'metric': 'minkowski', 'n_neighbors': 17, 'weights': 'uniform'}\n",
      "0.824204 (0.038462) with: {'metric': 'minkowski', 'n_neighbors': 17, 'weights': 'distance'}\n",
      "0.817638 (0.038903) with: {'metric': 'minkowski', 'n_neighbors': 19, 'weights': 'uniform'}\n",
      "0.821375 (0.044463) with: {'metric': 'minkowski', 'n_neighbors': 19, 'weights': 'distance'}\n"
     ]
    }
   ],
   "source": [
    "#Hyperparameter Tuning for KNN\n",
    "n_neighbors = range(1, 21, 2)\n",
    "weights = ['uniform', 'distance']\n",
    "metric = ['euclidean', 'manhattan', 'minkowski']\n",
    "# define grid search\n",
    "grid = dict(n_neighbors=n_neighbors,weights=weights,metric=metric)\n",
    "cv = RepeatedStratifiedKFold(n_splits=10, n_repeats=3, random_state=42)\n",
    "grid_search = GridSearchCV(estimator=KNN, param_grid=grid, n_jobs=-1, cv=cv, scoring='accuracy',error_score=0)\n",
    "grid_result = grid_search.fit(X, Y)\n",
    "# summarize results\n",
    "print(\"Best: %f using %s\" % (grid_result.best_score_, grid_result.best_params_))\n",
    "means = grid_result.cv_results_['mean_test_score']\n",
    "stds = grid_result.cv_results_['std_test_score']\n",
    "params = grid_result.cv_results_['params']\n",
    "for mean, stdev, param in zip(means, stds, params):\n",
    "    print(\"%f (%f) with: %r\" % (mean, stdev, param))"
   ]
  },
  {
   "cell_type": "markdown",
   "id": "cardiac-recommendation",
   "metadata": {},
   "source": [
    "# Random Forest"
   ]
  },
  {
   "cell_type": "code",
   "execution_count": 123,
   "id": "saved-packet",
   "metadata": {},
   "outputs": [
    {
     "name": "stdout",
     "output_type": "stream",
     "text": [
      "              precision    recall  f1-score   support\n",
      "\n",
      "           0       0.86      0.92      0.89        78\n",
      "           1       0.90      0.82      0.85        65\n",
      "\n",
      "    accuracy                           0.87       143\n",
      "   macro avg       0.88      0.87      0.87       143\n",
      "weighted avg       0.88      0.87      0.87       143\n",
      "\n"
     ]
    }
   ],
   "source": [
    "X= data.drop(columns=['Class']).values\n",
    "Y = data['Class'].values\n",
    "scale= StandardScaler()\n",
    "X = scale.fit_transform(X) \n",
    "\n",
    "# 20% test 80% training data             \n",
    "X_train, X_test, y_train, y_test, = train_test_split(X, Y, test_size=0.2,random_state = 16)\n",
    "\n",
    "#Create a RandomForest Classifier\n",
    "RF = RandomForestClassifier(max_features = 'sqrt', n_estimators = 100)                      \n",
    "\n",
    "#Train the model using the training sets y_pred=clf.predict(X_test)\n",
    "RF.fit(X_train,y_train)\n",
    "\n",
    "RF_pred = RF.predict(X_test) \n",
    "\n",
    "print(metrics.classification_report(y_test, RF_pred))   #Random Forest"
   ]
  },
  {
   "cell_type": "code",
   "execution_count": 260,
   "id": "sporting-creek",
   "metadata": {},
   "outputs": [
    {
     "data": {
      "image/png": "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\n",
      "text/plain": [
       "<Figure size 432x288 with 2 Axes>"
      ]
     },
     "metadata": {},
     "output_type": "display_data"
    }
   ],
   "source": [
    "RF_cm = confusion_matrix(y_test, RF_pred)\n",
    "\n",
    "group_names = ['TN','FP','FN','TP']\n",
    "group_counts = [\"{0:0.0f}\".format(value) for value in\n",
    "                RF_cm.flatten()]\n",
    "labels = [f\"{v1}\\n{v2}\" for v1, v2 in\n",
    "          zip(group_names,group_counts)]\n",
    "labels = np.asarray(labels).reshape(2,2)\n",
    "sns.heatmap(RF_cm,annot=labels,fmt='')\n",
    "plt.title('RandomForest')\n",
    "plt.ylabel('True label',fontweight='bold')\n",
    "plt.xlabel('Predicted label',fontweight='bold')\n",
    "\n",
    "plt.savefig('C:/Users/kayle/Desktop/RF_confmatrix',dpi=300,bbox_inches='tight', transparent=True)"
   ]
  },
  {
   "cell_type": "code",
   "execution_count": 118,
   "id": "political-faith",
   "metadata": {},
   "outputs": [
    {
     "name": "stdout",
     "output_type": "stream",
     "text": [
      "Best: 0.822783 using {'max_features': 'sqrt', 'n_estimators': 100}\n",
      "0.810179 (0.039100) with: {'max_features': 'sqrt', 'n_estimators': 10}\n",
      "0.822783 (0.039151) with: {'max_features': 'sqrt', 'n_estimators': 100}\n",
      "0.819497 (0.038897) with: {'max_features': 'sqrt', 'n_estimators': 1000}\n",
      "0.813472 (0.041143) with: {'max_features': 'log2', 'n_estimators': 10}\n",
      "0.820905 (0.037609) with: {'max_features': 'log2', 'n_estimators': 100}\n",
      "0.821394 (0.039140) with: {'max_features': 'log2', 'n_estimators': 1000}\n"
     ]
    }
   ],
   "source": [
    "#Hyperparameter Tuning for RF\n",
    "# define parameters\n",
    "n_estimators = [10, 100, 1000]\n",
    "max_features = ['sqrt', 'log2']\n",
    "# define models and parameters\n",
    "model = RandomForestClassifier()\n",
    "n_estimators = [10, 100, 1000]\n",
    "max_features = ['sqrt', 'log2']\n",
    "# define grid search\n",
    "grid = dict(n_estimators=n_estimators,max_features=max_features)\n",
    "cv = RepeatedStratifiedKFold(n_splits=10, n_repeats=3, random_state=1)\n",
    "grid_search = GridSearchCV(estimator=model, param_grid=grid, n_jobs=-1, cv=cv, scoring='accuracy',error_score=0)\n",
    "grid_result = grid_search.fit(X, Y)\n",
    "# summarize results\n",
    "print(\"Best: %f using %s\" % (grid_result.best_score_, grid_result.best_params_))\n",
    "means = grid_result.cv_results_['mean_test_score']\n",
    "stds = grid_result.cv_results_['std_test_score']\n",
    "params = grid_result.cv_results_['params']\n",
    "for mean, stdev, param in zip(means, stds, params):\n",
    "    print(\"%f (%f) with: %r\" % (mean, stdev, param))"
   ]
  },
  {
   "cell_type": "markdown",
   "id": "secret-flash",
   "metadata": {},
   "source": [
    "# Suport Vector Machine"
   ]
  },
  {
   "cell_type": "code",
   "execution_count": 190,
   "id": "terminal-patch",
   "metadata": {},
   "outputs": [
    {
     "name": "stdout",
     "output_type": "stream",
     "text": [
      "              precision    recall  f1-score   support\n",
      "\n",
      "           0       0.88      0.92      0.90        88\n",
      "           1       0.86      0.80      0.83        55\n",
      "\n",
      "    accuracy                           0.87       143\n",
      "   macro avg       0.87      0.86      0.87       143\n",
      "weighted avg       0.87      0.87      0.87       143\n",
      "\n"
     ]
    }
   ],
   "source": [
    "X= data.drop(columns=['Class']).values\n",
    "Y = data['Class'].values\n",
    "scale= StandardScaler()\n",
    "X = scale.fit_transform(X) \n",
    "\n",
    "# 20% test 80% training data             \n",
    "X_train, X_test, y_train, y_test, = train_test_split(X, Y, test_size=0.2,random_state = 42)\n",
    "\n",
    "                                                                # 0.25 x 0.8 = 0.2 for validation data\n",
    "X_train, X_val, y_train, y_val, = train_test_split(X_train, y_train, test_size=0.25, random_state = 42) \n",
    "\n",
    "#X_train, X_test, y_train, y_test = train_test_split(X, Y, test_size = 0.25)\n",
    "\n",
    "# Fitting Kernel SVM to the Training set                            \n",
    "SVM = SVC(C= 10, gamma= 'scale', kernel= 'rbf')\n",
    "SVM.fit(X_train,y_train)\n",
    "\n",
    "#Predicting the Test Set\n",
    "SVM_pred = SVM.predict(X_test)\n",
    "print(classification_report(y_test, SVM_pred))"
   ]
  },
  {
   "cell_type": "code",
   "execution_count": 258,
   "id": "desperate-failure",
   "metadata": {},
   "outputs": [
    {
     "data": {
      "image/png": "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\n",
      "text/plain": [
       "<Figure size 432x288 with 2 Axes>"
      ]
     },
     "metadata": {},
     "output_type": "display_data"
    }
   ],
   "source": [
    "#making confusing matrix\n",
    "SVM_cm = confusion_matrix(y_test, SVM_pred)\n",
    "group_names = ['TN','FP','FN','TP']\n",
    "group_counts = [\"{0:0.0f}\".format(value) for value in\n",
    "                SVM_cm.flatten()]\n",
    "labels = [f\"{v1}\\n{v2}\" for v1, v2 in\n",
    "          zip(group_names,group_counts)]\n",
    "labels = np.asarray(labels).reshape(2,2)\n",
    "sns.heatmap(SVM_cm,annot=labels,fmt='')\n",
    "plt.title('Support Vector Machine')\n",
    "plt.ylabel('True label',fontweight='bold')\n",
    "plt.xlabel('Predicted label',fontweight='bold')\n",
    "plt.savefig('C:/Users/kayle/Desktop/SVM_confmatrix',dpi=300,bbox_inches='tight', transparent=True)"
   ]
  },
  {
   "cell_type": "code",
   "execution_count": 192,
   "id": "automatic-dance",
   "metadata": {},
   "outputs": [
    {
     "data": {
      "text/plain": [
       "(array([0, 1], dtype=int64), array([87, 56], dtype=int64))"
      ]
     },
     "execution_count": 192,
     "metadata": {},
     "output_type": "execute_result"
    }
   ],
   "source": [
    "# get prediction for X_val\n",
    "new_output = SVM.predict(X_val)\n",
    "np.unique(new_output,return_counts=True)"
   ]
  },
  {
   "cell_type": "code",
   "execution_count": 193,
   "id": "detected-marathon",
   "metadata": {},
   "outputs": [
    {
     "data": {
      "text/plain": [
       "(array([0, 1], dtype=int64), array([83, 60], dtype=int64))"
      ]
     },
     "execution_count": 193,
     "metadata": {},
     "output_type": "execute_result"
    }
   ],
   "source": [
    "np.unique(y_val,return_counts=True)"
   ]
  },
  {
   "cell_type": "code",
   "execution_count": 189,
   "id": "formed-jurisdiction",
   "metadata": {},
   "outputs": [
    {
     "name": "stdout",
     "output_type": "stream",
     "text": [
      "Best: 0.828423 using {'C': 10, 'gamma': 'scale', 'kernel': 'rbf'}\n",
      "0.810674 (0.036218) with: {'C': 50, 'gamma': 'scale', 'kernel': 'poly'}\n",
      "0.825143 (0.036883) with: {'C': 50, 'gamma': 'scale', 'kernel': 'rbf'}\n",
      "0.670820 (0.043104) with: {'C': 50, 'gamma': 'scale', 'kernel': 'sigmoid'}\n",
      "0.811613 (0.035663) with: {'C': 10, 'gamma': 'scale', 'kernel': 'poly'}\n",
      "0.828423 (0.034620) with: {'C': 10, 'gamma': 'scale', 'kernel': 'rbf'}\n",
      "0.673611 (0.043090) with: {'C': 10, 'gamma': 'scale', 'kernel': 'sigmoid'}\n",
      "0.817671 (0.033357) with: {'C': 1.0, 'gamma': 'scale', 'kernel': 'poly'}\n",
      "0.821407 (0.036067) with: {'C': 1.0, 'gamma': 'scale', 'kernel': 'rbf'}\n",
      "0.663354 (0.043328) with: {'C': 1.0, 'gamma': 'scale', 'kernel': 'sigmoid'}\n",
      "0.813961 (0.039082) with: {'C': 0.1, 'gamma': 'scale', 'kernel': 'poly'}\n",
      "0.824211 (0.036921) with: {'C': 0.1, 'gamma': 'scale', 'kernel': 'rbf'}\n",
      "0.744660 (0.045343) with: {'C': 0.1, 'gamma': 'scale', 'kernel': 'sigmoid'}\n",
      "0.762983 (0.033112) with: {'C': 0.01, 'gamma': 'scale', 'kernel': 'poly'}\n",
      "0.714411 (0.031215) with: {'C': 0.01, 'gamma': 'scale', 'kernel': 'rbf'}\n",
      "0.764326 (0.038466) with: {'C': 0.01, 'gamma': 'scale', 'kernel': 'sigmoid'}\n"
     ]
    }
   ],
   "source": [
    "#Hyperparameter Tuning for SVM\n",
    "# define model and parameters\n",
    "model = SVC()\n",
    "kernel = ['poly', 'rbf', 'sigmoid']\n",
    "C = [50, 10, 1.0, 0.1, 0.01]\n",
    "gamma = ['scale']\n",
    "# define grid search\n",
    "grid = dict(kernel=kernel,C=C,gamma=gamma)\n",
    "cv = RepeatedStratifiedKFold(n_splits=10, n_repeats=3, random_state=1)\n",
    "grid_search = GridSearchCV(estimator=model, param_grid=grid, n_jobs=-1, cv=cv, scoring='accuracy',error_score=0)\n",
    "grid_result = grid_search.fit(X, Y)\n",
    "# summarize results\n",
    "print(\"Best: %f using %s\" % (grid_result.best_score_, grid_result.best_params_))\n",
    "means = grid_result.cv_results_['mean_test_score']\n",
    "stds = grid_result.cv_results_['std_test_score']\n",
    "params = grid_result.cv_results_['params']\n",
    "for mean, stdev, param in zip(means, stds, params):\n",
    "    print(\"%f (%f) with: %r\" % (mean, stdev, param))"
   ]
  },
  {
   "cell_type": "markdown",
   "id": "royal-effectiveness",
   "metadata": {},
   "source": [
    "# Neural Networks"
   ]
  },
  {
   "cell_type": "code",
   "execution_count": 255,
   "id": "defensive-federal",
   "metadata": {},
   "outputs": [],
   "source": [
    "from sklearn.neural_network import MLPClassifier\n",
    "X= data.drop(columns=['Class']).values\n",
    "Y = data['Class'].values\n",
    "scale= StandardScaler()\n",
    "X = scale.fit_transform(X) \n",
    "\n",
    "# 20% test 80% training data             \n",
    "X_train, X_test, y_train, y_test, = train_test_split(X, Y, test_size=0.2,random_state = 42)\n",
    "\n",
    "                                                                # 0.25 x 0.8 = 0.2 for validation data\n",
    "X_train, X_val, y_train, y_val, = train_test_split(X_train, y_train, test_size=0.25, random_state = 42) \n",
    "\n",
    "mlp = MLPClassifier(hidden_layer_sizes=(8,8,8), activation='relu', solver='adam', max_iter=500)\n",
    "#mpl = MLPClassifier(activation= 'tanh', alpha= 0.0001, hidden_layer_sizes= (20,), learning_rate= 'adaptive', solver= 'sgd')\n",
    "mlp.fit(X_train,y_train)\n",
    "\n",
    "NN_pred_train = mlp.predict(X_train)\n",
    "NN_pred_test = mlp.predict(X_test)"
   ]
  },
  {
   "cell_type": "code",
   "execution_count": 256,
   "id": "brief-tobacco",
   "metadata": {},
   "outputs": [
    {
     "name": "stdout",
     "output_type": "stream",
     "text": [
      "              precision    recall  f1-score   support\n",
      "\n",
      "           0       0.88      0.94      0.91        88\n",
      "           1       0.90      0.80      0.85        55\n",
      "\n",
      "    accuracy                           0.89       143\n",
      "   macro avg       0.89      0.87      0.88       143\n",
      "weighted avg       0.89      0.89      0.89       143\n",
      "\n"
     ]
    }
   ],
   "source": [
    "print(classification_report(y_test,NN_pred_test))"
   ]
  },
  {
   "cell_type": "code",
   "execution_count": 257,
   "id": "featured-george",
   "metadata": {},
   "outputs": [
    {
     "data": {
      "image/png": "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\n",
      "text/plain": [
       "<Figure size 432x288 with 2 Axes>"
      ]
     },
     "metadata": {},
     "output_type": "display_data"
    }
   ],
   "source": [
    "#making confusing matrix\n",
    "NN_cm = confusion_matrix(y_test, NN_pred_test)\n",
    "group_names = ['TN','FP','FN','TP']\n",
    "group_counts = [\"{0:0.0f}\".format(value) for value in\n",
    "                NN_cm.flatten()]\n",
    "labels = [f\"{v1}\\n{v2}\" for v1, v2 in\n",
    "          zip(group_names,group_counts)]\n",
    "labels = np.asarray(labels).reshape(2,2)\n",
    "sns.heatmap(NN_cm,annot=labels,fmt='')\n",
    "plt.title('Neural Networks')\n",
    "plt.ylabel('True label',fontweight='bold')\n",
    "plt.xlabel('Predicted label',fontweight='bold')\n",
    "plt.savefig('C:/Users/kayle/Desktop/NN_confmatrix',dpi=300,bbox_inches='tight', transparent=True)"
   ]
  },
  {
   "cell_type": "code",
   "execution_count": 232,
   "id": "metropolitan-judges",
   "metadata": {},
   "outputs": [
    {
     "data": {
      "text/plain": [
       "(array([0, 1], dtype=int64), array([87, 56], dtype=int64))"
      ]
     },
     "execution_count": 232,
     "metadata": {},
     "output_type": "execute_result"
    }
   ],
   "source": [
    "# get prediction for X_val\n",
    "new_output = mlp.predict(X_val)\n",
    "np.unique(new_output,return_counts=True)"
   ]
  },
  {
   "cell_type": "code",
   "execution_count": 233,
   "id": "ignored-conservative",
   "metadata": {},
   "outputs": [
    {
     "data": {
      "text/plain": [
       "(array([0, 1], dtype=int64), array([83, 60], dtype=int64))"
      ]
     },
     "execution_count": 233,
     "metadata": {},
     "output_type": "execute_result"
    }
   ],
   "source": [
    "np.unique(y_val,return_counts=True)"
   ]
  },
    {
     "data": {
      "text/plain": [
       "GridSearchCV(cv=5, estimator=MLPClassifier(max_iter=100), n_jobs=-1,\n",
       "             param_grid={'activation': ['tanh', 'relu'],\n",
       "                         'alpha': [0.0001, 0.05],\n",
       "                         'hidden_layer_sizes': [(10, 30, 10), (20,)],\n",
       "                         'learning_rate': ['constant', 'adaptive'],\n",
       "                         'solver': ['sgd', 'adam']})"
      ]
     },
     "execution_count": 238,
     "metadata": {},
     "output_type": "execute_result"
    }
   ],
   "source": [
    "mlp_gs = MLPClassifier(max_iter=100)\n",
    "parameter_space = {\n",
    "    'hidden_layer_sizes': [(10,30,10),(20,)],\n",
    "    'activation': ['tanh', 'relu'],\n",
    "    'solver': ['sgd', 'adam'],\n",
    "    'alpha': [0.0001, 0.05],\n",
    "    'learning_rate': ['constant','adaptive'],\n",
    "}\n",
    "from sklearn.model_selection import GridSearchCV\n",
    "clf = GridSearchCV(mlp_gs, parameter_space, n_jobs=-1, cv=5)\n",
    "clf.fit(X, Y)"
   ]
  },
  {
   "cell_type": "code",
   "execution_count": 239,
   "id": "encouraging-asset",
   "metadata": {},
   "outputs": [
    {
     "name": "stdout",
     "output_type": "stream",
     "text": [
      "Best parameters found:\n",
      " {'activation': 'tanh', 'alpha': 0.0001, 'hidden_layer_sizes': (20,), 'learning_rate': 'adaptive', 'solver': 'sgd'}\n"
     ]
    }
   ],
   "source": [
    "print('Best parameters found:\\n', clf.best_params_)"
   ]
  },
  {
   "cell_type": "code",
   "execution_count": null,
   "id": "previous-resistance",
   "metadata": {},
   "outputs": [],
   "source": []
  }
 ],
 "metadata": {
  "kernelspec": {
   "display_name": "Python 3",
   "language": "python",
   "name": "python3"
  },
  "language_info": {
   "codemirror_mode": {
    "name": "ipython",
    "version": 3
   },
   "file_extension": ".py",
   "mimetype": "text/x-python",
   "name": "python",
   "nbconvert_exporter": "python",
   "pygments_lexer": "ipython3",
   "version": "3.7.9"
  }
 },
 "nbformat": 4,
 "nbformat_minor": 5
}
