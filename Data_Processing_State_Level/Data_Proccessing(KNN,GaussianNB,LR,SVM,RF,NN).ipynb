{
 "cells": [
  {
   "cell_type": "code",
   "execution_count": 1,
   "id": "efficient-perception",
   "metadata": {},
   "outputs": [],
   "source": [
    "#Load libaries\n",
    "import os\n",
    "import pandas as pd \n",
    "import seaborn as sns\n",
    "import numpy as np \n",
    "import matplotlib.pyplot as plt \n",
    "from pydotplus import graph_from_dot_data\n",
    "from sklearn import preprocessing\n",
    "from sklearn.preprocessing import StandardScaler, LabelEncoder\n",
    "from scipy import stats\n",
    "from sklearn.linear_model import LogisticRegression\n",
    "from sklearn.naive_bayes import MultinomialNB\n",
    "from sklearn.naive_bayes import GaussianNB\n",
    "from sklearn.neighbors import KNeighborsClassifier\n",
    "from sklearn.ensemble import RandomForestClassifier, RandomForestRegressor\n",
    "from sklearn.svm import SVC \n",
    "from sklearn import svm, metrics\n",
    "from sklearn.model_selection import GridSearchCV, RandomizedSearchCV\n",
    "from sklearn.metrics import confusion_matrix, classification_report\n",
    "from sklearn.model_selection import train_test_split, GridSearchCV, cross_validate, cross_val_score, KFold\n",
    "from sklearn.model_selection import RepeatedStratifiedKFold\n",
    "from sklearn.linear_model import ElasticNet\n",
    "from sklearn.metrics import mean_squared_error\n",
    "from sklearn.metrics import roc_curve\n",
    "from sklearn.metrics import roc_auc_score\n",
    "\n",
    "import warnings\n",
    "warnings.filterwarnings('ignore')\n",
    "\n",
    "#Load datasets\n",
    "#ex_data =  pd.read_csv('sayad_dataset.csv')\n",
    "data = pd.read_csv('CA_Wildfires.csv')                      # First build dataset on all CA\n",
    "#data = pd.read_csv('CA_Wildfires_by_county.csv')           # Data on 44 counties\n",
    "#data = pd.read_csv('CA_Wildfires_fire_seasonV2.csv')\n",
    "#data = pd.read_csv('CA_Wildfires_4_Counties_June-Oct.csv')\n",
    "#data = pd.read_csv('CA_Wildfires2020.txt')"
   ]
  },
  {
   "cell_type": "code",
   "execution_count": 2,
   "id": "linear-facing",
   "metadata": {},
   "outputs": [
    {
     "data": {
      "text/html": [
       "<div>\n",
       "<style scoped>\n",
       "    .dataframe tbody tr th:only-of-type {\n",
       "        vertical-align: middle;\n",
       "    }\n",
       "\n",
       "    .dataframe tbody tr th {\n",
       "        vertical-align: top;\n",
       "    }\n",
       "\n",
       "    .dataframe thead th {\n",
       "        text-align: right;\n",
       "    }\n",
       "</style>\n",
       "<table border=\"1\" class=\"dataframe\">\n",
       "  <thead>\n",
       "    <tr style=\"text-align: right;\">\n",
       "      <th></th>\n",
       "      <th>NDVI</th>\n",
       "      <th>LST</th>\n",
       "      <th>TA</th>\n",
       "      <th>Class</th>\n",
       "    </tr>\n",
       "  </thead>\n",
       "  <tbody>\n",
       "    <tr>\n",
       "      <th>0</th>\n",
       "      <td>0.241233</td>\n",
       "      <td>280.170902</td>\n",
       "      <td>5.0</td>\n",
       "      <td>No_fire</td>\n",
       "    </tr>\n",
       "    <tr>\n",
       "      <th>1</th>\n",
       "      <td>0.242536</td>\n",
       "      <td>281.678667</td>\n",
       "      <td>5.0</td>\n",
       "      <td>No_fire</td>\n",
       "    </tr>\n",
       "    <tr>\n",
       "      <th>2</th>\n",
       "      <td>0.243840</td>\n",
       "      <td>285.865983</td>\n",
       "      <td>5.0</td>\n",
       "      <td>No_fire</td>\n",
       "    </tr>\n",
       "    <tr>\n",
       "      <th>3</th>\n",
       "      <td>0.245143</td>\n",
       "      <td>283.249994</td>\n",
       "      <td>5.0</td>\n",
       "      <td>No_fire</td>\n",
       "    </tr>\n",
       "    <tr>\n",
       "      <th>4</th>\n",
       "      <td>0.246446</td>\n",
       "      <td>275.546052</td>\n",
       "      <td>4.0</td>\n",
       "      <td>No_fire</td>\n",
       "    </tr>\n",
       "  </tbody>\n",
       "</table>\n",
       "</div>"
      ],
      "text/plain": [
       "       NDVI         LST   TA    Class\n",
       "0  0.241233  280.170902  5.0  No_fire\n",
       "1  0.242536  281.678667  5.0  No_fire\n",
       "2  0.243840  285.865983  5.0  No_fire\n",
       "3  0.245143  283.249994  5.0  No_fire\n",
       "4  0.246446  275.546052  4.0  No_fire"
      ]
     },
     "execution_count": 2,
     "metadata": {},
     "output_type": "execute_result"
    }
   ],
   "source": [
    "data.head()"
   ]
  },
  {
   "cell_type": "code",
   "execution_count": 3,
   "id": "sudden-termination",
   "metadata": {},
   "outputs": [],
   "source": [
    "data[\"Class\"].replace({\"Fire\": 1, \"No_fire\": 0}, inplace=True)\n",
    "data = data[['NDVI','LST','TA','Class']]"
   ]
  },
  {
   "cell_type": "code",
   "execution_count": 4,
   "id": "quality-original",
   "metadata": {},
   "outputs": [
    {
     "data": {
      "text/html": [
       "<div>\n",
       "<style scoped>\n",
       "    .dataframe tbody tr th:only-of-type {\n",
       "        vertical-align: middle;\n",
       "    }\n",
       "\n",
       "    .dataframe tbody tr th {\n",
       "        vertical-align: top;\n",
       "    }\n",
       "\n",
       "    .dataframe thead th {\n",
       "        text-align: right;\n",
       "    }\n",
       "</style>\n",
       "<table border=\"1\" class=\"dataframe\">\n",
       "  <thead>\n",
       "    <tr style=\"text-align: right;\">\n",
       "      <th></th>\n",
       "      <th>NDVI</th>\n",
       "      <th>LST</th>\n",
       "      <th>TA</th>\n",
       "      <th>Class</th>\n",
       "    </tr>\n",
       "  </thead>\n",
       "  <tbody>\n",
       "    <tr>\n",
       "      <th>0</th>\n",
       "      <td>0.241233</td>\n",
       "      <td>280.170902</td>\n",
       "      <td>5.0</td>\n",
       "      <td>0</td>\n",
       "    </tr>\n",
       "    <tr>\n",
       "      <th>1</th>\n",
       "      <td>0.242536</td>\n",
       "      <td>281.678667</td>\n",
       "      <td>5.0</td>\n",
       "      <td>0</td>\n",
       "    </tr>\n",
       "    <tr>\n",
       "      <th>2</th>\n",
       "      <td>0.243840</td>\n",
       "      <td>285.865983</td>\n",
       "      <td>5.0</td>\n",
       "      <td>0</td>\n",
       "    </tr>\n",
       "    <tr>\n",
       "      <th>3</th>\n",
       "      <td>0.245143</td>\n",
       "      <td>283.249994</td>\n",
       "      <td>5.0</td>\n",
       "      <td>0</td>\n",
       "    </tr>\n",
       "    <tr>\n",
       "      <th>4</th>\n",
       "      <td>0.246446</td>\n",
       "      <td>275.546052</td>\n",
       "      <td>4.0</td>\n",
       "      <td>0</td>\n",
       "    </tr>\n",
       "    <tr>\n",
       "      <th>...</th>\n",
       "      <td>...</td>\n",
       "      <td>...</td>\n",
       "      <td>...</td>\n",
       "      <td>...</td>\n",
       "    </tr>\n",
       "    <tr>\n",
       "      <th>726</th>\n",
       "      <td>0.323556</td>\n",
       "      <td>285.095924</td>\n",
       "      <td>5.0</td>\n",
       "      <td>0</td>\n",
       "    </tr>\n",
       "    <tr>\n",
       "      <th>727</th>\n",
       "      <td>0.322612</td>\n",
       "      <td>279.868729</td>\n",
       "      <td>8.0</td>\n",
       "      <td>0</td>\n",
       "    </tr>\n",
       "    <tr>\n",
       "      <th>728</th>\n",
       "      <td>0.321667</td>\n",
       "      <td>281.404568</td>\n",
       "      <td>5.0</td>\n",
       "      <td>0</td>\n",
       "    </tr>\n",
       "    <tr>\n",
       "      <th>729</th>\n",
       "      <td>0.320723</td>\n",
       "      <td>284.108339</td>\n",
       "      <td>5.0</td>\n",
       "      <td>0</td>\n",
       "    </tr>\n",
       "    <tr>\n",
       "      <th>730</th>\n",
       "      <td>0.319778</td>\n",
       "      <td>279.166502</td>\n",
       "      <td>5.0</td>\n",
       "      <td>0</td>\n",
       "    </tr>\n",
       "  </tbody>\n",
       "</table>\n",
       "<p>731 rows × 4 columns</p>\n",
       "</div>"
      ],
      "text/plain": [
       "         NDVI         LST   TA  Class\n",
       "0    0.241233  280.170902  5.0      0\n",
       "1    0.242536  281.678667  5.0      0\n",
       "2    0.243840  285.865983  5.0      0\n",
       "3    0.245143  283.249994  5.0      0\n",
       "4    0.246446  275.546052  4.0      0\n",
       "..        ...         ...  ...    ...\n",
       "726  0.323556  285.095924  5.0      0\n",
       "727  0.322612  279.868729  8.0      0\n",
       "728  0.321667  281.404568  5.0      0\n",
       "729  0.320723  284.108339  5.0      0\n",
       "730  0.319778  279.166502  5.0      0\n",
       "\n",
       "[731 rows x 4 columns]"
      ]
     },
     "execution_count": 4,
     "metadata": {},
     "output_type": "execute_result"
    }
   ],
   "source": [
    "data"
   ]
  },
  {
   "cell_type": "code",
   "execution_count": 5,
   "id": "external-seating",
   "metadata": {},
   "outputs": [
    {
     "data": {
      "text/plain": [
       "5.0    474\n",
       "9.0    189\n",
       "8.0     50\n",
       "4.0     18\n",
       "Name: TA, dtype: int64"
      ]
     },
     "execution_count": 5,
     "metadata": {},
     "output_type": "execute_result"
    }
   ],
   "source": [
    "data.TA.value_counts()"
   ]
  },
  {
   "cell_type": "code",
   "execution_count": 6,
   "id": "legendary-greeting",
   "metadata": {},
   "outputs": [],
   "source": [
    "data = data[data.TA !=4]"
   ]
  },
  {
   "cell_type": "code",
   "execution_count": 7,
   "id": "eight-simulation",
   "metadata": {},
   "outputs": [
    {
     "data": {
      "text/plain": [
       "5.0    474\n",
       "9.0    189\n",
       "8.0     50\n",
       "Name: TA, dtype: int64"
      ]
     },
     "execution_count": 7,
     "metadata": {},
     "output_type": "execute_result"
    }
   ],
   "source": [
    "data.TA.value_counts()\n"
   ]
  },
  {
   "cell_type": "code",
   "execution_count": 8,
   "id": "shaped-banner",
   "metadata": {},
   "outputs": [
    {
     "data": {
      "text/plain": [
       "0    421\n",
       "1    292\n",
       "Name: Class, dtype: int64"
      ]
     },
     "execution_count": 8,
     "metadata": {},
     "output_type": "execute_result"
    }
   ],
   "source": [
    "Count=data.Class.value_counts() #count target feature \n",
    "Count"
   ]
  },
  {
   "cell_type": "code",
   "execution_count": 9,
   "id": "continent-watts",
   "metadata": {},
   "outputs": [
    {
     "name": "stdout",
     "output_type": "stream",
     "text": [
      "Proportion: 1.44 : 1\n"
     ]
    }
   ],
   "source": [
    "print('Proportion:', round(Count[0] / Count[1], 2), ': 1')\n"
   ]
  },
  {
   "cell_type": "code",
   "execution_count": 10,
   "id": "portuguese-macro",
   "metadata": {},
   "outputs": [
    {
     "data": {
      "text/html": [
       "<div>\n",
       "<style scoped>\n",
       "    .dataframe tbody tr th:only-of-type {\n",
       "        vertical-align: middle;\n",
       "    }\n",
       "\n",
       "    .dataframe tbody tr th {\n",
       "        vertical-align: top;\n",
       "    }\n",
       "\n",
       "    .dataframe thead th {\n",
       "        text-align: right;\n",
       "    }\n",
       "</style>\n",
       "<table border=\"1\" class=\"dataframe\">\n",
       "  <thead>\n",
       "    <tr style=\"text-align: right;\">\n",
       "      <th></th>\n",
       "      <th>NDVI</th>\n",
       "      <th>LST</th>\n",
       "      <th>TA</th>\n",
       "      <th>Class</th>\n",
       "    </tr>\n",
       "  </thead>\n",
       "  <tbody>\n",
       "    <tr>\n",
       "      <th>0</th>\n",
       "      <td>0.241233</td>\n",
       "      <td>280.170902</td>\n",
       "      <td>5.0</td>\n",
       "      <td>0</td>\n",
       "    </tr>\n",
       "    <tr>\n",
       "      <th>1</th>\n",
       "      <td>0.242536</td>\n",
       "      <td>281.678667</td>\n",
       "      <td>5.0</td>\n",
       "      <td>0</td>\n",
       "    </tr>\n",
       "    <tr>\n",
       "      <th>2</th>\n",
       "      <td>0.243840</td>\n",
       "      <td>285.865983</td>\n",
       "      <td>5.0</td>\n",
       "      <td>0</td>\n",
       "    </tr>\n",
       "    <tr>\n",
       "      <th>3</th>\n",
       "      <td>0.245143</td>\n",
       "      <td>283.249994</td>\n",
       "      <td>5.0</td>\n",
       "      <td>0</td>\n",
       "    </tr>\n",
       "    <tr>\n",
       "      <th>6</th>\n",
       "      <td>0.249052</td>\n",
       "      <td>286.090648</td>\n",
       "      <td>5.0</td>\n",
       "      <td>0</td>\n",
       "    </tr>\n",
       "  </tbody>\n",
       "</table>\n",
       "</div>"
      ],
      "text/plain": [
       "       NDVI         LST   TA  Class\n",
       "0  0.241233  280.170902  5.0      0\n",
       "1  0.242536  281.678667  5.0      0\n",
       "2  0.243840  285.865983  5.0      0\n",
       "3  0.245143  283.249994  5.0      0\n",
       "6  0.249052  286.090648  5.0      0"
      ]
     },
     "execution_count": 10,
     "metadata": {},
     "output_type": "execute_result"
    }
   ],
   "source": [
    "data.head()"
   ]
  },
  {
   "cell_type": "code",
   "execution_count": 11,
   "id": "right-closer",
   "metadata": {},
   "outputs": [
    {
     "name": "stdout",
     "output_type": "stream",
     "text": [
      "<class 'pandas.core.frame.DataFrame'>\n",
      "Int64Index: 713 entries, 0 to 730\n",
      "Data columns (total 4 columns):\n",
      " #   Column  Non-Null Count  Dtype  \n",
      "---  ------  --------------  -----  \n",
      " 0   NDVI    713 non-null    float64\n",
      " 1   LST     713 non-null    float64\n",
      " 2   TA      713 non-null    float64\n",
      " 3   Class   713 non-null    int64  \n",
      "dtypes: float64(3), int64(1)\n",
      "memory usage: 27.9 KB\n"
     ]
    }
   ],
   "source": [
    "data.info()"
   ]
  },
  {
   "cell_type": "code",
   "execution_count": 12,
   "id": "broke-biography",
   "metadata": {},
   "outputs": [
    {
     "data": {
      "text/html": [
       "<div>\n",
       "<style scoped>\n",
       "    .dataframe tbody tr th:only-of-type {\n",
       "        vertical-align: middle;\n",
       "    }\n",
       "\n",
       "    .dataframe tbody tr th {\n",
       "        vertical-align: top;\n",
       "    }\n",
       "\n",
       "    .dataframe thead th {\n",
       "        text-align: right;\n",
       "    }\n",
       "</style>\n",
       "<table border=\"1\" class=\"dataframe\">\n",
       "  <thead>\n",
       "    <tr style=\"text-align: right;\">\n",
       "      <th></th>\n",
       "      <th>NDVI</th>\n",
       "      <th>LST</th>\n",
       "      <th>TA</th>\n",
       "      <th>Class</th>\n",
       "    </tr>\n",
       "  </thead>\n",
       "  <tbody>\n",
       "    <tr>\n",
       "      <th>count</th>\n",
       "      <td>713.000000</td>\n",
       "      <td>713.000000</td>\n",
       "      <td>713.000000</td>\n",
       "      <td>713.000000</td>\n",
       "    </tr>\n",
       "    <tr>\n",
       "      <th>mean</th>\n",
       "      <td>0.347496</td>\n",
       "      <td>299.580469</td>\n",
       "      <td>6.270687</td>\n",
       "      <td>0.409537</td>\n",
       "    </tr>\n",
       "    <tr>\n",
       "      <th>std</th>\n",
       "      <td>0.069853</td>\n",
       "      <td>10.773156</td>\n",
       "      <td>1.806184</td>\n",
       "      <td>0.492094</td>\n",
       "    </tr>\n",
       "    <tr>\n",
       "      <th>min</th>\n",
       "      <td>0.211590</td>\n",
       "      <td>275.767384</td>\n",
       "      <td>5.000000</td>\n",
       "      <td>0.000000</td>\n",
       "    </tr>\n",
       "    <tr>\n",
       "      <th>25%</th>\n",
       "      <td>0.288568</td>\n",
       "      <td>289.960760</td>\n",
       "      <td>5.000000</td>\n",
       "      <td>0.000000</td>\n",
       "    </tr>\n",
       "    <tr>\n",
       "      <th>50%</th>\n",
       "      <td>0.339890</td>\n",
       "      <td>301.138505</td>\n",
       "      <td>5.000000</td>\n",
       "      <td>0.000000</td>\n",
       "    </tr>\n",
       "    <tr>\n",
       "      <th>75%</th>\n",
       "      <td>0.399713</td>\n",
       "      <td>308.732448</td>\n",
       "      <td>9.000000</td>\n",
       "      <td>1.000000</td>\n",
       "    </tr>\n",
       "    <tr>\n",
       "      <th>max</th>\n",
       "      <td>0.588486</td>\n",
       "      <td>318.525754</td>\n",
       "      <td>9.000000</td>\n",
       "      <td>1.000000</td>\n",
       "    </tr>\n",
       "  </tbody>\n",
       "</table>\n",
       "</div>"
      ],
      "text/plain": [
       "             NDVI         LST          TA       Class\n",
       "count  713.000000  713.000000  713.000000  713.000000\n",
       "mean     0.347496  299.580469    6.270687    0.409537\n",
       "std      0.069853   10.773156    1.806184    0.492094\n",
       "min      0.211590  275.767384    5.000000    0.000000\n",
       "25%      0.288568  289.960760    5.000000    0.000000\n",
       "50%      0.339890  301.138505    5.000000    0.000000\n",
       "75%      0.399713  308.732448    9.000000    1.000000\n",
       "max      0.588486  318.525754    9.000000    1.000000"
      ]
     },
     "execution_count": 12,
     "metadata": {},
     "output_type": "execute_result"
    }
   ],
   "source": [
    "data.describe() # Statistic summary"
   ]
  },
  {
   "cell_type": "code",
   "execution_count": 13,
   "id": "special-alfred",
   "metadata": {},
   "outputs": [
    {
     "data": {
      "text/plain": [
       "NDVI     0\n",
       "LST      0\n",
       "TA       0\n",
       "Class    0\n",
       "dtype: int64"
      ]
     },
     "execution_count": 13,
     "metadata": {},
     "output_type": "execute_result"
    }
   ],
   "source": [
    "data.isnull().sum() # return number of missing value for each column"
   ]
  },
  {
   "cell_type": "code",
   "execution_count": 14,
   "id": "phantom-setup",
   "metadata": {},
   "outputs": [],
   "source": [
    "#data = data.fillna(data.mean()) #Fill 13 missing values in NDVI with average NDVI\n",
    "#data = data.dropna() #drop all rows contain NaN"
   ]
  },
  {
   "cell_type": "code",
   "execution_count": 15,
   "id": "efficient-stretch",
   "metadata": {},
   "outputs": [
    {
     "data": {
      "text/plain": [
       "NDVI    0.458225\n",
       "LST    -0.225918\n",
       "TA      0.747841\n",
       "dtype: float64"
      ]
     },
     "execution_count": 15,
     "metadata": {},
     "output_type": "execute_result"
    }
   ],
   "source": [
    "data.drop(columns='Class').skew(axis = 0) # return skewness of each independent feature"
   ]
  },
  {
   "cell_type": "code",
   "execution_count": 16,
   "id": "invisible-application",
   "metadata": {},
   "outputs": [
    {
     "data": {
      "image/png": "[encoded data removed]",
      "text/plain": [
       "<Figure size 1152x864 with 12 Axes>"
      ]
     },
     "metadata": {
      "needs_background": "light"
     },
     "output_type": "display_data"
    }
   ],
   "source": [
    "# Density\n",
    "data.drop(columns='Class').plot(kind='density', subplots=True, layout=(4,3),figsize=(16, 12), sharex=False)\n",
    "plt.show()"
   ]
  },
  {
   "cell_type": "code",
   "execution_count": 17,
   "id": "searching-monster",
   "metadata": {},
   "outputs": [
    {
     "data": {
      "text/html": [
       "<div>\n",
       "<style scoped>\n",
       "    .dataframe tbody tr th:only-of-type {\n",
       "        vertical-align: middle;\n",
       "    }\n",
       "\n",
       "    .dataframe tbody tr th {\n",
       "        vertical-align: top;\n",
       "    }\n",
       "\n",
       "    .dataframe thead th {\n",
       "        text-align: right;\n",
       "    }\n",
       "</style>\n",
       "<table border=\"1\" class=\"dataframe\">\n",
       "  <thead>\n",
       "    <tr style=\"text-align: right;\">\n",
       "      <th></th>\n",
       "      <th>NDVI</th>\n",
       "      <th>LST</th>\n",
       "      <th>TA</th>\n",
       "      <th>Class</th>\n",
       "    </tr>\n",
       "  </thead>\n",
       "  <tbody>\n",
       "    <tr>\n",
       "      <th>NDVI</th>\n",
       "      <td>1.000000</td>\n",
       "      <td>-0.211127</td>\n",
       "      <td>0.155989</td>\n",
       "      <td>0.028560</td>\n",
       "    </tr>\n",
       "    <tr>\n",
       "      <th>LST</th>\n",
       "      <td>-0.211127</td>\n",
       "      <td>1.000000</td>\n",
       "      <td>0.372892</td>\n",
       "      <td>0.559003</td>\n",
       "    </tr>\n",
       "    <tr>\n",
       "      <th>TA</th>\n",
       "      <td>0.155989</td>\n",
       "      <td>0.372892</td>\n",
       "      <td>1.000000</td>\n",
       "      <td>0.472414</td>\n",
       "    </tr>\n",
       "    <tr>\n",
       "      <th>Class</th>\n",
       "      <td>0.028560</td>\n",
       "      <td>0.559003</td>\n",
       "      <td>0.472414</td>\n",
       "      <td>1.000000</td>\n",
       "    </tr>\n",
       "  </tbody>\n",
       "</table>\n",
       "</div>"
      ],
      "text/plain": [
       "           NDVI       LST        TA     Class\n",
       "NDVI   1.000000 -0.211127  0.155989  0.028560\n",
       "LST   -0.211127  1.000000  0.372892  0.559003\n",
       "TA     0.155989  0.372892  1.000000  0.472414\n",
       "Class  0.028560  0.559003  0.472414  1.000000"
      ]
     },
     "execution_count": 17,
     "metadata": {},
     "output_type": "execute_result"
    }
   ],
   "source": [
    "\n",
    "data.corr() #return correlation between columns"
   ]
  },
  {
   "cell_type": "code",
   "execution_count": 18,
   "id": "amazing-communication",
   "metadata": {
    "scrolled": true
   },
   "outputs": [
    {
     "data": {
      "image/png": "[encoded data removed]",
      "text/plain": [
       "<Figure size 864x864 with 2 Axes>"
      ]
     },
     "metadata": {
      "needs_background": "light"
     },
     "output_type": "display_data"
    }
   ],
   "source": [
    "#Correlation matrix\n",
    "plt.figure(figsize=(12, 12))\n",
    "corr = data.corr()\n",
    "sns.set(font_scale=1.4)\n",
    "res=sns.heatmap(corr, annot=True)\n",
    "res.set_title(\"Correlation Matrix of All Columns\",fontsize=25,fontweight='bold')\n",
    "res.set_xticklabels(res.get_xmajorticklabels(), fontsize = 18,fontweight='bold')\n",
    "res.set_yticklabels(res.get_xmajorticklabels(), fontsize = 18,fontweight='bold')\n",
    "plt.savefig('C:/Users/kayle/Desktop/CorrMatrix',dpi=300) #, transparent=True)\n",
    "plt.show()"
   ]
  },
  {
   "cell_type": "code",
   "execution_count": 19,
   "id": "ultimate-footage",
   "metadata": {},
   "outputs": [
    {
     "data": {
      "text/plain": [
       "0    421\n",
       "1    292\n",
       "Name: Class, dtype: int64"
      ]
     },
     "execution_count": 19,
     "metadata": {},
     "output_type": "execute_result"
    }
   ],
   "source": [
    "data.Class.value_counts() #count target feature "
   ]
  },
  {
   "cell_type": "code",
   "execution_count": 20,
   "id": "mathematical-finland",
   "metadata": {},
   "outputs": [
    {
     "data": {
      "image/png": "[encoded data removed]",
      "text/plain": [
       "<Figure size 432x288 with 1 Axes>"
      ]
     },
     "metadata": {},
     "output_type": "display_data"
    }
   ],
   "source": [
    "data[\"Class\"].replace({1:\"Fire\", 0:\"No_fire\"}, inplace=True)\n",
    "#count plot of target feature\n",
    "classCount= sns.countplot(x='Class', data = data)\n",
    "classCount.axes.set_title(\"Class Count\",fontsize=25,fontweight='bold')\n",
    "classCount.set_xlabel(\"Class\",fontsize=18,fontweight='bold')\n",
    "classCount.set_ylabel(\"Count\",fontsize=18,fontweight='bold')\n",
    "plt.savefig('C:/Users/kayle/Desktop/ClassCount',dpi=300,bbox_inches='tight')\n",
    "plt.show()"
   ]
  },
  {
   "cell_type": "code",
   "execution_count": 21,
   "id": "apparent-battery",
   "metadata": {},
   "outputs": [],
   "source": [
    "data[\"Class\"].replace({\"Fire\": 1, \"No_fire\": 0}, inplace=True)"
   ]
  },
  {
   "cell_type": "code",
   "execution_count": 22,
   "id": "forbidden-operator",
   "metadata": {},
   "outputs": [
    {
     "data": {
      "image/png": "[encoded data removed]",
      "text/plain": [
       "<Figure size 936x504 with 1 Axes>"
      ]
     },
     "metadata": {},
     "output_type": "display_data"
    },
    {
     "data": {
      "image/png": "[encoded data removed]",
      "text/plain": [
       "<Figure size 936x504 with 1 Axes>"
      ]
     },
     "metadata": {},
     "output_type": "display_data"
    },
    {
     "data": {
      "image/png": "[encoded data removed]",
      "text/plain": [
       "<Figure size 936x504 with 1 Axes>"
      ]
     },
     "metadata": {},
     "output_type": "display_data"
    }
   ],
   "source": [
    "# Visualiztion of outliers data\n",
    "column_names = ['NDVI', 'LST', 'TA']\n",
    "#Boxplot\n",
    "train = data[column_names]\n",
    "plt.style.use('ggplot')\n",
    "for i in column_names:\n",
    "    plt.figure(figsize=(13, 7))\n",
    "    plt.title(str(i) + \" with \" + str('Class'))\n",
    "    sns.boxplot(x=data.Class, y=train[i])\n",
    "    plt.show()"
   ]
  },
  {
   "cell_type": "code",
   "execution_count": 23,
   "id": "fabulous-observer",
   "metadata": {},
   "outputs": [],
   "source": [
    "# finding outliers using zscore\n",
    "#z = np.abs(stats.zscore(data))\n",
    "#z  # print outliers"
   ]
  },
  {
   "cell_type": "code",
   "execution_count": 24,
   "id": "exclusive-ratio",
   "metadata": {},
   "outputs": [],
   "source": [
    "#data.shape"
   ]
  },
  {
   "cell_type": "code",
   "execution_count": 25,
   "id": "velvet-completion",
   "metadata": {},
   "outputs": [],
   "source": [
    "#np.count_nonzero(np.where( z > 3)) # count number of outliers"
   ]
  },
  {
   "cell_type": "code",
   "execution_count": 26,
   "id": "flexible-austin",
   "metadata": {},
   "outputs": [],
   "source": [
    "#data_outlier_z = data[(z <= 3).all(axis=1)] #dropped outliers\n",
    "#data_outlier_z.shape     #shape after removed outliers"
   ]
  },
  {
   "cell_type": "code",
   "execution_count": 27,
   "id": "controlling-lemon",
   "metadata": {},
   "outputs": [],
   "source": [
    "# Histograms\n",
    "#data_outlier_z.drop(columns=['Class']).hist(bins=20, figsize=(15,15),color='b'); "
   ]
  },
  {
   "cell_type": "code",
   "execution_count": 28,
   "id": "formed-swiss",
   "metadata": {},
   "outputs": [],
   "source": [
    "#scaler = StandardScaler() # Normalize data using z-score normalizer\n",
    "#data_normalize = scaler.fit_transform(data) #.drop(columns=['Class']))\n",
    "#data_normalize_df = pd.DataFrame(data_normalize,columns=['NDVI','LST','TA','Class'])"
   ]
  },
  {
   "cell_type": "code",
   "execution_count": 29,
   "id": "capital-tennessee",
   "metadata": {},
   "outputs": [],
   "source": [
    "#data_normalize_df.hist(bins=20, figsize=(15,15),color='b'); # After normalied data"
   ]
  },
  {
   "cell_type": "markdown",
   "id": "current-recorder",
   "metadata": {},
   "source": [
    "# Applying models and evalution"
   ]
  },
  {
   "cell_type": "markdown",
   "id": "boring-canvas",
   "metadata": {},
   "source": [
    "# Logistic Regression"
   ]
  },
  {
   "cell_type": "code",
   "execution_count": 30,
   "id": "generous-swiss",
   "metadata": {},
   "outputs": [
    {
     "name": "stdout",
     "output_type": "stream",
     "text": [
      "              precision    recall  f1-score   support\n",
      "\n",
      "           0       0.87      0.92      0.90        88\n",
      "           1       0.86      0.78      0.82        55\n",
      "\n",
      "    accuracy                           0.87       143\n",
      "   macro avg       0.87      0.85      0.86       143\n",
      "weighted avg       0.87      0.87      0.87       143\n",
      "\n"
     ]
    }
   ],
   "source": [
    "X= data.drop(columns=['Class']).values\n",
    "Y = data['Class'].values\n",
    "scale= StandardScaler()\n",
    "X = scale.fit_transform(X) \n",
    "# 20% test 80% training data             \n",
    "X_train, X_test, y_train, y_test, = train_test_split(X, Y, test_size=0.2,random_state = 42)\n",
    "\n",
    "                                                         # 0.25 x 0.8 = 0.2 for validation data\n",
    "X_train, X_val, y_train, y_val, = train_test_split(X_train, y_train, test_size=0.25,random_state = 16) \n",
    "\n",
    "# Instantiate\n",
    "LR = LogisticRegression(C=0.01, penalty= 'l2', solver= 'liblinear')\n",
    "# Fit\n",
    "LR = LR.fit(X_train, y_train)\n",
    "LR.score(X_train,y_train)\n",
    "\n",
    "# Predictions on the test dataset\n",
    "LR_pred = pd.DataFrame(LR.predict(X_test))\n",
    "\n",
    "# Probabilities on the test dataset\n",
    "probs = pd.DataFrame(LR.predict_proba(X_test))\n",
    "\n",
    "print(metrics.classification_report(y_test, LR_pred))   #Logistic Regression \n"
   ]
  },
  {
   "cell_type": "code",
   "execution_count": 31,
   "id": "exceptional-financing",
   "metadata": {},
   "outputs": [
    {
     "data": {
      "image/png": "[encoded data removed]",
      "text/plain": [
       "<Figure size 432x288 with 2 Axes>"
      ]
     },
     "metadata": {},
     "output_type": "display_data"
    }
   ],
   "source": [
    "LR_cm = confusion_matrix(y_test, LR_pred)\n",
    "group_names = ['TN','FP','FN','TP']\n",
    "group_counts = [\"{0:0.0f}\".format(value) for value in\n",
    "                LR_cm.flatten()]\n",
    "labels = [f\"{v1}\\n{v2}\" for v1, v2 in\n",
    "          zip(group_names,group_counts)]\n",
    "labels = np.asarray(labels).reshape(2,2)\n",
    "\n",
    "sns.heatmap(LR_cm,annot=labels,fmt='')\n",
    "plt.title('Logistic Regression')\n",
    "plt.ylabel('True label',fontweight='bold')\n",
    "plt.xlabel('Predicted label',fontweight='bold')\n",
    "plt.savefig('C:/Users/kayle/Desktop/LR_confmatrix',dpi=300,bbox_inches='tight', transparent=True)"
   ]
  },
  {
   "cell_type": "code",
   "execution_count": 32,
   "id": "novel-parcel",
   "metadata": {},
   "outputs": [
    {
     "data": {
      "text/plain": [
       "(array([0, 1], dtype=int64), array([79, 64], dtype=int64))"
      ]
     },
     "execution_count": 32,
     "metadata": {},
     "output_type": "execute_result"
    }
   ],
   "source": [
    "# get prediction for X_val\n",
    "new_output = LR.predict(X_val)\n",
    "np.unique(new_output,return_counts=True)"
   ]
  },
  {
   "cell_type": "code",
   "execution_count": 33,
   "id": "occupied-forest",
   "metadata": {},
   "outputs": [
    {
     "data": {
      "text/plain": [
       "(array([0, 1], dtype=int64), array([75, 68], dtype=int64))"
      ]
     },
     "execution_count": 33,
     "metadata": {},
     "output_type": "execute_result"
    }
   ],
   "source": [
    "np.unique(y_val,return_counts=True)"
   ]
  },
  {
   "cell_type": "code",
   "execution_count": 34,
   "id": "mounted-reggae",
   "metadata": {},
   "outputs": [
    {
     "name": "stdout",
     "output_type": "stream",
     "text": [
      "Best: 0.808301 using {'C': 0.01, 'penalty': 'l2', 'solver': 'liblinear'}\n",
      "0.798011 (0.043967) with: {'C': 100, 'penalty': 'l2', 'solver': 'newton-cg'}\n",
      "0.798011 (0.043967) with: {'C': 100, 'penalty': 'l2', 'solver': 'lbfgs'}\n",
      "0.798011 (0.043967) with: {'C': 100, 'penalty': 'l2', 'solver': 'liblinear'}\n",
      "0.798481 (0.042874) with: {'C': 10, 'penalty': 'l2', 'solver': 'newton-cg'}\n",
      "0.798481 (0.042874) with: {'C': 10, 'penalty': 'l2', 'solver': 'lbfgs'}\n",
      "0.798481 (0.042874) with: {'C': 10, 'penalty': 'l2', 'solver': 'liblinear'}\n",
      "0.799870 (0.041163) with: {'C': 1.0, 'penalty': 'l2', 'solver': 'newton-cg'}\n",
      "0.799870 (0.041163) with: {'C': 1.0, 'penalty': 'l2', 'solver': 'lbfgs'}\n",
      "0.798011 (0.041517) with: {'C': 1.0, 'penalty': 'l2', 'solver': 'liblinear'}\n",
      "0.801291 (0.039975) with: {'C': 0.1, 'penalty': 'l2', 'solver': 'newton-cg'}\n",
      "0.801291 (0.039975) with: {'C': 0.1, 'penalty': 'l2', 'solver': 'lbfgs'}\n",
      "0.798944 (0.039562) with: {'C': 0.1, 'penalty': 'l2', 'solver': 'liblinear'}\n",
      "0.799387 (0.037529) with: {'C': 0.01, 'penalty': 'l2', 'solver': 'newton-cg'}\n",
      "0.799387 (0.037529) with: {'C': 0.01, 'penalty': 'l2', 'solver': 'lbfgs'}\n",
      "0.808301 (0.041417) with: {'C': 0.01, 'penalty': 'l2', 'solver': 'liblinear'}\n"
     ]
    }
   ],
   "source": [
    "#Hyperparameter Tuning for Logistic Regression\n",
    "# define models and parameters\n",
    "solvers = ['newton-cg', 'lbfgs', 'liblinear']\n",
    "penalty = ['l2']\n",
    "c_values = [100, 10, 1.0, 0.1, 0.01]\n",
    "LR = LogisticRegression()\n",
    "# define grid search\n",
    "grid = dict(solver=solvers,penalty=penalty,C=c_values)\n",
    "cv = RepeatedStratifiedKFold(n_splits=10, n_repeats=3, random_state=1)\n",
    "grid_search = GridSearchCV(estimator=LR, param_grid=grid, n_jobs=-1, cv=cv, scoring='accuracy',error_score=0)\n",
    "grid_result = grid_search.fit(X, Y)\n",
    "# summarize results\n",
    "print(\"Best: %f using %s\" % (grid_result.best_score_, grid_result.best_params_))\n",
    "means = grid_result.cv_results_['mean_test_score']\n",
    "stds = grid_result.cv_results_['std_test_score']\n",
    "params = grid_result.cv_results_['params']\n",
    "for mean, stdev, param in zip(means, stds, params):\n",
    "    print(\"%f (%f) with: %r\" % (mean, stdev, param))\n"
   ]
  },
  {
   "cell_type": "markdown",
   "id": "lesser-hanging",
   "metadata": {},
   "source": [
    "# Gaussian Naive Bayes"
   ]
  },
  {
   "cell_type": "code",
   "execution_count": 35,
   "id": "recognized-sunset",
   "metadata": {},
   "outputs": [
    {
     "name": "stdout",
     "output_type": "stream",
     "text": [
      "              precision    recall  f1-score   support\n",
      "\n",
      "           0       0.87      0.92      0.90        88\n",
      "           1       0.86      0.78      0.82        55\n",
      "\n",
      "    accuracy                           0.87       143\n",
      "   macro avg       0.87      0.85      0.86       143\n",
      "weighted avg       0.87      0.87      0.87       143\n",
      "\n"
     ]
    }
   ],
   "source": [
    "X= data.drop(columns=['Class']).values\n",
    "Y = data['Class'].values\n",
    "scale= StandardScaler()\n",
    "X = scale.fit_transform(X) \n",
    "\n",
    "# 20% test 80% training data             \n",
    "X_train, X_test, y_train, y_test, = train_test_split(X, Y, test_size=0.2,random_state = 42)\n",
    "\n",
    "                                                         # 0.25 x 0.8 = 0.2 for validation data\n",
    "X_train, X_val, y_train, y_val, = train_test_split(X_train, y_train, test_size=0.25,random_state = 42) \n",
    "\n",
    "#NB = MultinomialNB()\n",
    "NB= GaussianNB(var_smoothing= 0.12328467394420659)\n",
    "NB.fit(X_train, y_train)\n",
    "\n",
    "NB_pred = pd.DataFrame(NB.predict(X_test))\n",
    "\n",
    "print(metrics.classification_report(y_test, NB_pred))   #Gaussian Naive Bayes"
   ]
  },
  {
   "cell_type": "code",
   "execution_count": 36,
   "id": "widespread-frank",
   "metadata": {},
   "outputs": [
    {
     "data": {
      "image/png": "[encoded data removed]",
      "text/plain": [
       "<Figure size 432x288 with 2 Axes>"
      ]
     },
     "metadata": {},
     "output_type": "display_data"
    }
   ],
   "source": [
    "NB_cm = confusion_matrix(y_test, NB_pred)\n",
    "group_names = ['TN','FP','FN','TP']\n",
    "group_counts = [\"{0:0.0f}\".format(value) for value in\n",
    "                NB_cm.flatten()]\n",
    "labels = [f\"{v1}\\n{v2}\" for v1, v2 in\n",
    "          zip(group_names,group_counts)]\n",
    "labels = np.asarray(labels).reshape(2,2)\n",
    "sns.heatmap(NB_cm,annot=labels,fmt='')\n",
    "plt.title('Gaussian Naive Bayes')\n",
    "plt.ylabel('True label',fontweight='bold')\n",
    "plt.xlabel('Predicted label',fontweight='bold')\n",
    "plt.savefig('C:/Users/kayle/Desktop/GaussianNB_confmatrix',dpi=300,bbox_inches='tight', transparent=True)"
   ]
  },
  {
   "cell_type": "code",
   "execution_count": 37,
   "id": "distant-special",
   "metadata": {},
   "outputs": [
    {
     "data": {
      "text/plain": [
       "(array([0, 1], dtype=int64), array([90, 53], dtype=int64))"
      ]
     },
     "execution_count": 37,
     "metadata": {},
     "output_type": "execute_result"
    }
   ],
   "source": [
    "# get prediction for X_val\n",
    "new_output = NB.predict(X_val)\n",
    "np.unique(new_output,return_counts=True)"
   ]
  },
  {
   "cell_type": "code",
   "execution_count": 38,
   "id": "aging-parade",
   "metadata": {},
   "outputs": [
    {
     "data": {
      "text/plain": [
       "(array([0, 1], dtype=int64), array([83, 60], dtype=int64))"
      ]
     },
     "execution_count": 38,
     "metadata": {},
     "output_type": "execute_result"
    }
   ],
   "source": [
    "np.unique(y_val,return_counts=True)"
   ]
  },
  {
   "cell_type": "code",
   "execution_count": 39,
   "id": "static-protein",
   "metadata": {},
   "outputs": [
    {
     "name": "stdout",
     "output_type": "stream",
     "text": [
      "Fitting 3 folds for each of 10 candidates, totalling 30 fits\n",
      "[CV] var_smoothing=2.848035868435799e-08 .............................\n",
      "[CV] .............. var_smoothing=2.848035868435799e-08, total=   0.0s\n",
      "[CV] var_smoothing=2.848035868435799e-08 .............................\n",
      "[CV] .............. var_smoothing=2.848035868435799e-08, total=   0.0s\n",
      "[CV] var_smoothing=2.848035868435799e-08 .............................\n",
      "[CV] .............. var_smoothing=2.848035868435799e-08, total=   0.0s\n",
      "[CV] var_smoothing=1.5199110829529332e-05 ............................\n",
      "[CV] ............. var_smoothing=1.5199110829529332e-05, total=   0.0s\n",
      "[CV] var_smoothing=1.5199110829529332e-05 ............................\n",
      "[CV] ............. var_smoothing=1.5199110829529332e-05, total=   0.0s\n",
      "[CV] var_smoothing=1.5199110829529332e-05 ............................\n",
      "[CV] ............. var_smoothing=1.5199110829529332e-05, total=   0.0s\n",
      "[CV] var_smoothing=4.3287612810830526e-07 ............................\n",
      "[CV] ............. var_smoothing=4.3287612810830526e-07, total=   0.0s\n",
      "[CV] var_smoothing=4.3287612810830526e-07 ............................\n",
      "[CV] ............. var_smoothing=4.3287612810830526e-07, total=   0.0s\n",
      "[CV] var_smoothing=4.3287612810830526e-07 ............................\n",
      "[CV] ............. var_smoothing=4.3287612810830526e-07, total=   0.0s\n",
      "[CV] var_smoothing=8.111308307896872e-05 .............................\n",
      "[CV] .............. var_smoothing=8.111308307896872e-05, total=   0.0s\n",
      "[CV] var_smoothing=8.111308307896872e-05 .............................\n",
      "[CV] .............. var_smoothing=8.111308307896872e-05, total=   0.0s\n",
      "[CV] var_smoothing=8.111308307896872e-05 .............................\n",
      "[CV] .............. var_smoothing=8.111308307896872e-05, total=   0.0s\n",
      "[CV] var_smoothing=0.0001 ............................................\n",
      "[CV] ............................. var_smoothing=0.0001, total=   0.0s\n",
      "[CV] var_smoothing=0.0001 ............................................\n",
      "[CV] ............................. var_smoothing=0.0001, total=   0.0s\n",
      "[CV] var_smoothing=0.0001 ............................................\n",
      "[CV] ............................. var_smoothing=0.0001, total=   0.0s\n",
      "[CV] var_smoothing=0.0002848035868435802 .............................\n",
      "[CV] .............. var_smoothing=0.0002848035868435802, total=   0.0s\n",
      "[CV] var_smoothing=0.0002848035868435802 .............................\n",
      "[CV] .............. var_smoothing=0.0002848035868435802, total=   0.0s\n",
      "[CV] var_smoothing=0.0002848035868435802 .............................\n",
      "[CV] .............. var_smoothing=0.0002848035868435802, total=   0.0s\n",
      "[CV] var_smoothing=0.01 ..............................................\n",
      "[CV] ............................... var_smoothing=0.01, total=   0.0s\n",
      "[CV] var_smoothing=0.01 ..............................................\n",
      "[CV] ............................... var_smoothing=0.01, total=   0.0s\n",
      "[CV] var_smoothing=0.01 ..............................................\n",
      "[CV] ............................... var_smoothing=0.01, total=   0.0s\n",
      "[CV] var_smoothing=5.336699231206302e-08 .............................\n",
      "[CV] .............. var_smoothing=5.336699231206302e-08, total=   0.0s\n",
      "[CV] var_smoothing=5.336699231206302e-08 .............................\n",
      "[CV] .............. var_smoothing=5.336699231206302e-08, total=   0.0s\n",
      "[CV] var_smoothing=5.336699231206302e-08 .............................\n",
      "[CV] .............. var_smoothing=5.336699231206302e-08, total=   0.0s\n",
      "[CV] var_smoothing=0.12328467394420659 ...............................\n",
      "[CV] ................ var_smoothing=0.12328467394420659, total=   0.0s\n",
      "[CV] var_smoothing=0.12328467394420659 ...............................\n",
      "[CV] ................ var_smoothing=0.12328467394420659, total=   0.0s\n",
      "[CV] var_smoothing=0.12328467394420659 ...............................\n",
      "[CV] ................ var_smoothing=0.12328467394420659, total=   0.0s\n",
      "[CV] var_smoothing=1.0 ...............................................\n",
      "[CV] ................................ var_smoothing=1.0, total=   0.0s\n",
      "[CV] var_smoothing=1.0 ...............................................\n",
      "[CV] ................................ var_smoothing=1.0, total=   0.0s\n",
      "[CV] var_smoothing=1.0 ...............................................\n",
      "[CV] ................................ var_smoothing=1.0, total=   0.0s\n"
     ]
    },
    {
     "name": "stderr",
     "output_type": "stream",
     "text": [
      "[Parallel(n_jobs=1)]: Using backend SequentialBackend with 1 concurrent workers.\n",
      "[Parallel(n_jobs=1)]: Done   1 out of   1 | elapsed:    0.0s remaining:    0.0s\n",
      "[Parallel(n_jobs=1)]: Done  30 out of  30 | elapsed:    0.0s finished\n"
     ]
    },
    {
     "data": {
      "text/plain": [
       "{'var_smoothing': 0.12328467394420659}"
      ]
     },
     "execution_count": 39,
     "metadata": {},
     "output_type": "execute_result"
    }
   ],
   "source": [
    "#Hyperparameter Tuning for Gaussian Naive Bayes\n",
    "params_NB = {'var_smoothing': np.logspace(0,-9, num=100)}\n",
    "NB = GaussianNB()\n",
    "NB_ran = RandomizedSearchCV(NB, param_distributions=params_NB, \n",
    "                            verbose=2, cv=3, random_state=42, n_iter=10, scoring='accuracy')\n",
    "NB_ran.fit(X_train, y_train)\n",
    "NB_ran.best_params_"
   ]
  },
  {
   "cell_type": "markdown",
   "id": "amber-yahoo",
   "metadata": {},
   "source": [
    "# K - Nearest Neighbors"
   ]
  },
  {
   "cell_type": "code",
   "execution_count": 40,
   "id": "agreed-blend",
   "metadata": {},
   "outputs": [
    {
     "name": "stdout",
     "output_type": "stream",
     "text": [
      "              precision    recall  f1-score   support\n",
      "\n",
      "           0       0.88      0.91      0.89        88\n",
      "           1       0.85      0.80      0.82        55\n",
      "\n",
      "    accuracy                           0.87       143\n",
      "   macro avg       0.86      0.85      0.86       143\n",
      "weighted avg       0.87      0.87      0.87       143\n",
      "\n"
     ]
    }
   ],
   "source": [
    "X= data.drop(columns=['Class']).values\n",
    "Y = data['Class'].values\n",
    "scale= StandardScaler()\n",
    "X = scale.fit_transform(X) \n",
    "\n",
    "# 20% test 80% training data             \n",
    "X_train, X_test, y_train, y_test, = train_test_split(X, Y, test_size=0.2,random_state = 42)\n",
    "\n",
    "                                                    # 0.25 x 0.8 = 0.2 for validation data\n",
    "X_train, X_val, y_train, y_val, = train_test_split(X_train, y_train, test_size=0.25, random_state = 42) \n",
    "\n",
    "KNN = KNeighborsClassifier(metric= 'euclidean', n_neighbors= 13, weights='uniform')  \n",
    "KNN.fit(X_train, y_train)\n",
    "\n",
    "KNN_pred = pd.DataFrame(KNN.predict(X_test))\n",
    "\n",
    "print(metrics.classification_report(y_test, KNN_pred))   #K-NearestNeighbors"
   ]
  },
  {
   "cell_type": "code",
   "execution_count": 41,
   "id": "juvenile-harvest",
   "metadata": {},
   "outputs": [
    {
     "data": {
      "image/png": "[encoded data removed]",
      "text/plain": [
       "<Figure size 432x288 with 2 Axes>"
      ]
     },
     "metadata": {},
     "output_type": "display_data"
    }
   ],
   "source": [
    "KNN_cm = confusion_matrix(y_test, KNN_pred)\n",
    "group_names = ['TN','FP','FN','TP']\n",
    "group_counts = [\"{0:0.0f}\".format(value) for value in\n",
    "                KNN_cm.flatten()]\n",
    "labels = [f\"{v1}\\n{v2}\" for v1, v2 in\n",
    "          zip(group_names,group_counts)]\n",
    "labels = np.asarray(labels).reshape(2,2)\n",
    "sns.heatmap(KNN_cm, annot=labels, fmt='')\n",
    "plt.title('K-Nearest Neighbors')\n",
    "plt.ylabel('True label',fontweight='bold')\n",
    "plt.xlabel('Predicted label',fontweight='bold')\n",
    "plt.savefig('C:/Users/kayle/Desktop/KNN_confmatrix',dpi=300,bbox_inches='tight', transparent=True)"
   ]
  },
  {
   "cell_type": "code",
   "execution_count": 42,
   "id": "convinced-blame",
   "metadata": {},
   "outputs": [
    {
     "data": {
      "text/plain": [
       "(array([0, 1], dtype=int64), array([87, 56], dtype=int64))"
      ]
     },
     "execution_count": 42,
     "metadata": {},
     "output_type": "execute_result"
    }
   ],
   "source": [
    "# get prediction for X_val\n",
    "new_output = KNN.predict(X_val)\n",
    "np.unique(new_output,return_counts=True)"
   ]
  },
  {
   "cell_type": "code",
   "execution_count": 43,
   "id": "sensitive-encyclopedia",
   "metadata": {},
   "outputs": [
    {
     "data": {
      "text/plain": [
       "(array([0, 1], dtype=int64), array([83, 60], dtype=int64))"
      ]
     },
     "execution_count": 43,
     "metadata": {},
     "output_type": "execute_result"
    }
   ],
   "source": [
    "np.unique(y_val,return_counts=True)"
   ]
  },
  {
   "cell_type": "code",
   "execution_count": 44,
   "id": "vanilla-journalist",
   "metadata": {},
   "outputs": [
    {
     "data": {
      "text/plain": [
       "(array([0, 1], dtype=int64), array([428, 285], dtype=int64))"
      ]
     },
     "execution_count": 44,
     "metadata": {},
     "output_type": "execute_result"
    }
   ],
   "source": [
    "# define input\n",
    "new_input =  X # original dataset\n",
    "# get prediction for new input\n",
    "new_output = KNN.predict(new_input)\n",
    "np.unique(new_output,return_counts=True)"
   ]
  },
  {
   "cell_type": "code",
   "execution_count": 45,
   "id": "signal-annotation",
   "metadata": {},
   "outputs": [
    {
     "data": {
      "text/plain": [
       "0    421\n",
       "1    292\n",
       "Name: Class, dtype: int64"
      ]
     },
     "execution_count": 45,
     "metadata": {},
     "output_type": "execute_result"
    }
   ],
   "source": [
    "data.Class.value_counts()"
   ]
  },
  {
   "cell_type": "code",
   "execution_count": 46,
   "id": "whole-kuwait",
   "metadata": {},
   "outputs": [
    {
     "name": "stdout",
     "output_type": "stream",
     "text": [
      "Best: 0.826532 using {'metric': 'euclidean', 'n_neighbors': 13, 'weights': 'uniform'}\n",
      "0.787722 (0.048538) with: {'metric': 'euclidean', 'n_neighbors': 1, 'weights': 'uniform'}\n",
      "0.787722 (0.048538) with: {'metric': 'euclidean', 'n_neighbors': 1, 'weights': 'distance'}\n",
      "0.807838 (0.041734) with: {'metric': 'euclidean', 'n_neighbors': 3, 'weights': 'uniform'}\n",
      "0.801311 (0.043550) with: {'metric': 'euclidean', 'n_neighbors': 3, 'weights': 'distance'}\n",
      "0.819034 (0.034370) with: {'metric': 'euclidean', 'n_neighbors': 5, 'weights': 'uniform'}\n",
      "0.819999 (0.037378) with: {'metric': 'euclidean', 'n_neighbors': 5, 'weights': 'distance'}\n",
      "0.821844 (0.035773) with: {'metric': 'euclidean', 'n_neighbors': 7, 'weights': 'uniform'}\n",
      "0.817195 (0.035792) with: {'metric': 'euclidean', 'n_neighbors': 7, 'weights': 'distance'}\n",
      "0.819986 (0.037187) with: {'metric': 'euclidean', 'n_neighbors': 9, 'weights': 'uniform'}\n",
      "0.822359 (0.035463) with: {'metric': 'euclidean', 'n_neighbors': 9, 'weights': 'distance'}\n",
      "0.823266 (0.040771) with: {'metric': 'euclidean', 'n_neighbors': 11, 'weights': 'uniform'}\n",
      "0.821407 (0.038938) with: {'metric': 'euclidean', 'n_neighbors': 11, 'weights': 'distance'}\n",
      "0.826532 (0.040384) with: {'metric': 'euclidean', 'n_neighbors': 13, 'weights': 'uniform'}\n",
      "0.825150 (0.042630) with: {'metric': 'euclidean', 'n_neighbors': 13, 'weights': 'distance'}\n",
      "0.819484 (0.043216) with: {'metric': 'euclidean', 'n_neighbors': 15, 'weights': 'uniform'}\n",
      "0.822314 (0.041140) with: {'metric': 'euclidean', 'n_neighbors': 15, 'weights': 'distance'}\n",
      "0.815760 (0.035132) with: {'metric': 'euclidean', 'n_neighbors': 17, 'weights': 'uniform'}\n",
      "0.824204 (0.038462) with: {'metric': 'euclidean', 'n_neighbors': 17, 'weights': 'distance'}\n",
      "0.817638 (0.038903) with: {'metric': 'euclidean', 'n_neighbors': 19, 'weights': 'uniform'}\n",
      "0.821375 (0.044463) with: {'metric': 'euclidean', 'n_neighbors': 19, 'weights': 'distance'}\n",
      "0.780249 (0.049488) with: {'metric': 'manhattan', 'n_neighbors': 1, 'weights': 'uniform'}\n",
      "0.780249 (0.049488) with: {'metric': 'manhattan', 'n_neighbors': 1, 'weights': 'distance'}\n",
      "0.805490 (0.043586) with: {'metric': 'manhattan', 'n_neighbors': 3, 'weights': 'uniform'}\n",
      "0.803645 (0.044465) with: {'metric': 'manhattan', 'n_neighbors': 3, 'weights': 'distance'}\n",
      "0.814815 (0.034485) with: {'metric': 'manhattan', 'n_neighbors': 5, 'weights': 'uniform'}\n",
      "0.812976 (0.038565) with: {'metric': 'manhattan', 'n_neighbors': 5, 'weights': 'distance'}\n",
      "0.822307 (0.039333) with: {'metric': 'manhattan', 'n_neighbors': 7, 'weights': 'uniform'}\n",
      "0.822796 (0.039198) with: {'metric': 'manhattan', 'n_neighbors': 7, 'weights': 'distance'}\n",
      "0.823259 (0.040645) with: {'metric': 'manhattan', 'n_neighbors': 9, 'weights': 'uniform'}\n",
      "0.821877 (0.041508) with: {'metric': 'manhattan', 'n_neighbors': 9, 'weights': 'distance'}\n",
      "0.821394 (0.039046) with: {'metric': 'manhattan', 'n_neighbors': 11, 'weights': 'uniform'}\n",
      "0.823285 (0.042121) with: {'metric': 'manhattan', 'n_neighbors': 11, 'weights': 'distance'}\n",
      "0.826037 (0.045249) with: {'metric': 'manhattan', 'n_neighbors': 13, 'weights': 'uniform'}\n",
      "0.823715 (0.038740) with: {'metric': 'manhattan', 'n_neighbors': 13, 'weights': 'distance'}\n",
      "0.820899 (0.041470) with: {'metric': 'manhattan', 'n_neighbors': 15, 'weights': 'uniform'}\n",
      "0.821375 (0.042312) with: {'metric': 'manhattan', 'n_neighbors': 15, 'weights': 'distance'}\n",
      "0.818114 (0.035622) with: {'metric': 'manhattan', 'n_neighbors': 17, 'weights': 'uniform'}\n",
      "0.822333 (0.044506) with: {'metric': 'manhattan', 'n_neighbors': 17, 'weights': 'distance'}\n",
      "0.819986 (0.038089) with: {'metric': 'manhattan', 'n_neighbors': 19, 'weights': 'uniform'}\n",
      "0.820012 (0.043008) with: {'metric': 'manhattan', 'n_neighbors': 19, 'weights': 'distance'}\n",
      "0.787722 (0.048538) with: {'metric': 'minkowski', 'n_neighbors': 1, 'weights': 'uniform'}\n",
      "0.787722 (0.048538) with: {'metric': 'minkowski', 'n_neighbors': 1, 'weights': 'distance'}\n",
      "0.807838 (0.041734) with: {'metric': 'minkowski', 'n_neighbors': 3, 'weights': 'uniform'}\n",
      "0.801311 (0.043550) with: {'metric': 'minkowski', 'n_neighbors': 3, 'weights': 'distance'}\n",
      "0.819034 (0.034370) with: {'metric': 'minkowski', 'n_neighbors': 5, 'weights': 'uniform'}\n",
      "0.819999 (0.037378) with: {'metric': 'minkowski', 'n_neighbors': 5, 'weights': 'distance'}\n",
      "0.821844 (0.035773) with: {'metric': 'minkowski', 'n_neighbors': 7, 'weights': 'uniform'}\n",
      "0.817195 (0.035792) with: {'metric': 'minkowski', 'n_neighbors': 7, 'weights': 'distance'}\n",
      "0.819986 (0.037187) with: {'metric': 'minkowski', 'n_neighbors': 9, 'weights': 'uniform'}\n",
      "0.822359 (0.035463) with: {'metric': 'minkowski', 'n_neighbors': 9, 'weights': 'distance'}\n",
      "0.823266 (0.040771) with: {'metric': 'minkowski', 'n_neighbors': 11, 'weights': 'uniform'}\n",
      "0.821407 (0.038938) with: {'metric': 'minkowski', 'n_neighbors': 11, 'weights': 'distance'}\n",
      "0.826532 (0.040384) with: {'metric': 'minkowski', 'n_neighbors': 13, 'weights': 'uniform'}\n",
      "0.825150 (0.042630) with: {'metric': 'minkowski', 'n_neighbors': 13, 'weights': 'distance'}\n",
      "0.819484 (0.043216) with: {'metric': 'minkowski', 'n_neighbors': 15, 'weights': 'uniform'}\n",
      "0.822314 (0.041140) with: {'metric': 'minkowski', 'n_neighbors': 15, 'weights': 'distance'}\n",
      "0.815760 (0.035132) with: {'metric': 'minkowski', 'n_neighbors': 17, 'weights': 'uniform'}\n",
      "0.824204 (0.038462) with: {'metric': 'minkowski', 'n_neighbors': 17, 'weights': 'distance'}\n",
      "0.817638 (0.038903) with: {'metric': 'minkowski', 'n_neighbors': 19, 'weights': 'uniform'}\n",
      "0.821375 (0.044463) with: {'metric': 'minkowski', 'n_neighbors': 19, 'weights': 'distance'}\n"
     ]
    }
   ],
   "source": [
    "#Hyperparameter Tuning for KNN\n",
    "n_neighbors = range(1, 21, 2)\n",
    "weights = ['uniform', 'distance']\n",
    "metric = ['euclidean', 'manhattan', 'minkowski']\n",
    "# define grid search\n",
    "grid = dict(n_neighbors=n_neighbors,weights=weights,metric=metric)\n",
    "cv = RepeatedStratifiedKFold(n_splits=10, n_repeats=3, random_state=42)\n",
    "grid_search = GridSearchCV(estimator=KNN, param_grid=grid, n_jobs=-1, cv=cv, scoring='accuracy',error_score=0)\n",
    "grid_result = grid_search.fit(X, Y)\n",
    "# summarize results\n",
    "print(\"Best: %f using %s\" % (grid_result.best_score_, grid_result.best_params_))\n",
    "means = grid_result.cv_results_['mean_test_score']\n",
    "stds = grid_result.cv_results_['std_test_score']\n",
    "params = grid_result.cv_results_['params']\n",
    "for mean, stdev, param in zip(means, stds, params):\n",
    "    print(\"%f (%f) with: %r\" % (mean, stdev, param))"
   ]
  },
  {
   "cell_type": "markdown",
   "id": "cardiac-recommendation",
   "metadata": {},
   "source": [
    "# Random Forest"
   ]
  },
  {
   "cell_type": "code",
   "execution_count": 47,
   "id": "saved-packet",
   "metadata": {},
   "outputs": [
    {
     "name": "stdout",
     "output_type": "stream",
     "text": [
      "              precision    recall  f1-score   support\n",
      "\n",
      "           0       0.85      0.88      0.87        78\n",
      "           1       0.85      0.82      0.83        65\n",
      "\n",
      "    accuracy                           0.85       143\n",
      "   macro avg       0.85      0.85      0.85       143\n",
      "weighted avg       0.85      0.85      0.85       143\n",
      "\n"
     ]
    }
   ],
   "source": [
    "X= data.drop(columns=['Class']).values\n",
    "Y = data['Class'].values\n",
    "scale= StandardScaler()\n",
    "X = scale.fit_transform(X) \n",
    "\n",
    "# 20% test 80% training data             \n",
    "X_train, X_test, y_train, y_test, = train_test_split(X, Y, test_size=0.2,random_state = 16)\n",
    "                                                    # 0.25 x 0.8 = 0.2 for validation data\n",
    "X_train, X_val, y_train, y_val, = train_test_split(X_train, y_train, test_size=0.25, random_state = 42) \n",
    "\n",
    "#Create a RandomForest Classifier\n",
    "RF = RandomForestClassifier(max_features = 'sqrt', n_estimators = 100)                      \n",
    "\n",
    "#Train the model using the training sets y_pred=clf.predict(X_test)\n",
    "RF.fit(X_train,y_train)\n",
    "\n",
    "RF_pred = RF.predict(X_test) \n",
    "\n",
    "print(metrics.classification_report(y_test, RF_pred))   #Random Forest"
   ]
  },
  {
   "cell_type": "code",
   "execution_count": 48,
   "id": "sporting-creek",
   "metadata": {},
   "outputs": [
    {
     "data": {
      "image/png": "[encoded data removed]",
      "text/plain": [
       "<Figure size 432x288 with 2 Axes>"
      ]
     },
     "metadata": {},
     "output_type": "display_data"
    }
   ],
   "source": [
    "RF_cm = confusion_matrix(y_test, RF_pred)\n",
    "\n",
    "group_names = ['TN','FP','FN','TP']\n",
    "group_counts = [\"{0:0.0f}\".format(value) for value in\n",
    "                RF_cm.flatten()]\n",
    "labels = [f\"{v1}\\n{v2}\" for v1, v2 in\n",
    "          zip(group_names,group_counts)]\n",
    "labels = np.asarray(labels).reshape(2,2)\n",
    "sns.heatmap(RF_cm,annot=labels,fmt='')\n",
    "plt.title('RandomForest')\n",
    "plt.ylabel('True label',fontweight='bold')\n",
    "plt.xlabel('Predicted label',fontweight='bold')\n",
    "\n",
    "plt.savefig('C:/Users/kayle/Desktop/RF_confmatrix',dpi=300,bbox_inches='tight', transparent=True)"
   ]
  },
  {
   "cell_type": "code",
   "execution_count": 49,
   "id": "medium-special",
   "metadata": {},
   "outputs": [
    {
     "data": {
      "text/plain": [
       "(array([0, 1], dtype=int64), array([89, 54], dtype=int64))"
      ]
     },
     "execution_count": 49,
     "metadata": {},
     "output_type": "execute_result"
    }
   ],
   "source": [
    "# get prediction for X_val\n",
    "new_output = RF.predict(X_val)\n",
    "np.unique(new_output,return_counts=True)"
   ]
  },
  {
   "cell_type": "code",
   "execution_count": 50,
   "id": "waiting-little",
   "metadata": {},
   "outputs": [
    {
     "data": {
      "text/plain": [
       "(array([0, 1], dtype=int64), array([86, 57], dtype=int64))"
      ]
     },
     "execution_count": 50,
     "metadata": {},
     "output_type": "execute_result"
    }
   ],
   "source": [
    "np.unique(y_val,return_counts=True)"
   ]
  },
  {
   "cell_type": "code",
   "execution_count": 51,
   "id": "varying-finland",
   "metadata": {},
   "outputs": [
    {
     "name": "stdout",
     "output_type": "stream",
     "text": [
      "Best: 0.820449 using {'max_features': 'sqrt', 'n_estimators': 1000}\n",
      "0.817664 (0.037553) with: {'max_features': 'sqrt', 'n_estimators': 10}\n",
      "0.819510 (0.039645) with: {'max_features': 'sqrt', 'n_estimators': 100}\n",
      "0.820449 (0.038427) with: {'max_features': 'sqrt', 'n_estimators': 1000}\n",
      "0.810674 (0.042230) with: {'max_features': 'log2', 'n_estimators': 10}\n",
      "0.819497 (0.038061) with: {'max_features': 'log2', 'n_estimators': 100}\n",
      "0.819973 (0.039435) with: {'max_features': 'log2', 'n_estimators': 1000}\n"
     ]
    }
   ],
   "source": [
    "#Hyperparameter Tuning for RF\n",
    "# define parameters\n",
    "n_estimators = [10, 100, 1000]\n",
    "max_features = ['sqrt', 'log2']\n",
    "# define models and parameters\n",
    "model = RandomForestClassifier()\n",
    "n_estimators = [10, 100, 1000]\n",
    "max_features = ['sqrt', 'log2']\n",
    "# define grid search\n",
    "grid = dict(n_estimators=n_estimators,max_features=max_features)\n",
    "cv = RepeatedStratifiedKFold(n_splits=10, n_repeats=3, random_state=1)\n",
    "grid_search = GridSearchCV(estimator=model, param_grid=grid, n_jobs=-1, cv=cv, scoring='accuracy',error_score=0)\n",
    "grid_result = grid_search.fit(X, Y)\n",
    "# summarize results\n",
    "print(\"Best: %f using %s\" % (grid_result.best_score_, grid_result.best_params_))\n",
    "means = grid_result.cv_results_['mean_test_score']\n",
    "stds = grid_result.cv_results_['std_test_score']\n",
    "params = grid_result.cv_results_['params']\n",
    "for mean, stdev, param in zip(means, stds, params):\n",
    "    print(\"%f (%f) with: %r\" % (mean, stdev, param))"
   ]
  },
  {
   "cell_type": "markdown",
   "id": "secret-flash",
   "metadata": {},
   "source": [
    "# Suport Vector Machine"
   ]
  },
  {
   "cell_type": "code",
   "execution_count": 52,
   "id": "terminal-patch",
   "metadata": {},
   "outputs": [
    {
     "name": "stdout",
     "output_type": "stream",
     "text": [
      "              precision    recall  f1-score   support\n",
      "\n",
      "           0       0.88      0.92      0.90        88\n",
      "           1       0.86      0.80      0.83        55\n",
      "\n",
      "    accuracy                           0.87       143\n",
      "   macro avg       0.87      0.86      0.87       143\n",
      "weighted avg       0.87      0.87      0.87       143\n",
      "\n"
     ]
    }
   ],
   "source": [
    "X= data.drop(columns=['Class']).values\n",
    "Y = data['Class'].values\n",
    "scale= StandardScaler()\n",
    "X = scale.fit_transform(X) \n",
    "\n",
    "# 20% test 80% training data             \n",
    "X_train, X_test, y_train, y_test, = train_test_split(X, Y, test_size=0.2,random_state = 42)\n",
    "\n",
    "                                                                # 0.25 x 0.8 = 0.2 for validation data\n",
    "X_train, X_val, y_train, y_val, = train_test_split(X_train, y_train, test_size=0.25, random_state = 42) \n",
    "\n",
    "#X_train, X_test, y_train, y_test = train_test_split(X, Y, test_size = 0.25)\n",
    "\n",
    "# Fitting Kernel SVM to the Training set                            \n",
    "SVM = SVC(C= 10, gamma= 'scale', kernel= 'rbf')\n",
    "SVM.fit(X_train,y_train)\n",
    "\n",
    "#Predicting the Test Set\n",
    "SVM_pred = SVM.predict(X_test)\n",
    "print(classification_report(y_test, SVM_pred))"
   ]
  },
  {
   "cell_type": "code",
   "execution_count": 53,
   "id": "desperate-failure",
   "metadata": {},
   "outputs": [
    {
     "data": {
      "image/png": "[encoded data removed]",
      "text/plain": [
       "<Figure size 432x288 with 2 Axes>"
      ]
     },
     "metadata": {},
     "output_type": "display_data"
    }
   ],
   "source": [
    "#making confusing matrix\n",
    "SVM_cm = confusion_matrix(y_test, SVM_pred)\n",
    "group_names = ['TN','FP','FN','TP']\n",
    "group_counts = [\"{0:0.0f}\".format(value) for value in\n",
    "                SVM_cm.flatten()]\n",
    "labels = [f\"{v1}\\n{v2}\" for v1, v2 in\n",
    "          zip(group_names,group_counts)]\n",
    "labels = np.asarray(labels).reshape(2,2)\n",
    "sns.heatmap(SVM_cm,annot=labels,fmt='')\n",
    "plt.title('Support Vector Machine')\n",
    "plt.ylabel('True label',fontweight='bold')\n",
    "plt.xlabel('Predicted label',fontweight='bold')\n",
    "plt.savefig('C:/Users/kayle/Desktop/SVM_confmatrix',dpi=300,bbox_inches='tight', transparent=True)"
   ]
  },
  {
   "cell_type": "code",
   "execution_count": 54,
   "id": "intended-vampire",
   "metadata": {},
   "outputs": [
    {
     "data": {
      "text/plain": [
       "(array([0, 1], dtype=int64), array([87, 56], dtype=int64))"
      ]
     },
     "execution_count": 54,
     "metadata": {},
     "output_type": "execute_result"
    }
   ],
   "source": [
    "# get prediction for X_val\n",
    "new_output = SVM.predict(X_val)\n",
    "np.unique(new_output,return_counts=True)"
   ]
  },
  {
   "cell_type": "code",
   "execution_count": 55,
   "id": "lonely-export",
   "metadata": {},
   "outputs": [
    {
     "data": {
      "text/plain": [
       "(array([0, 1], dtype=int64), array([83, 60], dtype=int64))"
      ]
     },
     "execution_count": 55,
     "metadata": {},
     "output_type": "execute_result"
    }
   ],
   "source": [
    "np.unique(y_val,return_counts=True)"
   ]
  },
  {
   "cell_type": "code",
   "execution_count": 56,
   "id": "studied-integer",
   "metadata": {},
   "outputs": [
    {
     "name": "stdout",
     "output_type": "stream",
     "text": [
      "Best: 0.828423 using {'C': 10, 'gamma': 'scale', 'kernel': 'rbf'}\n",
      "0.810674 (0.036218) with: {'C': 50, 'gamma': 'scale', 'kernel': 'poly'}\n",
      "0.825143 (0.036883) with: {'C': 50, 'gamma': 'scale', 'kernel': 'rbf'}\n",
      "0.670820 (0.043104) with: {'C': 50, 'gamma': 'scale', 'kernel': 'sigmoid'}\n",
      "0.811613 (0.035663) with: {'C': 10, 'gamma': 'scale', 'kernel': 'poly'}\n",
      "0.828423 (0.034620) with: {'C': 10, 'gamma': 'scale', 'kernel': 'rbf'}\n",
      "0.673611 (0.043090) with: {'C': 10, 'gamma': 'scale', 'kernel': 'sigmoid'}\n",
      "0.817671 (0.033357) with: {'C': 1.0, 'gamma': 'scale', 'kernel': 'poly'}\n",
      "0.821407 (0.036067) with: {'C': 1.0, 'gamma': 'scale', 'kernel': 'rbf'}\n",
      "0.663354 (0.043328) with: {'C': 1.0, 'gamma': 'scale', 'kernel': 'sigmoid'}\n",
      "0.813961 (0.039082) with: {'C': 0.1, 'gamma': 'scale', 'kernel': 'poly'}\n",
      "0.824211 (0.036921) with: {'C': 0.1, 'gamma': 'scale', 'kernel': 'rbf'}\n",
      "0.744660 (0.045343) with: {'C': 0.1, 'gamma': 'scale', 'kernel': 'sigmoid'}\n",
      "0.762983 (0.033112) with: {'C': 0.01, 'gamma': 'scale', 'kernel': 'poly'}\n",
      "0.714411 (0.031215) with: {'C': 0.01, 'gamma': 'scale', 'kernel': 'rbf'}\n",
      "0.764326 (0.038466) with: {'C': 0.01, 'gamma': 'scale', 'kernel': 'sigmoid'}\n"
     ]
    }
   ],
   "source": [
    "#Hyperparameter Tuning for SVM\n",
    "# define model and parameters\n",
    "model = SVC()\n",
    "kernel = ['poly', 'rbf', 'sigmoid']\n",
    "C = [50, 10, 1.0, 0.1, 0.01]\n",
    "gamma = ['scale']\n",
    "# define grid search\n",
    "grid = dict(kernel=kernel,C=C,gamma=gamma)\n",
    "cv = RepeatedStratifiedKFold(n_splits=10, n_repeats=3, random_state=1)\n",
    "grid_search = GridSearchCV(estimator=model, param_grid=grid, n_jobs=-1, cv=cv, scoring='accuracy',error_score=0)\n",
    "grid_result = grid_search.fit(X, Y)\n",
    "# summarize results\n",
    "print(\"Best: %f using %s\" % (grid_result.best_score_, grid_result.best_params_))\n",
    "means = grid_result.cv_results_['mean_test_score']\n",
    "stds = grid_result.cv_results_['std_test_score']\n",
    "params = grid_result.cv_results_['params']\n",
    "for mean, stdev, param in zip(means, stds, params):\n",
    "    print(\"%f (%f) with: %r\" % (mean, stdev, param))"
   ]
  },
  {
   "cell_type": "markdown",
   "id": "saving-current",
   "metadata": {},
   "source": [
    "# Neural Networks"
   ]
  },
  {
   "cell_type": "code",
   "execution_count": 57,
   "id": "amino-antigua",
   "metadata": {},
   "outputs": [],
   "source": [
    "from sklearn.neural_network import MLPClassifier\n",
    "X= data.drop(columns=['Class']).values\n",
    "Y = data['Class'].values\n",
    "scale= StandardScaler()\n",
    "X = scale.fit_transform(X) \n",
    "\n",
    "# 20% test 80% training data             \n",
    "X_train, X_test, y_train, y_test, = train_test_split(X, Y, test_size=0.2,random_state = 42)\n",
    "\n",
    "                                                                # 0.25 x 0.8 = 0.2 for validation data\n",
    "X_train, X_val, y_train, y_val, = train_test_split(X_train, y_train, test_size=0.25, random_state = 42) \n",
    "\n",
    "mlp = MLPClassifier(hidden_layer_sizes=(8,8,8), activation='relu', solver='adam', max_iter=500)\n",
    "#mpl = MLPClassifier(activation= 'tanh', alpha= 0.0001, hidden_layer_sizes= (20,), learning_rate= 'adaptive', solver= 'sgd')\n",
    "mlp.fit(X_train,y_train)\n",
    "\n",
    "NN_pred_train = mlp.predict(X_train)\n",
    "NN_pred_test = mlp.predict(X_test)"
   ]
  },
  {
   "cell_type": "code",
   "execution_count": 58,
   "id": "printable-design",
   "metadata": {},
   "outputs": [
    {
     "name": "stdout",
     "output_type": "stream",
     "text": [
      "              precision    recall  f1-score   support\n",
      "\n",
      "           0       0.87      0.97      0.91        88\n",
      "           1       0.93      0.76      0.84        55\n",
      "\n",
      "    accuracy                           0.89       143\n",
      "   macro avg       0.90      0.86      0.88       143\n",
      "weighted avg       0.89      0.89      0.89       143\n",
      "\n"
     ]
    }
   ],
   "source": [
    "print(classification_report(y_test,NN_pred_test))"
   ]
  },
  {
   "cell_type": "code",
   "execution_count": 59,
   "id": "horizontal-spectacular",
   "metadata": {},
   "outputs": [
    {
     "data": {
      "image/png": "[encoded data removed]",
      "text/plain": [
       "<Figure size 432x288 with 2 Axes>"
      ]
     },
     "metadata": {},
     "output_type": "display_data"
    }
   ],
   "source": [
    "#making confusing matrix\n",
    "NN_cm = confusion_matrix(y_test, NN_pred_test)\n",
    "group_names = ['TN','FP','FN','TP']\n",
    "group_counts = [\"{0:0.0f}\".format(value) for value in\n",
    "                NN_cm.flatten()]\n",
    "labels = [f\"{v1}\\n{v2}\" for v1, v2 in\n",
    "          zip(group_names,group_counts)]\n",
    "labels = np.asarray(labels).reshape(2,2)\n",
    "sns.heatmap(NN_cm,annot=labels,fmt='')\n",
    "plt.title('Neural Networks')\n",
    "plt.ylabel('True label',fontweight='bold')\n",
    "plt.xlabel('Predicted label',fontweight='bold')\n",
    "plt.savefig('C:/Users/kayle/Desktop/NN_confmatrix',dpi=300,bbox_inches='tight', transparent=True)"
   ]
  },
  {
   "cell_type": "code",
   "execution_count": 60,
   "id": "meaning-original",
   "metadata": {},
   "outputs": [
    {
     "data": {
      "text/plain": [
       "(array([0, 1], dtype=int64), array([94, 49], dtype=int64))"
      ]
     },
     "execution_count": 60,
     "metadata": {},
     "output_type": "execute_result"
    }
   ],
   "source": [
    "# get prediction for X_val\n",
    "new_output = mlp.predict(X_val)\n",
    "np.unique(new_output,return_counts=True)"
   ]
  },
  {
   "cell_type": "code",
   "execution_count": 61,
   "id": "applied-purpose",
   "metadata": {},
   "outputs": [
    {
     "data": {
      "text/plain": [
       "(array([0, 1], dtype=int64), array([83, 60], dtype=int64))"
      ]
     },
     "execution_count": 61,
     "metadata": {},
     "output_type": "execute_result"
    }
   ],
   "source": [
    "np.unique(y_val,return_counts=True)"
   ]
  },
  {
   "cell_type": "code",
   "execution_count": 62,
   "id": "healthy-relative",
   "metadata": {},
   "outputs": [
    {
     "data": {
      "text/plain": [
       "GridSearchCV(cv=5, estimator=MLPClassifier(max_iter=100), n_jobs=-1,\n",
       "             param_grid={'activation': ['tanh', 'relu'],\n",
       "                         'alpha': [0.0001, 0.05],\n",
       "                         'hidden_layer_sizes': [(10, 30, 10), (20,)],\n",
       "                         'learning_rate': ['constant', 'adaptive'],\n",
       "                         'solver': ['sgd', 'adam']})"
      ]
     },
     "execution_count": 62,
     "metadata": {},
     "output_type": "execute_result"
    }
   ],
   "source": [
    "mlp_gs = MLPClassifier(max_iter=100)\n",
    "parameter_space = {\n",
    "    'hidden_layer_sizes': [(10,30,10),(20,)],\n",
    "    'activation': ['tanh', 'relu'],\n",
    "    'solver': ['sgd', 'adam'],\n",
    "    'alpha': [0.0001, 0.05],\n",
    "    'learning_rate': ['constant','adaptive'],\n",
    "}\n",
    "from sklearn.model_selection import GridSearchCV\n",
    "clf = GridSearchCV(mlp_gs, parameter_space, n_jobs=-1, cv=5)\n",
    "clf.fit(X, Y)"
   ]
  },
  {
   "cell_type": "code",
   "execution_count": 63,
   "id": "coral-active",
   "metadata": {},
   "outputs": [
    {
     "name": "stdout",
     "output_type": "stream",
     "text": [
      "Best parameters found:\n",
      " {'activation': 'relu', 'alpha': 0.0001, 'hidden_layer_sizes': (20,), 'learning_rate': 'constant', 'solver': 'sgd'}\n"
     ]
    }
   ],
   "source": [
    "print('Best parameters found:\\n', clf.best_params_)"
   ]
  },
  {
   "cell_type": "code",
   "execution_count": null,
   "id": "disabled-multiple",
   "metadata": {},
   "outputs": [],
   "source": []
  }
 ],
 "metadata": {
  "kernelspec": {
   "display_name": "Python 3",
   "language": "python",
   "name": "python3"
  },
  "language_info": {
   "codemirror_mode": {
    "name": "ipython",
    "version": 3
   },
   "file_extension": ".py",
   "mimetype": "text/x-python",
   "name": "python",
   "nbconvert_exporter": "python",
   "pygments_lexer": "ipython3",
   "version": "3.7.9"
  }
 },
 "nbformat": 4,
 "nbformat_minor": 5
}
