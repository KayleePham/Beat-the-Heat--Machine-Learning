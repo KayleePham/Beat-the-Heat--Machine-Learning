{
 "cells": [
  {
   "cell_type": "code",
   "execution_count": 1,
   "id": "efficient-perception",
   "metadata": {},
   "outputs": [],
   "source": [
    "#Load libaries\n",
    "import os\n",
    "import pandas as pd \n",
    "import seaborn as sns\n",
    "import numpy as np \n",
    "import matplotlib.pyplot as plt \n",
    "from pydotplus import graph_from_dot_data\n",
    "from sklearn import preprocessing\n",
    "from sklearn.preprocessing import StandardScaler, LabelEncoder\n",
    "from scipy import stats\n",
    "from sklearn.linear_model import LogisticRegression\n",
    "from sklearn.naive_bayes import MultinomialNB\n",
    "from sklearn.naive_bayes import GaussianNB\n",
    "from sklearn.neighbors import KNeighborsClassifier\n",
    "from sklearn.ensemble import RandomForestClassifier, RandomForestRegressor\n",
    "from sklearn.svm import SVC \n",
    "from sklearn import svm, metrics\n",
    "from sklearn.model_selection import GridSearchCV, RandomizedSearchCV\n",
    "from sklearn.metrics import confusion_matrix, classification_report\n",
    "from sklearn.model_selection import train_test_split, GridSearchCV, cross_validate, cross_val_score, KFold\n",
    "from sklearn.model_selection import RepeatedStratifiedKFold\n",
    "from sklearn.linear_model import ElasticNet\n",
    "from sklearn.metrics import mean_squared_error\n",
    "from sklearn.metrics import roc_curve\n",
    "from sklearn.metrics import roc_auc_score\n",
    "\n",
    "import warnings\n",
    "warnings.filterwarnings('ignore')\n",
    "\n",
    "#Load datasets\n",
    "data = pd.read_csv('CA_Wildfires_by_county.csv')           # Data on 44 counties"
   ]
  },
  {
   "cell_type": "code",
   "execution_count": 2,
   "id": "linear-facing",
   "metadata": {},
   "outputs": [
    {
     "data": {
      "text/html": [
       "<div>\n",
       "<style scoped>\n",
       "    .dataframe tbody tr th:only-of-type {\n",
       "        vertical-align: middle;\n",
       "    }\n",
       "\n",
       "    .dataframe tbody tr th {\n",
       "        vertical-align: top;\n",
       "    }\n",
       "\n",
       "    .dataframe thead th {\n",
       "        text-align: right;\n",
       "    }\n",
       "</style>\n",
       "<table border=\"1\" class=\"dataframe\">\n",
       "  <thead>\n",
       "    <tr style=\"text-align: right;\">\n",
       "      <th></th>\n",
       "      <th>NDVI</th>\n",
       "      <th>LST</th>\n",
       "      <th>TA</th>\n",
       "      <th>Class</th>\n",
       "    </tr>\n",
       "  </thead>\n",
       "  <tbody>\n",
       "    <tr>\n",
       "      <th>0</th>\n",
       "      <td>0.539433</td>\n",
       "      <td>284.331062</td>\n",
       "      <td>5</td>\n",
       "      <td>No_fire</td>\n",
       "    </tr>\n",
       "    <tr>\n",
       "      <th>1</th>\n",
       "      <td>0.541694</td>\n",
       "      <td>284.703651</td>\n",
       "      <td>5</td>\n",
       "      <td>No_fire</td>\n",
       "    </tr>\n",
       "    <tr>\n",
       "      <th>2</th>\n",
       "      <td>0.543955</td>\n",
       "      <td>285.613754</td>\n",
       "      <td>5</td>\n",
       "      <td>No_fire</td>\n",
       "    </tr>\n",
       "    <tr>\n",
       "      <th>3</th>\n",
       "      <td>0.546217</td>\n",
       "      <td>285.381590</td>\n",
       "      <td>5</td>\n",
       "      <td>No_fire</td>\n",
       "    </tr>\n",
       "    <tr>\n",
       "      <th>4</th>\n",
       "      <td>0.548478</td>\n",
       "      <td>278.491765</td>\n",
       "      <td>5</td>\n",
       "      <td>No_fire</td>\n",
       "    </tr>\n",
       "  </tbody>\n",
       "</table>\n",
       "</div>"
      ],
      "text/plain": [
       "       NDVI         LST  TA    Class\n",
       "0  0.539433  284.331062   5  No_fire\n",
       "1  0.541694  284.703651   5  No_fire\n",
       "2  0.543955  285.613754   5  No_fire\n",
       "3  0.546217  285.381590   5  No_fire\n",
       "4  0.548478  278.491765   5  No_fire"
      ]
     },
     "execution_count": 2,
     "metadata": {},
     "output_type": "execute_result"
    }
   ],
   "source": [
    "data.head()"
   ]
  },
  {
   "cell_type": "code",
   "execution_count": 3,
   "id": "sudden-termination",
   "metadata": {},
   "outputs": [],
   "source": [
    "data[\"Class\"].replace({\"Fire\": 1, \"No_fire\": 0}, inplace=True)\n",
    "data = data[['NDVI','LST','TA','Class']]"
   ]
  },
  {
   "cell_type": "code",
   "execution_count": 4,
   "id": "quality-original",
   "metadata": {},
   "outputs": [
    {
     "data": {
      "text/html": [
       "<div>\n",
       "<style scoped>\n",
       "    .dataframe tbody tr th:only-of-type {\n",
       "        vertical-align: middle;\n",
       "    }\n",
       "\n",
       "    .dataframe tbody tr th {\n",
       "        vertical-align: top;\n",
       "    }\n",
       "\n",
       "    .dataframe thead th {\n",
       "        text-align: right;\n",
       "    }\n",
       "</style>\n",
       "<table border=\"1\" class=\"dataframe\">\n",
       "  <thead>\n",
       "    <tr style=\"text-align: right;\">\n",
       "      <th></th>\n",
       "      <th>NDVI</th>\n",
       "      <th>LST</th>\n",
       "      <th>TA</th>\n",
       "      <th>Class</th>\n",
       "    </tr>\n",
       "  </thead>\n",
       "  <tbody>\n",
       "    <tr>\n",
       "      <th>0</th>\n",
       "      <td>0.539433</td>\n",
       "      <td>284.331062</td>\n",
       "      <td>5</td>\n",
       "      <td>0</td>\n",
       "    </tr>\n",
       "    <tr>\n",
       "      <th>1</th>\n",
       "      <td>0.541694</td>\n",
       "      <td>284.703651</td>\n",
       "      <td>5</td>\n",
       "      <td>0</td>\n",
       "    </tr>\n",
       "    <tr>\n",
       "      <th>2</th>\n",
       "      <td>0.543955</td>\n",
       "      <td>285.613754</td>\n",
       "      <td>5</td>\n",
       "      <td>0</td>\n",
       "    </tr>\n",
       "    <tr>\n",
       "      <th>3</th>\n",
       "      <td>0.546217</td>\n",
       "      <td>285.381590</td>\n",
       "      <td>5</td>\n",
       "      <td>0</td>\n",
       "    </tr>\n",
       "    <tr>\n",
       "      <th>4</th>\n",
       "      <td>0.548478</td>\n",
       "      <td>278.491765</td>\n",
       "      <td>5</td>\n",
       "      <td>0</td>\n",
       "    </tr>\n",
       "    <tr>\n",
       "      <th>...</th>\n",
       "      <td>...</td>\n",
       "      <td>...</td>\n",
       "      <td>...</td>\n",
       "      <td>...</td>\n",
       "    </tr>\n",
       "    <tr>\n",
       "      <th>42393</th>\n",
       "      <td>0.577000</td>\n",
       "      <td>281.971220</td>\n",
       "      <td>5</td>\n",
       "      <td>0</td>\n",
       "    </tr>\n",
       "    <tr>\n",
       "      <th>42394</th>\n",
       "      <td>0.584449</td>\n",
       "      <td>278.337573</td>\n",
       "      <td>5</td>\n",
       "      <td>0</td>\n",
       "    </tr>\n",
       "    <tr>\n",
       "      <th>42395</th>\n",
       "      <td>0.591899</td>\n",
       "      <td>282.713003</td>\n",
       "      <td>5</td>\n",
       "      <td>0</td>\n",
       "    </tr>\n",
       "    <tr>\n",
       "      <th>42396</th>\n",
       "      <td>0.599348</td>\n",
       "      <td>284.053572</td>\n",
       "      <td>5</td>\n",
       "      <td>0</td>\n",
       "    </tr>\n",
       "    <tr>\n",
       "      <th>42397</th>\n",
       "      <td>0.606797</td>\n",
       "      <td>278.289014</td>\n",
       "      <td>8</td>\n",
       "      <td>0</td>\n",
       "    </tr>\n",
       "  </tbody>\n",
       "</table>\n",
       "<p>42398 rows × 4 columns</p>\n",
       "</div>"
      ],
      "text/plain": [
       "           NDVI         LST  TA  Class\n",
       "0      0.539433  284.331062   5      0\n",
       "1      0.541694  284.703651   5      0\n",
       "2      0.543955  285.613754   5      0\n",
       "3      0.546217  285.381590   5      0\n",
       "4      0.548478  278.491765   5      0\n",
       "...         ...         ...  ..    ...\n",
       "42393  0.577000  281.971220   5      0\n",
       "42394  0.584449  278.337573   5      0\n",
       "42395  0.591899  282.713003   5      0\n",
       "42396  0.599348  284.053572   5      0\n",
       "42397  0.606797  278.289014   8      0\n",
       "\n",
       "[42398 rows x 4 columns]"
      ]
     },
     "execution_count": 4,
     "metadata": {},
     "output_type": "execute_result"
    }
   ],
   "source": [
    "data"
   ]
  },
  {
   "cell_type": "code",
   "execution_count": 5,
   "id": "unavailable-agency",
   "metadata": {},
   "outputs": [
    {
     "data": {
      "text/plain": [
       "5    38192\n",
       "9     2170\n",
       "8     1538\n",
       "4      437\n",
       "7       56\n",
       "6        5\n",
       "Name: TA, dtype: int64"
      ]
     },
     "execution_count": 5,
     "metadata": {},
     "output_type": "execute_result"
    }
   ],
   "source": [
    "data.TA.value_counts()"
   ]
  },
  {
   "cell_type": "code",
   "execution_count": 6,
   "id": "revolutionary-simulation",
   "metadata": {},
   "outputs": [],
   "source": [
    "data = data[(data.TA !=4) & (data.TA !=6)]"
   ]
  },
  {
   "cell_type": "code",
   "execution_count": 7,
   "id": "indoor-triple",
   "metadata": {},
   "outputs": [
    {
     "data": {
      "text/plain": [
       "5    38192\n",
       "9     2170\n",
       "8     1538\n",
       "7       56\n",
       "Name: TA, dtype: int64"
      ]
     },
     "execution_count": 7,
     "metadata": {},
     "output_type": "execute_result"
    }
   ],
   "source": [
    "data.TA.value_counts()\n"
   ]
  },
  {
   "cell_type": "code",
   "execution_count": 8,
   "id": "shaped-banner",
   "metadata": {},
   "outputs": [
    {
     "data": {
      "text/plain": [
       "0    40586\n",
       "1     1370\n",
       "Name: Class, dtype: int64"
      ]
     },
     "execution_count": 8,
     "metadata": {},
     "output_type": "execute_result"
    }
   ],
   "source": [
    "Count=data.Class.value_counts() #count target feature \n",
    "Count"
   ]
  },
  {
   "cell_type": "code",
   "execution_count": 9,
   "id": "continent-watts",
   "metadata": {},
   "outputs": [
    {
     "name": "stdout",
     "output_type": "stream",
     "text": [
      "Proportion: 29.62 : 1\n"
     ]
    }
   ],
   "source": [
    "print('Proportion:', round(Count[0] / Count[1], 2), ': 1')\n"
   ]
  },
  {
   "cell_type": "code",
   "execution_count": 10,
   "id": "right-closer",
   "metadata": {},
   "outputs": [
    {
     "name": "stdout",
     "output_type": "stream",
     "text": [
      "<class 'pandas.core.frame.DataFrame'>\n",
      "Int64Index: 41956 entries, 0 to 42397\n",
      "Data columns (total 4 columns):\n",
      " #   Column  Non-Null Count  Dtype  \n",
      "---  ------  --------------  -----  \n",
      " 0   NDVI    41956 non-null  float64\n",
      " 1   LST     41956 non-null  float64\n",
      " 2   TA      41956 non-null  int64  \n",
      " 3   Class   41956 non-null  int64  \n",
      "dtypes: float64(2), int64(2)\n",
      "memory usage: 1.6 MB\n"
     ]
    }
   ],
   "source": [
    "data.info()"
   ]
  },
  {
   "cell_type": "code",
   "execution_count": 11,
   "id": "broke-biography",
   "metadata": {},
   "outputs": [
    {
     "data": {
      "text/html": [
       "<div>\n",
       "<style scoped>\n",
       "    .dataframe tbody tr th:only-of-type {\n",
       "        vertical-align: middle;\n",
       "    }\n",
       "\n",
       "    .dataframe tbody tr th {\n",
       "        vertical-align: top;\n",
       "    }\n",
       "\n",
       "    .dataframe thead th {\n",
       "        text-align: right;\n",
       "    }\n",
       "</style>\n",
       "<table border=\"1\" class=\"dataframe\">\n",
       "  <thead>\n",
       "    <tr style=\"text-align: right;\">\n",
       "      <th></th>\n",
       "      <th>NDVI</th>\n",
       "      <th>LST</th>\n",
       "      <th>TA</th>\n",
       "      <th>Class</th>\n",
       "    </tr>\n",
       "  </thead>\n",
       "  <tbody>\n",
       "    <tr>\n",
       "      <th>count</th>\n",
       "      <td>41956.000000</td>\n",
       "      <td>41956.000000</td>\n",
       "      <td>41956.000000</td>\n",
       "      <td>41956.000000</td>\n",
       "    </tr>\n",
       "    <tr>\n",
       "      <th>mean</th>\n",
       "      <td>0.494344</td>\n",
       "      <td>296.003562</td>\n",
       "      <td>5.319525</td>\n",
       "      <td>0.032653</td>\n",
       "    </tr>\n",
       "    <tr>\n",
       "      <th>std</th>\n",
       "      <td>0.154746</td>\n",
       "      <td>12.336897</td>\n",
       "      <td>1.029912</td>\n",
       "      <td>0.177729</td>\n",
       "    </tr>\n",
       "    <tr>\n",
       "      <th>min</th>\n",
       "      <td>0.112336</td>\n",
       "      <td>250.800000</td>\n",
       "      <td>5.000000</td>\n",
       "      <td>0.000000</td>\n",
       "    </tr>\n",
       "    <tr>\n",
       "      <th>25%</th>\n",
       "      <td>0.392264</td>\n",
       "      <td>286.860235</td>\n",
       "      <td>5.000000</td>\n",
       "      <td>0.000000</td>\n",
       "    </tr>\n",
       "    <tr>\n",
       "      <th>50%</th>\n",
       "      <td>0.500312</td>\n",
       "      <td>296.397268</td>\n",
       "      <td>5.000000</td>\n",
       "      <td>0.000000</td>\n",
       "    </tr>\n",
       "    <tr>\n",
       "      <th>75%</th>\n",
       "      <td>0.605684</td>\n",
       "      <td>305.483123</td>\n",
       "      <td>5.000000</td>\n",
       "      <td>0.000000</td>\n",
       "    </tr>\n",
       "    <tr>\n",
       "      <th>max</th>\n",
       "      <td>0.847128</td>\n",
       "      <td>329.900122</td>\n",
       "      <td>9.000000</td>\n",
       "      <td>1.000000</td>\n",
       "    </tr>\n",
       "  </tbody>\n",
       "</table>\n",
       "</div>"
      ],
      "text/plain": [
       "               NDVI           LST            TA         Class\n",
       "count  41956.000000  41956.000000  41956.000000  41956.000000\n",
       "mean       0.494344    296.003562      5.319525      0.032653\n",
       "std        0.154746     12.336897      1.029912      0.177729\n",
       "min        0.112336    250.800000      5.000000      0.000000\n",
       "25%        0.392264    286.860235      5.000000      0.000000\n",
       "50%        0.500312    296.397268      5.000000      0.000000\n",
       "75%        0.605684    305.483123      5.000000      0.000000\n",
       "max        0.847128    329.900122      9.000000      1.000000"
      ]
     },
     "execution_count": 11,
     "metadata": {},
     "output_type": "execute_result"
    }
   ],
   "source": [
    "data.describe() # Statistic summary"
   ]
  },
  {
   "cell_type": "code",
   "execution_count": 12,
   "id": "special-alfred",
   "metadata": {},
   "outputs": [
    {
     "data": {
      "text/plain": [
       "NDVI     0\n",
       "LST      0\n",
       "TA       0\n",
       "Class    0\n",
       "dtype: int64"
      ]
     },
     "execution_count": 12,
     "metadata": {},
     "output_type": "execute_result"
    }
   ],
   "source": [
    "data.isnull().sum() # return number of missing value for each column"
   ]
  },
  {
   "cell_type": "code",
   "execution_count": 13,
   "id": "phantom-setup",
   "metadata": {},
   "outputs": [],
   "source": [
    "#data = data.fillna(data.mean()) #Fill 13 missing values in NDVI with average NDVI\n",
    "#data = data.dropna() #drop all rows contain NaN"
   ]
  },
  {
   "cell_type": "code",
   "execution_count": 14,
   "id": "efficient-stretch",
   "metadata": {},
   "outputs": [
    {
     "data": {
      "text/plain": [
       "NDVI   -0.237924\n",
       "LST    -0.152750\n",
       "TA      2.985427\n",
       "dtype: float64"
      ]
     },
     "execution_count": 14,
     "metadata": {},
     "output_type": "execute_result"
    }
   ],
   "source": [
    "data.drop(columns='Class').skew(axis = 0) # return skewness of each independent feature"
   ]
  },
  {
   "cell_type": "code",
   "execution_count": 15,
   "id": "invisible-application",
   "metadata": {},
   "outputs": [
    {
     "data": {
      "image/png": "[encoded data removed]",
      "text/plain": [
       "<Figure size 1152x864 with 12 Axes>"
      ]
     },
     "metadata": {
      "needs_background": "light"
     },
     "output_type": "display_data"
    }
   ],
   "source": [
    "# Density\n",
    "data.drop(columns='Class').plot(kind='density', subplots=True, layout=(4,3),figsize=(16, 12), sharex=False)\n",
    "plt.show()"
   ]
  },
  {
   "cell_type": "code",
   "execution_count": 16,
   "id": "searching-monster",
   "metadata": {},
   "outputs": [
    {
     "data": {
      "text/html": [
       "<div>\n",
       "<style scoped>\n",
       "    .dataframe tbody tr th:only-of-type {\n",
       "        vertical-align: middle;\n",
       "    }\n",
       "\n",
       "    .dataframe tbody tr th {\n",
       "        vertical-align: top;\n",
       "    }\n",
       "\n",
       "    .dataframe thead th {\n",
       "        text-align: right;\n",
       "    }\n",
       "</style>\n",
       "<table border=\"1\" class=\"dataframe\">\n",
       "  <thead>\n",
       "    <tr style=\"text-align: right;\">\n",
       "      <th></th>\n",
       "      <th>NDVI</th>\n",
       "      <th>LST</th>\n",
       "      <th>TA</th>\n",
       "      <th>Class</th>\n",
       "    </tr>\n",
       "  </thead>\n",
       "  <tbody>\n",
       "    <tr>\n",
       "      <th>NDVI</th>\n",
       "      <td>1.000000</td>\n",
       "      <td>-0.356105</td>\n",
       "      <td>-0.027411</td>\n",
       "      <td>-0.050214</td>\n",
       "    </tr>\n",
       "    <tr>\n",
       "      <th>LST</th>\n",
       "      <td>-0.356105</td>\n",
       "      <td>1.000000</td>\n",
       "      <td>0.091242</td>\n",
       "      <td>0.164663</td>\n",
       "    </tr>\n",
       "    <tr>\n",
       "      <th>TA</th>\n",
       "      <td>-0.027411</td>\n",
       "      <td>0.091242</td>\n",
       "      <td>1.000000</td>\n",
       "      <td>0.160456</td>\n",
       "    </tr>\n",
       "    <tr>\n",
       "      <th>Class</th>\n",
       "      <td>-0.050214</td>\n",
       "      <td>0.164663</td>\n",
       "      <td>0.160456</td>\n",
       "      <td>1.000000</td>\n",
       "    </tr>\n",
       "  </tbody>\n",
       "</table>\n",
       "</div>"
      ],
      "text/plain": [
       "           NDVI       LST        TA     Class\n",
       "NDVI   1.000000 -0.356105 -0.027411 -0.050214\n",
       "LST   -0.356105  1.000000  0.091242  0.164663\n",
       "TA    -0.027411  0.091242  1.000000  0.160456\n",
       "Class -0.050214  0.164663  0.160456  1.000000"
      ]
     },
     "execution_count": 16,
     "metadata": {},
     "output_type": "execute_result"
    }
   ],
   "source": [
    "\n",
    "data.corr() #return correlation between columns"
   ]
  },
  {
   "cell_type": "code",
   "execution_count": 17,
   "id": "amazing-communication",
   "metadata": {
    "scrolled": true
   },
   "outputs": [
    {
     "data": {
      "image/png": "[encoded data removed]",
      "text/plain": [
       "<Figure size 864x864 with 2 Axes>"
      ]
     },
     "metadata": {
      "needs_background": "light"
     },
     "output_type": "display_data"
    }
   ],
   "source": [
    "#Correlation matrix\n",
    "plt.figure(figsize=(12, 12))\n",
    "corr = data.corr()\n",
    "sns.set(font_scale=1.4)\n",
    "res=sns.heatmap(corr, annot=True)\n",
    "res.set_title(\"Correlation Matrix of All Columns\",fontsize=25,fontweight='bold')\n",
    "res.set_xticklabels(res.get_xmajorticklabels(), fontsize = 18,fontweight='bold')\n",
    "res.set_yticklabels(res.get_xmajorticklabels(), fontsize = 18,fontweight='bold')\n",
    "plt.savefig('C:/Users/kayle/Desktop/CorrMatrix',dpi=300) #, transparent=True)\n",
    "plt.show()"
   ]
  },
  {
   "cell_type": "code",
   "execution_count": 18,
   "id": "ultimate-footage",
   "metadata": {},
   "outputs": [
    {
     "data": {
      "text/plain": [
       "0    40586\n",
       "1     1370\n",
       "Name: Class, dtype: int64"
      ]
     },
     "execution_count": 18,
     "metadata": {},
     "output_type": "execute_result"
    }
   ],
   "source": [
    "data.Class.value_counts() #count target feature "
   ]
  },
  {
   "cell_type": "code",
   "execution_count": 19,
   "id": "mathematical-finland",
   "metadata": {},
   "outputs": [
    {
     "data": {
      "image/png": "[encoded data removed]",
      "text/plain": [
       "<Figure size 432x288 with 1 Axes>"
      ]
     },
     "metadata": {},
     "output_type": "display_data"
    }
   ],
   "source": [
    "data[\"Class\"].replace({1:\"Fire\", 0:\"No_fire\"}, inplace=True)\n",
    "#count plot of target feature\n",
    "classCount= sns.countplot(x='Class', data = data)\n",
    "classCount.axes.set_title(\"Class Count\",fontsize=25,fontweight='bold')\n",
    "classCount.set_xlabel(\"Class\",fontsize=18,fontweight='bold')\n",
    "classCount.set_ylabel(\"Count\",fontsize=18,fontweight='bold')\n",
    "plt.savefig('C:/Users/kayle/Desktop/ClassCount',dpi=300,bbox_inches='tight')\n",
    "plt.show()"
   ]
  },
  {
   "cell_type": "code",
   "execution_count": 20,
   "id": "apparent-battery",
   "metadata": {},
   "outputs": [],
   "source": [
    "data[\"Class\"].replace({\"Fire\": 1, \"No_fire\": 0}, inplace=True)"
   ]
  },
  {
   "cell_type": "code",
   "execution_count": 21,
   "id": "forbidden-operator",
   "metadata": {},
   "outputs": [
    {
     "data": {
      "image/png": "[encoded data removed]",
      "text/plain": [
       "<Figure size 936x504 with 1 Axes>"
      ]
     },
     "metadata": {},
     "output_type": "display_data"
    },
    {
     "data": {
      "image/png": "[encoded data removed]",
      "text/plain": [
       "<Figure size 936x504 with 1 Axes>"
      ]
     },
     "metadata": {},
     "output_type": "display_data"
    },
    {
     "data": {
      "image/png": "[encoded data removed]",
      "text/plain": [
       "<Figure size 936x504 with 1 Axes>"
      ]
     },
     "metadata": {},
     "output_type": "display_data"
    }
   ],
   "source": [
    "# Visualiztion of outliers data\n",
    "column_names = ['NDVI', 'LST', 'TA']\n",
    "#Boxplot\n",
    "train = data[column_names]\n",
    "plt.style.use('ggplot')\n",
    "for i in column_names:\n",
    "    plt.figure(figsize=(13, 7))\n",
    "    plt.title(str(i) + \" with \" + str('Class'))\n",
    "    sns.boxplot(x=data.Class, y=train[i])\n",
    "    plt.show()"
   ]
  },
  {
   "cell_type": "code",
   "execution_count": 22,
   "id": "traditional-madness",
   "metadata": {},
   "outputs": [],
   "source": [
    "#Undersampling for imbalance class\n",
    "X= data.drop(columns=['Class'])\n",
    "Y = data['Class']\n",
    "from imblearn.under_sampling import RandomUnderSampler\n",
    "# define undersample strategy\n",
    "undersample = RandomUnderSampler(sampling_strategy='majority')\n",
    "# fit and apply the transform\n",
    "X,Y= undersample.fit_resample(X,Y)"
   ]
  },
  {
   "cell_type": "code",
   "execution_count": 23,
   "id": "numeric-emerald",
   "metadata": {},
   "outputs": [
    {
     "data": {
      "text/plain": [
       "0    1370\n",
       "1    1370\n",
       "Name: Class, dtype: int64"
      ]
     },
     "execution_count": 23,
     "metadata": {},
     "output_type": "execute_result"
    }
   ],
   "source": [
    "Count=Y.value_counts() #count target feature \n",
    "Count"
   ]
  },
  {
   "cell_type": "markdown",
   "id": "current-recorder",
   "metadata": {},
   "source": [
    "# Applying models and evalution"
   ]
  },
  {
   "cell_type": "markdown",
   "id": "boring-canvas",
   "metadata": {},
   "source": [
    "# Logistic Regression"
   ]
  },
  {
   "cell_type": "code",
   "execution_count": 24,
   "id": "generous-swiss",
   "metadata": {},
   "outputs": [
    {
     "name": "stdout",
     "output_type": "stream",
     "text": [
      "              precision    recall  f1-score   support\n",
      "\n",
      "           0       0.96      1.00      0.98      8096\n",
      "           1       0.00      0.00      0.00       296\n",
      "\n",
      "    accuracy                           0.96      8392\n",
      "   macro avg       0.48      0.50      0.49      8392\n",
      "weighted avg       0.93      0.96      0.95      8392\n",
      "\n"
     ]
    }
   ],
   "source": [
    "X= data.drop(columns=['Class']).values\n",
    "Y = data['Class'].values\n",
    "# X = X\n",
    "# Y = Y\n",
    "scale= StandardScaler()\n",
    "X = scale.fit_transform(X) \n",
    "# 20% test 80% training data             \n",
    "X_train, X_test, y_train, y_test, = train_test_split(X, Y, test_size=0.2,random_state = 42)\n",
    "\n",
    "                                                         # 0.25 x 0.8 = 0.2 for validation data\n",
    "X_train, X_val, y_train, y_val, = train_test_split(X_train, y_train, test_size=0.25,random_state = 16) \n",
    "\n",
    "# Instantiate\n",
    "\n",
    "LR = LogisticRegression(C=0.01, penalty= 'l2', solver= 'liblinear')\n",
    "# Fit\n",
    "LR = LR.fit(X_train, y_train)\n",
    "LR.score(X_train,y_train)\n",
    "\n",
    "# Predictions on the test dataset\n",
    "LR_pred = pd.DataFrame(LR.predict(X_test))\n",
    "\n",
    "# Probabilities on the test dataset\n",
    "probs = pd.DataFrame(LR.predict_proba(X_test))\n",
    "\n",
    "print(metrics.classification_report(y_test, LR_pred))   #Logistic Regression \n"
   ]
  },
  {
   "cell_type": "code",
   "execution_count": 25,
   "id": "exceptional-financing",
   "metadata": {},
   "outputs": [
    {
     "data": {
      "image/png": "[encoded data removed]",
      "text/plain": [
       "<Figure size 432x288 with 2 Axes>"
      ]
     },
     "metadata": {},
     "output_type": "display_data"
    }
   ],
   "source": [
    "LR_cm = confusion_matrix(y_test, LR_pred)\n",
    "group_names = ['TN','FP','FN','TP']\n",
    "group_counts = [\"{0:0.0f}\".format(value) for value in\n",
    "                LR_cm.flatten()]\n",
    "labels = [f\"{v1}\\n{v2}\" for v1, v2 in\n",
    "          zip(group_names,group_counts)]\n",
    "labels = np.asarray(labels).reshape(2,2)\n",
    "\n",
    "sns.heatmap(LR_cm,annot=labels,fmt='')\n",
    "plt.title('Logistic Regression')\n",
    "plt.ylabel('True label',fontweight='bold')\n",
    "plt.xlabel('Predicted label',fontweight='bold')\n",
    "plt.savefig('C:/Users/kayle/Desktop/LR_confmatrix_county',dpi=300,bbox_inches='tight', transparent=True)"
   ]
  },
  {
   "cell_type": "code",
   "execution_count": 26,
   "id": "accepted-biodiversity",
   "metadata": {},
   "outputs": [],
   "source": [
    "# #Hyperparameter Tuning for Logistic Regression\n",
    "# # define models and parameters\n",
    "# solvers = ['newton-cg', 'lbfgs', 'liblinear']\n",
    "# penalty = ['l2']\n",
    "# c_values = [100, 10, 1.0, 0.1, 0.01]\n",
    "# # define grid search\n",
    "# grid = dict(solver=solvers,penalty=penalty,C=c_values)\n",
    "# cv = RepeatedStratifiedKFold(n_splits=10, n_repeats=3, random_state=1)\n",
    "# grid_search = GridSearchCV(estimator=LR, param_grid=grid, n_jobs=-1, cv=cv, scoring='accuracy',error_score=0)\n",
    "# grid_result = grid_search.fit(X, Y)\n",
    "# # summarize results\n",
    "# print(\"Best: %f using %s\" % (grid_result.best_score_, grid_result.best_params_))\n",
    "# means = grid_result.cv_results_['mean_test_score']\n",
    "# stds = grid_result.cv_results_['std_test_score']\n",
    "# params = grid_result.cv_results_['params']\n",
    "# for mean, stdev, param in zip(means, stds, params):\n",
    "#     print(\"%f (%f) with: %r\" % (mean, stdev, param))\n"
   ]
  },
  {
   "cell_type": "code",
   "execution_count": 27,
   "id": "insured-portal",
   "metadata": {},
   "outputs": [
    {
     "data": {
      "text/plain": [
       "(array([0], dtype=int64), array([8391], dtype=int64))"
      ]
     },
     "execution_count": 27,
     "metadata": {},
     "output_type": "execute_result"
    }
   ],
   "source": [
    "# get prediction for X_val\n",
    "new_output = LR.predict(X_val)\n",
    "np.unique(new_output,return_counts=True)"
   ]
  },
  {
   "cell_type": "code",
   "execution_count": 28,
   "id": "stainless-revelation",
   "metadata": {},
   "outputs": [
    {
     "data": {
      "text/plain": [
       "(array([0, 1], dtype=int64), array([8125,  266], dtype=int64))"
      ]
     },
     "execution_count": 28,
     "metadata": {},
     "output_type": "execute_result"
    }
   ],
   "source": [
    "np.unique(y_val,return_counts=True)"
   ]
  },
  {
   "cell_type": "markdown",
   "id": "lesser-hanging",
   "metadata": {},
   "source": [
    "# Gaussian Naive Bayes"
   ]
  },
  {
   "cell_type": "code",
   "execution_count": 29,
   "id": "recognized-sunset",
   "metadata": {},
   "outputs": [
    {
     "name": "stdout",
     "output_type": "stream",
     "text": [
      "              precision    recall  f1-score   support\n",
      "\n",
      "           0       0.97      0.96      0.97      8096\n",
      "           1       0.21      0.28      0.24       296\n",
      "\n",
      "    accuracy                           0.94      8392\n",
      "   macro avg       0.59      0.62      0.60      8392\n",
      "weighted avg       0.95      0.94      0.94      8392\n",
      "\n"
     ]
    }
   ],
   "source": [
    "X= data.drop(columns=['Class']).values\n",
    "Y = data['Class'].values\n",
    "scale= StandardScaler()\n",
    "X = scale.fit_transform(X) \n",
    "\n",
    "# 20% test 80% training data             \n",
    "X_train, X_test, y_train, y_test, = train_test_split(X, Y, test_size=0.2,random_state = 42)\n",
    "\n",
    "                                                         # 0.25 x 0.8 = 0.2 for validation data\n",
    "X_train, X_val, y_train, y_val, = train_test_split(X_train, y_train, test_size=0.25,random_state = 42) \n",
    "\n",
    "#NB = MultinomialNB()\n",
    "NB= GaussianNB(var_smoothing= 0.12328467394420659)\n",
    "NB.fit(X_train, y_train)\n",
    "\n",
    "NB_pred = pd.DataFrame(NB.predict(X_test))\n",
    "\n",
    "print(metrics.classification_report(y_test, NB_pred))   #Gaussian Naive Bayes"
   ]
  },
  {
   "cell_type": "code",
   "execution_count": 30,
   "id": "posted-lafayette",
   "metadata": {},
   "outputs": [
    {
     "data": {
      "image/png": "[encoded data removed]",
      "text/plain": [
       "<Figure size 432x288 with 2 Axes>"
      ]
     },
     "metadata": {},
     "output_type": "display_data"
    }
   ],
   "source": [
    "NB_cm = confusion_matrix(y_test, NB_pred)\n",
    "group_names = ['TN','FP','FN','TP']\n",
    "group_counts = [\"{0:0.0f}\".format(value) for value in\n",
    "                NB_cm.flatten()]\n",
    "labels = [f\"{v1}\\n{v2}\" for v1, v2 in\n",
    "          zip(group_names,group_counts)]\n",
    "labels = np.asarray(labels).reshape(2,2)\n",
    "sns.heatmap(NB_cm,annot=labels,fmt='')\n",
    "plt.title('Gaussian Naive Bayes')\n",
    "plt.ylabel('True label',fontweight='bold')\n",
    "plt.xlabel('Predicted label',fontweight='bold')\n",
    "plt.savefig('C:/Users/kayle/Desktop/GaussianNB_confmatrix_county',dpi=300,bbox_inches='tight', transparent=True)"
   ]
  },
  {
   "cell_type": "code",
   "execution_count": 31,
   "id": "western-outside",
   "metadata": {},
   "outputs": [],
   "source": [
    "# #Hyperparameter Tuning for Gaussian Naive Bayes\n",
    "# params_NB = {'var_smoothing': np.logspace(0,-9, num=100)}\n",
    "# NB = GaussianNB()\n",
    "# NB_ran = RandomizedSearchCV(NB, param_distributions=params_NB, \n",
    "#                             verbose=2, cv=3, random_state=42, n_iter=10, scoring='accuracy')\n",
    "# NB_ran.fit(X_train, y_train)\n",
    "# NB_ran.best_params_"
   ]
  },
  {
   "cell_type": "code",
   "execution_count": 32,
   "id": "deluxe-child",
   "metadata": {},
   "outputs": [
    {
     "data": {
      "text/plain": [
       "(array([0, 1], dtype=int64), array([8012,  379], dtype=int64))"
      ]
     },
     "execution_count": 32,
     "metadata": {},
     "output_type": "execute_result"
    }
   ],
   "source": [
    "# get prediction for X_val\n",
    "new_output = NB.predict(X_val)\n",
    "np.unique(new_output,return_counts=True)"
   ]
  },
  {
   "cell_type": "code",
   "execution_count": 33,
   "id": "fluid-stanford",
   "metadata": {},
   "outputs": [
    {
     "data": {
      "text/plain": [
       "(array([0, 1], dtype=int64), array([8120,  271], dtype=int64))"
      ]
     },
     "execution_count": 33,
     "metadata": {},
     "output_type": "execute_result"
    }
   ],
   "source": [
    "np.unique(y_val,return_counts=True)"
   ]
  },
  {
   "cell_type": "markdown",
   "id": "prerequisite-python",
   "metadata": {},
   "source": [
    "# K - Nearest Neighbors"
   ]
  },
  {
   "cell_type": "code",
   "execution_count": 34,
   "id": "agreed-blend",
   "metadata": {},
   "outputs": [
    {
     "name": "stdout",
     "output_type": "stream",
     "text": [
      "              precision    recall  f1-score   support\n",
      "\n",
      "           0       0.97      1.00      0.98      8096\n",
      "           1       0.57      0.07      0.12       296\n",
      "\n",
      "    accuracy                           0.97      8392\n",
      "   macro avg       0.77      0.53      0.55      8392\n",
      "weighted avg       0.95      0.97      0.95      8392\n",
      "\n"
     ]
    }
   ],
   "source": [
    "X= data.drop(columns=['Class']).values\n",
    "Y = data['Class'].values\n",
    "scale= StandardScaler()\n",
    "X = scale.fit_transform(X) \n",
    "\n",
    "# 20% test 80% training data             \n",
    "X_train, X_test, y_train, y_test, = train_test_split(X, Y, test_size=0.2,random_state = 42)\n",
    "\n",
    "                                                    # 0.25 x 0.8 = 0.2 for validation data\n",
    "X_train, X_val, y_train, y_val, = train_test_split(X_train, y_train, test_size=0.25, random_state = 42) \n",
    "\n",
    "#(metric= 'manhattan', n_neighbors= 13, weights= 'distance')\n",
    "KNN = KNeighborsClassifier(metric= 'euclidean', n_neighbors= 13, weights='uniform')  \n",
    "KNN.fit(X_train, y_train)\n",
    "\n",
    "KNN_pred = pd.DataFrame(KNN.predict(X_test))\n",
    "\n",
    "print(metrics.classification_report(y_test, KNN_pred))   #K-NearestNeighbors"
   ]
  },
  {
   "cell_type": "code",
   "execution_count": 35,
   "id": "naked-double",
   "metadata": {},
   "outputs": [
    {
     "data": {
      "text/plain": [
       "0    8357\n",
       "1      35\n",
       "dtype: int64"
      ]
     },
     "execution_count": 35,
     "metadata": {},
     "output_type": "execute_result"
    }
   ],
   "source": [
    "KNN_pred.value_counts()"
   ]
  },
  {
   "cell_type": "code",
   "execution_count": 36,
   "id": "juvenile-harvest",
   "metadata": {},
   "outputs": [
    {
     "data": {
      "image/png": "[encoded data removed]",
      "text/plain": [
       "<Figure size 432x288 with 2 Axes>"
      ]
     },
     "metadata": {},
     "output_type": "display_data"
    }
   ],
   "source": [
    "KNN_cm = confusion_matrix(y_test, KNN_pred)\n",
    "group_names = ['TN','FP','FN','TP']\n",
    "group_counts = [\"{0:0.0f}\".format(value) for value in\n",
    "                KNN_cm.flatten()]\n",
    "labels = [f\"{v1}\\n{v2}\" for v1, v2 in\n",
    "          zip(group_names,group_counts)]\n",
    "labels = np.asarray(labels).reshape(2,2)\n",
    "sns.heatmap(KNN_cm, annot=labels, fmt='')\n",
    "plt.title('K-Nearest Neighbors')\n",
    "plt.ylabel('True label',fontweight='bold')\n",
    "plt.xlabel('Predicted label',fontweight='bold')\n",
    "plt.savefig('C:/Users/kayle/Desktop/KNN_confmatrix_county',dpi=300,bbox_inches='tight', transparent=True)"
   ]
  },
  {
   "cell_type": "code",
   "execution_count": 37,
   "id": "mobile-platform",
   "metadata": {},
   "outputs": [
    {
     "data": {
      "text/plain": [
       "(array([0, 1], dtype=int64), array([8348,   43], dtype=int64))"
      ]
     },
     "execution_count": 37,
     "metadata": {},
     "output_type": "execute_result"
    }
   ],
   "source": [
    "# get prediction for X_val\n",
    "new_output = KNN.predict(X_val)\n",
    "np.unique(new_output,return_counts=True)"
   ]
  },
  {
   "cell_type": "code",
   "execution_count": 38,
   "id": "sticky-joint",
   "metadata": {},
   "outputs": [
    {
     "data": {
      "text/plain": [
       "(array([0, 1], dtype=int64), array([8120,  271], dtype=int64))"
      ]
     },
     "execution_count": 38,
     "metadata": {},
     "output_type": "execute_result"
    }
   ],
   "source": [
    "np.unique(y_val,return_counts=True)"
   ]
  },
  {
   "cell_type": "code",
   "execution_count": 39,
   "id": "flush-person",
   "metadata": {},
   "outputs": [
    {
     "data": {
      "text/plain": [
       "(array([0, 1], dtype=int64), array([41764,   192], dtype=int64))"
      ]
     },
     "execution_count": 39,
     "metadata": {},
     "output_type": "execute_result"
    }
   ],
   "source": [
    "# define input\n",
    "new_input =  X # original dataset\n",
    "# get prediction for new input\n",
    "new_output = KNN.predict(new_input)\n",
    "np.unique(new_output,return_counts=True)"
   ]
  },
  {
   "cell_type": "code",
   "execution_count": 40,
   "id": "indirect-karaoke",
   "metadata": {},
   "outputs": [
    {
     "data": {
      "text/plain": [
       "0    40586\n",
       "1     1370\n",
       "Name: Class, dtype: int64"
      ]
     },
     "execution_count": 40,
     "metadata": {},
     "output_type": "execute_result"
    }
   ],
   "source": [
    "data.Class.value_counts()"
   ]
  },
  {
   "cell_type": "code",
   "execution_count": 41,
   "id": "vocational-psychology",
   "metadata": {},
   "outputs": [],
   "source": [
    "# #Hyperparameter Tuning for KNN\n",
    "# n_neighbors = range(1, 21, 2)\n",
    "# weights = ['uniform', 'distance']\n",
    "# metric = ['euclidean', 'manhattan', 'minkowski']\n",
    "# # define grid search\n",
    "# grid = dict(n_neighbors=n_neighbors,weights=weights,metric=metric)\n",
    "# cv = RepeatedStratifiedKFold(n_splits=10, n_repeats=3, random_state=42)\n",
    "# grid_search = GridSearchCV(estimator=KNN, param_grid=grid, n_jobs=-1, cv=cv, scoring='accuracy',error_score=0)\n",
    "# grid_result = grid_search.fit(X, Y)\n",
    "# # summarize results\n",
    "# print(\"Best: %f using %s\" % (grid_result.best_score_, grid_result.best_params_))\n",
    "# means = grid_result.cv_results_['mean_test_score']\n",
    "# stds = grid_result.cv_results_['std_test_score']\n",
    "# params = grid_result.cv_results_['params']\n",
    "# for mean, stdev, param in zip(means, stds, params):\n",
    "#     print(\"%f (%f) with: %r\" % (mean, stdev, param))"
   ]
  },
  {
   "cell_type": "markdown",
   "id": "cardiac-recommendation",
   "metadata": {},
   "source": [
    "# Random Forest"
   ]
  },
  {
   "cell_type": "code",
   "execution_count": 42,
   "id": "saved-packet",
   "metadata": {},
   "outputs": [
    {
     "name": "stdout",
     "output_type": "stream",
     "text": [
      "              precision    recall  f1-score   support\n",
      "\n",
      "           0       0.97      1.00      0.98      8128\n",
      "           1       0.42      0.10      0.16       264\n",
      "\n",
      "    accuracy                           0.97      8392\n",
      "   macro avg       0.69      0.55      0.57      8392\n",
      "weighted avg       0.95      0.97      0.96      8392\n",
      "\n"
     ]
    }
   ],
   "source": [
    "X= data.drop(columns=['Class']).values\n",
    "Y = data['Class'].values\n",
    "scale= StandardScaler()\n",
    "X = scale.fit_transform(X) \n",
    "\n",
    "# 20% test 80% training data             \n",
    "X_train, X_test, y_train, y_test, = train_test_split(X, Y, test_size=0.2,random_state = 16)\n",
    "\n",
    "#Create a RandomForest Classifier\n",
    "RF = RandomForestClassifier(max_features = 'sqrt', n_estimators = 100)                      \n",
    "\n",
    "#Train the model using the training sets y_pred=clf.predict(X_test)\n",
    "RF.fit(X_train,y_train)\n",
    "\n",
    "RF_pred = RF.predict(X_test) \n",
    "\n",
    "print(metrics.classification_report(y_test, RF_pred))   #Random Forest"
   ]
  },
  {
   "cell_type": "code",
   "execution_count": 43,
   "id": "sporting-creek",
   "metadata": {},
   "outputs": [
    {
     "data": {
      "image/png": "[encoded data removed]",
      "text/plain": [
       "<Figure size 432x288 with 2 Axes>"
      ]
     },
     "metadata": {},
     "output_type": "display_data"
    }
   ],
   "source": [
    "RF_cm = confusion_matrix(y_test, RF_pred)\n",
    "\n",
    "group_names = ['TN','FP','FN','TP']\n",
    "group_counts = [\"{0:0.0f}\".format(value) for value in\n",
    "                RF_cm.flatten()]\n",
    "labels = [f\"{v1}\\n{v2}\" for v1, v2 in\n",
    "          zip(group_names,group_counts)]\n",
    "labels = np.asarray(labels).reshape(2,2)\n",
    "sns.heatmap(RF_cm,annot=labels,fmt='')\n",
    "plt.title('RandomForest')\n",
    "plt.ylabel('True label',fontweight='bold')\n",
    "plt.xlabel('Predicted label',fontweight='bold')\n",
    "\n",
    "plt.savefig('C:/Users/kayle/Desktop/RF_confmatrix_county',dpi=300,bbox_inches='tight', transparent=True)"
   ]
  },
  {
   "cell_type": "code",
   "execution_count": 44,
   "id": "national-extent",
   "metadata": {},
   "outputs": [],
   "source": [
    "# #Hyperparameter Tuning for RF\n",
    "# # define parameters\n",
    "# n_estimators = [10, 100, 1000]\n",
    "# max_features = ['sqrt', 'log2']\n",
    "# # define models and parameters\n",
    "# model = RandomForestClassifier()\n",
    "# n_estimators = [10, 100, 1000]\n",
    "# max_features = ['sqrt', 'log2']\n",
    "# # define grid search\n",
    "# grid = dict(n_estimators=n_estimators,max_features=max_features)\n",
    "# cv = RepeatedStratifiedKFold(n_splits=10, n_repeats=3, random_state=1)\n",
    "# grid_search = GridSearchCV(estimator=model, param_grid=grid, n_jobs=-1, cv=cv, scoring='accuracy',error_score=0)\n",
    "# grid_result = grid_search.fit(X, Y)\n",
    "# # summarize results\n",
    "# print(\"Best: %f using %s\" % (grid_result.best_score_, grid_result.best_params_))\n",
    "# means = grid_result.cv_results_['mean_test_score']\n",
    "# stds = grid_result.cv_results_['std_test_score']\n",
    "# params = grid_result.cv_results_['params']\n",
    "# for mean, stdev, param in zip(means, stds, params):\n",
    "#     print(\"%f (%f) with: %r\" % (mean, stdev, param))"
   ]
  },
  {
   "cell_type": "markdown",
   "id": "secret-flash",
   "metadata": {},
   "source": [
    "# Suport Vector Machine"
   ]
  },
  {
   "cell_type": "code",
   "execution_count": 45,
   "id": "terminal-patch",
   "metadata": {},
   "outputs": [
    {
     "name": "stdout",
     "output_type": "stream",
     "text": [
      "              precision    recall  f1-score   support\n",
      "\n",
      "           0       0.96      1.00      0.98      8096\n",
      "           1       0.00      0.00      0.00       296\n",
      "\n",
      "    accuracy                           0.96      8392\n",
      "   macro avg       0.48      0.50      0.49      8392\n",
      "weighted avg       0.93      0.96      0.95      8392\n",
      "\n"
     ]
    }
   ],
   "source": [
    "X= data.drop(columns=['Class']).values\n",
    "Y = data['Class'].values\n",
    "scale= StandardScaler()\n",
    "X = scale.fit_transform(X) \n",
    "\n",
    "# 20% test 80% training data             \n",
    "X_train, X_test, y_train, y_test, = train_test_split(X, Y, test_size=0.2,random_state = 42)\n",
    "\n",
    "                                                                # 0.25 x 0.8 = 0.2 for validation data\n",
    "X_train, X_val, y_train, y_val, = train_test_split(X_train, y_train, test_size=0.25, random_state = 42) \n",
    "\n",
    "#X_train, X_test, y_train, y_test = train_test_split(X, Y, test_size = 0.25)\n",
    "\n",
    "# Fitting Kernel SVM to the Training set                            \n",
    "SVM = SVC(C= 10, gamma= 'scale', kernel= 'rbf')\n",
    "SVM.fit(X_train,y_train)\n",
    "\n",
    "#Predicting the Test Set\n",
    "SVM_pred = SVM.predict(X_test)\n",
    "print(classification_report(y_test, SVM_pred))"
   ]
  },
  {
   "cell_type": "code",
   "execution_count": 46,
   "id": "desperate-failure",
   "metadata": {},
   "outputs": [
    {
     "data": {
      "image/png": "[encoded data removed]",
      "text/plain": [
       "<Figure size 432x288 with 2 Axes>"
      ]
     },
     "metadata": {},
     "output_type": "display_data"
    }
   ],
   "source": [
    "#making confusing matrix\n",
    "SVM_cm = confusion_matrix(y_test, SVM_pred)\n",
    "group_names = ['TN','FP','FN','TP']\n",
    "group_counts = [\"{0:0.0f}\".format(value) for value in\n",
    "                SVM_cm.flatten()]\n",
    "labels = [f\"{v1}\\n{v2}\" for v1, v2 in\n",
    "          zip(group_names,group_counts)]\n",
    "labels = np.asarray(labels).reshape(2,2)\n",
    "sns.heatmap(SVM_cm,annot=labels,fmt='')\n",
    "plt.title('SUpport Vector Machine')\n",
    "plt.ylabel('True label',fontweight='bold')\n",
    "plt.xlabel('Predicted label',fontweight='bold')\n",
    "plt.savefig('C:/Users/kayle/Desktop/SVM_confmatrix_county',dpi=300,bbox_inches='tight', transparent=True)"
   ]
  },
  {
   "cell_type": "code",
   "execution_count": 47,
   "id": "injured-maryland",
   "metadata": {},
   "outputs": [
    {
     "data": {
      "text/plain": [
       "(array([0], dtype=int64), array([8391], dtype=int64))"
      ]
     },
     "execution_count": 47,
     "metadata": {},
     "output_type": "execute_result"
    }
   ],
   "source": [
    "# get prediction for X_val\n",
    "new_output = SVM.predict(X_val)\n",
    "np.unique(new_output,return_counts=True)"
   ]
  },
  {
   "cell_type": "code",
   "execution_count": 48,
   "id": "acquired-soundtrack",
   "metadata": {},
   "outputs": [
    {
     "data": {
      "text/plain": [
       "(array([0, 1], dtype=int64), array([8120,  271], dtype=int64))"
      ]
     },
     "execution_count": 48,
     "metadata": {},
     "output_type": "execute_result"
    }
   ],
   "source": [
    "np.unique(y_val,return_counts=True)"
   ]
  },
  {
   "cell_type": "code",
   "execution_count": 49,
   "id": "appreciated-grace",
   "metadata": {},
   "outputs": [],
   "source": [
    "# #Hyperparameter Tuning for SVM\n",
    "# # define model and parameters\n",
    "# model = SVC()\n",
    "# kernel = ['poly', 'rbf', 'sigmoid']\n",
    "# C = [50, 10, 1.0, 0.1, 0.01]\n",
    "# gamma = ['scale']\n",
    "# # define grid search\n",
    "# grid = dict(kernel=kernel,C=C,gamma=gamma)\n",
    "# cv = RepeatedStratifiedKFold(n_splits=10, n_repeats=3, random_state=1)\n",
    "# grid_search = GridSearchCV(estimator=model, param_grid=grid, n_jobs=-1, cv=cv, scoring='accuracy',error_score=0)\n",
    "# grid_result = grid_search.fit(X, Y)\n",
    "# # summarize results\n",
    "# print(\"Best: %f using %s\" % (grid_result.best_score_, grid_result.best_params_))\n",
    "# means = grid_result.cv_results_['mean_test_score']\n",
    "# stds = grid_result.cv_results_['std_test_score']\n",
    "# params = grid_result.cv_results_['params']\n",
    "# for mean, stdev, param in zip(means, stds, params):\n",
    "#     print(\"%f (%f) with: %r\" % (mean, stdev, param))"
   ]
  },
  {
   "cell_type": "markdown",
   "id": "detailed-engagement",
   "metadata": {},
   "source": [
    "# Nearal Networks"
   ]
  },
  {
   "cell_type": "code",
   "execution_count": 50,
   "id": "overhead-courtesy",
   "metadata": {},
   "outputs": [],
   "source": [
    "from sklearn.neural_network import MLPClassifier\n",
    "X= data.drop(columns=['Class']).values\n",
    "Y = data['Class'].values\n",
    "scale= StandardScaler()\n",
    "X = scale.fit_transform(X) \n",
    "\n",
    "# 20% test 80% training data             \n",
    "X_train, X_test, y_train, y_test, = train_test_split(X, Y, test_size=0.2,random_state = 42)\n",
    "\n",
    "                                                                # 0.25 x 0.8 = 0.2 for validation data\n",
    "X_train, X_val, y_train, y_val, = train_test_split(X_train, y_train, test_size=0.25, random_state = 42) \n",
    "\n",
    "mlp = MLPClassifier(hidden_layer_sizes=(8,8,8), activation='relu', solver='adam', max_iter=500)\n",
    "#mpl = MLPClassifier(activation= 'tanh', alpha= 0.0001, hidden_layer_sizes= (20,), learning_rate= 'adaptive', solver= 'sgd')\n",
    "mlp.fit(X_train,y_train)\n",
    "\n",
    "NN_pred_train = mlp.predict(X_train)\n",
    "NN_pred_test = mlp.predict(X_test)"
   ]
  },
  {
   "cell_type": "code",
   "execution_count": 51,
   "id": "outdoor-anthropology",
   "metadata": {},
   "outputs": [
    {
     "name": "stdout",
     "output_type": "stream",
     "text": [
      "              precision    recall  f1-score   support\n",
      "\n",
      "           0       0.96      1.00      0.98      8096\n",
      "           1       0.00      0.00      0.00       296\n",
      "\n",
      "    accuracy                           0.96      8392\n",
      "   macro avg       0.48      0.50      0.49      8392\n",
      "weighted avg       0.93      0.96      0.95      8392\n",
      "\n"
     ]
    }
   ],
   "source": [
    "print(classification_report(y_test,NN_pred_test))"
   ]
  },
  {
   "cell_type": "code",
   "execution_count": 52,
   "id": "strategic-oriental",
   "metadata": {},
   "outputs": [
    {
     "data": {
      "image/png": "[encoded data removed]",
      "text/plain": [
       "<Figure size 432x288 with 2 Axes>"
      ]
     },
     "metadata": {},
     "output_type": "display_data"
    }
   ],
   "source": [
    "#making confusing matrix\n",
    "NN_cm = confusion_matrix(y_test, NN_pred_test)\n",
    "group_names = ['TN','FP','FN','TP']\n",
    "group_counts = [\"{0:0.0f}\".format(value) for value in\n",
    "                NN_cm.flatten()]\n",
    "labels = [f\"{v1}\\n{v2}\" for v1, v2 in\n",
    "          zip(group_names,group_counts)]\n",
    "labels = np.asarray(labels).reshape(2,2)\n",
    "sns.heatmap(NN_cm,annot=labels,fmt='')\n",
    "plt.title('Neural Networks')\n",
    "plt.ylabel('True label',fontweight='bold')\n",
    "plt.xlabel('Predicted label',fontweight='bold')\n",
    "plt.savefig('C:/Users/kayle/Desktop/NN_confmatrix_county',dpi=300,bbox_inches='tight', transparent=True)"
   ]
  },
  {
   "cell_type": "code",
   "execution_count": 53,
   "id": "fresh-journalism",
   "metadata": {},
   "outputs": [],
   "source": [
    "# mlp_gs = MLPClassifier(max_iter=100)\n",
    "# parameter_space = {\n",
    "#     'hidden_layer_sizes': [(10,30,10),(20,)],\n",
    "#     'activation': ['tanh', 'relu'],\n",
    "#     'solver': ['sgd', 'adam'],\n",
    "#     'alpha': [0.0001, 0.05],\n",
    "#     'learning_rate': ['constant','adaptive'],\n",
    "# }\n",
    "# from sklearn.model_selection import GridSearchCV\n",
    "# clf = GridSearchCV(mlp_gs, parameter_space, n_jobs=-1, cv=5)\n",
    "# clf.fit(X, Y)"
   ]
  },
  {
   "cell_type": "code",
   "execution_count": 54,
   "id": "civic-pottery",
   "metadata": {},
   "outputs": [],
   "source": [
    "# print('Best parameters found:\\n', clf.best_params_)"
   ]
  },
  {
   "cell_type": "code",
   "execution_count": null,
   "id": "transsexual-message",
   "metadata": {},
   "outputs": [],
   "source": []
  }
 ],
 "metadata": {
  "kernelspec": {
   "display_name": "Python 3",
   "language": "python",
   "name": "python3"
  },
  "language_info": {
   "codemirror_mode": {
    "name": "ipython",
    "version": 3
   },
   "file_extension": ".py",
   "mimetype": "text/x-python",
   "name": "python",
   "nbconvert_exporter": "python",
   "pygments_lexer": "ipython3",
   "version": "3.7.9"
  }
 },
 "nbformat": 4,
 "nbformat_minor": 5
}
